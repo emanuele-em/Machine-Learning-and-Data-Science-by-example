{
 "cells": [
  {
   "cell_type": "markdown",
   "metadata": {},
   "source": [
    "# Dataset and Data Preprocessing\n",
    "\n",
    "Pandas is a useful python library for data manipulation"
   ]
  },
  {
   "cell_type": "code",
   "execution_count": 68,
   "metadata": {},
   "outputs": [
    {
     "data": {
      "text/html": [
       "<div>\n",
       "<style scoped>\n",
       "    .dataframe tbody tr th:only-of-type {\n",
       "        vertical-align: middle;\n",
       "    }\n",
       "\n",
       "    .dataframe tbody tr th {\n",
       "        vertical-align: top;\n",
       "    }\n",
       "\n",
       "    .dataframe thead th {\n",
       "        text-align: right;\n",
       "    }\n",
       "</style>\n",
       "<table border=\"1\" class=\"dataframe\">\n",
       "  <thead>\n",
       "    <tr style=\"text-align: right;\">\n",
       "      <th></th>\n",
       "      <th>sepal_length</th>\n",
       "      <th>sepal_width</th>\n",
       "      <th>petal_length</th>\n",
       "      <th>petal_width</th>\n",
       "      <th>species</th>\n",
       "    </tr>\n",
       "  </thead>\n",
       "  <tbody>\n",
       "    <tr>\n",
       "      <th>0</th>\n",
       "      <td>5.1</td>\n",
       "      <td>3.5</td>\n",
       "      <td>1.4</td>\n",
       "      <td>0.2</td>\n",
       "      <td>setosa</td>\n",
       "    </tr>\n",
       "    <tr>\n",
       "      <th>1</th>\n",
       "      <td>4.9</td>\n",
       "      <td>3.0</td>\n",
       "      <td>1.4</td>\n",
       "      <td>0.2</td>\n",
       "      <td>setosa</td>\n",
       "    </tr>\n",
       "    <tr>\n",
       "      <th>2</th>\n",
       "      <td>4.7</td>\n",
       "      <td>3.2</td>\n",
       "      <td>1.3</td>\n",
       "      <td>0.2</td>\n",
       "      <td>setosa</td>\n",
       "    </tr>\n",
       "    <tr>\n",
       "      <th>3</th>\n",
       "      <td>4.6</td>\n",
       "      <td>3.1</td>\n",
       "      <td>1.5</td>\n",
       "      <td>0.2</td>\n",
       "      <td>setosa</td>\n",
       "    </tr>\n",
       "    <tr>\n",
       "      <th>4</th>\n",
       "      <td>5.0</td>\n",
       "      <td>3.6</td>\n",
       "      <td>1.4</td>\n",
       "      <td>0.2</td>\n",
       "      <td>setosa</td>\n",
       "    </tr>\n",
       "  </tbody>\n",
       "</table>\n",
       "</div>"
      ],
      "text/plain": [
       "   sepal_length  sepal_width  petal_length  petal_width species\n",
       "0           5.1          3.5           1.4          0.2  setosa\n",
       "1           4.9          3.0           1.4          0.2  setosa\n",
       "2           4.7          3.2           1.3          0.2  setosa\n",
       "3           4.6          3.1           1.5          0.2  setosa\n",
       "4           5.0          3.6           1.4          0.2  setosa"
      ]
     },
     "execution_count": 68,
     "metadata": {},
     "output_type": "execute_result"
    }
   ],
   "source": [
    "import pandas as pd\n",
    "\n",
    "iris = pd.read_csv(\"data/iris.csv\") #read the csv file - default mode\n",
    "iris.head() #show first 5 dataset entries\n"
   ]
  },
  {
   "cell_type": "markdown",
   "metadata": {},
   "source": [
    "You can custom read a csv file with these parameters:\n",
    "- **header**: from which row you can get features\n",
    "- **names**: you can define property names with a custom dictionary\n",
    "- **sep**: you can specify the separator of the columns in the file\n",
    "\n",
    "Every property(column) in the dataframe is called _feature_"
   ]
  },
  {
   "cell_type": "code",
   "execution_count": 69,
   "metadata": {},
   "outputs": [
    {
     "data": {
      "text/html": [
       "<div>\n",
       "<style scoped>\n",
       "    .dataframe tbody tr th:only-of-type {\n",
       "        vertical-align: middle;\n",
       "    }\n",
       "\n",
       "    .dataframe tbody tr th {\n",
       "        vertical-align: top;\n",
       "    }\n",
       "\n",
       "    .dataframe thead th {\n",
       "        text-align: right;\n",
       "    }\n",
       "</style>\n",
       "<table border=\"1\" class=\"dataframe\">\n",
       "  <thead>\n",
       "    <tr style=\"text-align: right;\">\n",
       "      <th></th>\n",
       "      <th>sepal_length</th>\n",
       "      <th>sepal_width</th>\n",
       "      <th>petal_length</th>\n",
       "      <th>petal_width</th>\n",
       "      <th>species</th>\n",
       "    </tr>\n",
       "  </thead>\n",
       "  <tbody>\n",
       "    <tr>\n",
       "      <th>0</th>\n",
       "      <td>5.1</td>\n",
       "      <td>3.5</td>\n",
       "      <td>1.4</td>\n",
       "      <td>0.2</td>\n",
       "      <td>setosa</td>\n",
       "    </tr>\n",
       "    <tr>\n",
       "      <th>1</th>\n",
       "      <td>4.9</td>\n",
       "      <td>3.0</td>\n",
       "      <td>1.4</td>\n",
       "      <td>0.2</td>\n",
       "      <td>setosa</td>\n",
       "    </tr>\n",
       "    <tr>\n",
       "      <th>2</th>\n",
       "      <td>4.7</td>\n",
       "      <td>3.2</td>\n",
       "      <td>1.3</td>\n",
       "      <td>0.2</td>\n",
       "      <td>setosa</td>\n",
       "    </tr>\n",
       "    <tr>\n",
       "      <th>3</th>\n",
       "      <td>4.6</td>\n",
       "      <td>3.1</td>\n",
       "      <td>1.5</td>\n",
       "      <td>0.2</td>\n",
       "      <td>setosa</td>\n",
       "    </tr>\n",
       "    <tr>\n",
       "      <th>4</th>\n",
       "      <td>5.0</td>\n",
       "      <td>3.6</td>\n",
       "      <td>1.4</td>\n",
       "      <td>0.2</td>\n",
       "      <td>setosa</td>\n",
       "    </tr>\n",
       "  </tbody>\n",
       "</table>\n",
       "</div>"
      ],
      "text/plain": [
       "   sepal_length  sepal_width  petal_length  petal_width species\n",
       "0           5.1          3.5           1.4          0.2  setosa\n",
       "1           4.9          3.0           1.4          0.2  setosa\n",
       "2           4.7          3.2           1.3          0.2  setosa\n",
       "3           4.6          3.1           1.5          0.2  setosa\n",
       "4           5.0          3.6           1.4          0.2  setosa"
      ]
     },
     "execution_count": 69,
     "metadata": {},
     "output_type": "execute_result"
    }
   ],
   "source": [
    "iris = pd.read_csv(\"data/iris.csv\", sep=\",\", header=0, names=[\"sepal_length\",\"sepal_width\",\"petal_length\",\"petal_width\",\"species\"]) #read the csv file - default mode\n",
    "iris.head() #show first 5 dataset entries"
   ]
  },
  {
   "cell_type": "markdown",
   "metadata": {},
   "source": [
    "To show other usefull informations about the dataset:"
   ]
  },
  {
   "cell_type": "code",
   "execution_count": 70,
   "metadata": {},
   "outputs": [
    {
     "name": "stdout",
     "output_type": "stream",
     "text": [
      "<class 'pandas.core.frame.DataFrame'>\n",
      "RangeIndex: 150 entries, 0 to 149\n",
      "Data columns (total 5 columns):\n",
      " #   Column        Non-Null Count  Dtype  \n",
      "---  ------        --------------  -----  \n",
      " 0   sepal_length  150 non-null    float64\n",
      " 1   sepal_width   150 non-null    float64\n",
      " 2   petal_length  150 non-null    float64\n",
      " 3   petal_width   150 non-null    float64\n",
      " 4   species       150 non-null    object \n",
      "dtypes: float64(4), object(1)\n",
      "memory usage: 6.0+ KB\n"
     ]
    }
   ],
   "source": [
    "iris.columns #show all features\n",
    "iris.info() #other informations"
   ]
  },
  {
   "cell_type": "markdown",
   "metadata": {},
   "source": [
    "## Dataframe and Series\n",
    "A dataframe is composed by different _series_: another data type in Pandas. A serie is a simple mono dimensional array.\n",
    "\n",
    "You can get single serie with pandas by calling dataset with header title as a key"
   ]
  },
  {
   "cell_type": "code",
   "execution_count": 71,
   "metadata": {},
   "outputs": [
    {
     "data": {
      "text/plain": [
       "0    setosa\n",
       "1    setosa\n",
       "2    setosa\n",
       "3    setosa\n",
       "4    setosa\n",
       "Name: species, dtype: object"
      ]
     },
     "execution_count": 71,
     "metadata": {},
     "output_type": "execute_result"
    }
   ],
   "source": [
    "Y = iris['species']\n",
    "Y.head()"
   ]
  },
  {
   "cell_type": "markdown",
   "metadata": {},
   "source": [
    "You can obtain same goal by calling dataset with keys array "
   ]
  },
  {
   "cell_type": "code",
   "execution_count": 72,
   "metadata": {},
   "outputs": [
    {
     "data": {
      "text/html": [
       "<div>\n",
       "<style scoped>\n",
       "    .dataframe tbody tr th:only-of-type {\n",
       "        vertical-align: middle;\n",
       "    }\n",
       "\n",
       "    .dataframe tbody tr th {\n",
       "        vertical-align: top;\n",
       "    }\n",
       "\n",
       "    .dataframe thead th {\n",
       "        text-align: right;\n",
       "    }\n",
       "</style>\n",
       "<table border=\"1\" class=\"dataframe\">\n",
       "  <thead>\n",
       "    <tr style=\"text-align: right;\">\n",
       "      <th></th>\n",
       "      <th>sepal_length</th>\n",
       "      <th>sepal_width</th>\n",
       "      <th>petal_length</th>\n",
       "      <th>petal_width</th>\n",
       "      <th>species</th>\n",
       "    </tr>\n",
       "  </thead>\n",
       "  <tbody>\n",
       "    <tr>\n",
       "      <th>0</th>\n",
       "      <td>5.1</td>\n",
       "      <td>3.5</td>\n",
       "      <td>1.4</td>\n",
       "      <td>0.2</td>\n",
       "      <td>setosa</td>\n",
       "    </tr>\n",
       "    <tr>\n",
       "      <th>1</th>\n",
       "      <td>4.9</td>\n",
       "      <td>3.0</td>\n",
       "      <td>1.4</td>\n",
       "      <td>0.2</td>\n",
       "      <td>setosa</td>\n",
       "    </tr>\n",
       "    <tr>\n",
       "      <th>2</th>\n",
       "      <td>4.7</td>\n",
       "      <td>3.2</td>\n",
       "      <td>1.3</td>\n",
       "      <td>0.2</td>\n",
       "      <td>setosa</td>\n",
       "    </tr>\n",
       "    <tr>\n",
       "      <th>3</th>\n",
       "      <td>4.6</td>\n",
       "      <td>3.1</td>\n",
       "      <td>1.5</td>\n",
       "      <td>0.2</td>\n",
       "      <td>setosa</td>\n",
       "    </tr>\n",
       "    <tr>\n",
       "      <th>4</th>\n",
       "      <td>5.0</td>\n",
       "      <td>3.6</td>\n",
       "      <td>1.4</td>\n",
       "      <td>0.2</td>\n",
       "      <td>setosa</td>\n",
       "    </tr>\n",
       "  </tbody>\n",
       "</table>\n",
       "</div>"
      ],
      "text/plain": [
       "   sepal_length  sepal_width  petal_length  petal_width species\n",
       "0           5.1          3.5           1.4          0.2  setosa\n",
       "1           4.9          3.0           1.4          0.2  setosa\n",
       "2           4.7          3.2           1.3          0.2  setosa\n",
       "3           4.6          3.1           1.5          0.2  setosa\n",
       "4           5.0          3.6           1.4          0.2  setosa"
      ]
     },
     "execution_count": 72,
     "metadata": {},
     "output_type": "execute_result"
    }
   ],
   "source": [
    "X = iris[[\"sepal_length\", \"sepal_width\", \"petal_length\", \"petal_width\", \"species\"]]\n",
    "X.head()"
   ]
  },
  {
   "cell_type": "markdown",
   "metadata": {},
   "source": [
    "the main difference between series and dataframe is the header, in  a serie header there isn't a title, in this example you should remove _species_ column in a different way: by dropping it:"
   ]
  },
  {
   "cell_type": "code",
   "execution_count": 73,
   "metadata": {},
   "outputs": [
    {
     "data": {
      "text/html": [
       "<div>\n",
       "<style scoped>\n",
       "    .dataframe tbody tr th:only-of-type {\n",
       "        vertical-align: middle;\n",
       "    }\n",
       "\n",
       "    .dataframe tbody tr th {\n",
       "        vertical-align: top;\n",
       "    }\n",
       "\n",
       "    .dataframe thead th {\n",
       "        text-align: right;\n",
       "    }\n",
       "</style>\n",
       "<table border=\"1\" class=\"dataframe\">\n",
       "  <thead>\n",
       "    <tr style=\"text-align: right;\">\n",
       "      <th></th>\n",
       "      <th>sepal_length</th>\n",
       "      <th>sepal_width</th>\n",
       "      <th>petal_length</th>\n",
       "      <th>petal_width</th>\n",
       "    </tr>\n",
       "  </thead>\n",
       "  <tbody>\n",
       "    <tr>\n",
       "      <th>0</th>\n",
       "      <td>5.1</td>\n",
       "      <td>3.5</td>\n",
       "      <td>1.4</td>\n",
       "      <td>0.2</td>\n",
       "    </tr>\n",
       "    <tr>\n",
       "      <th>1</th>\n",
       "      <td>4.9</td>\n",
       "      <td>3.0</td>\n",
       "      <td>1.4</td>\n",
       "      <td>0.2</td>\n",
       "    </tr>\n",
       "    <tr>\n",
       "      <th>2</th>\n",
       "      <td>4.7</td>\n",
       "      <td>3.2</td>\n",
       "      <td>1.3</td>\n",
       "      <td>0.2</td>\n",
       "    </tr>\n",
       "    <tr>\n",
       "      <th>3</th>\n",
       "      <td>4.6</td>\n",
       "      <td>3.1</td>\n",
       "      <td>1.5</td>\n",
       "      <td>0.2</td>\n",
       "    </tr>\n",
       "    <tr>\n",
       "      <th>4</th>\n",
       "      <td>5.0</td>\n",
       "      <td>3.6</td>\n",
       "      <td>1.4</td>\n",
       "      <td>0.2</td>\n",
       "    </tr>\n",
       "  </tbody>\n",
       "</table>\n",
       "</div>"
      ],
      "text/plain": [
       "   sepal_length  sepal_width  petal_length  petal_width\n",
       "0           5.1          3.5           1.4          0.2\n",
       "1           4.9          3.0           1.4          0.2\n",
       "2           4.7          3.2           1.3          0.2\n",
       "3           4.6          3.1           1.5          0.2\n",
       "4           5.0          3.6           1.4          0.2"
      ]
     },
     "execution_count": 73,
     "metadata": {},
     "output_type": "execute_result"
    }
   ],
   "source": [
    "X = iris.drop('species', axis=1) #with axis=1 you remove a column, in this case you want to remove species and so it make sense \n",
    "X.head()"
   ]
  },
  {
   "cell_type": "markdown",
   "metadata": {},
   "source": [
    "## Selection and editing of data\n",
    "\n",
    "with _loc_ or _iloc_ method you can slicing data:"
   ]
  },
  {
   "cell_type": "code",
   "execution_count": 74,
   "metadata": {},
   "outputs": [
    {
     "data": {
      "text/plain": [
       "0    1.4\n",
       "1    1.4\n",
       "2    1.3\n",
       "3    1.5\n",
       "4    1.4\n",
       "Name: petal_length, dtype: float64"
      ]
     },
     "execution_count": 74,
     "metadata": {},
     "output_type": "execute_result"
    }
   ],
   "source": [
    "iris.loc[10] #select the row with index 10\n",
    "iris.loc[:5, 'petal_length'] #select first 5 index rows (only feature petal_l) \n",
    "iris.iloc[10] #select the row in position 10 (not with index 10)\n",
    "iris.iloc[:5, 2] #select first 5 rows (only second feature -> petal_l)"
   ]
  },
  {
   "cell_type": "markdown",
   "metadata": {},
   "source": [
    "You can also randomize dataframe with _sample_ function:\n",
    "- **n**: number of items from axis to return\n",
    "- **frac**: fraction of axis items to return (not compatible with _n_)\n",
    "- **weights**: default _none_, series of weights for every column\n",
    "- **random_state**: if you pass a int it will be the seed for the pseudo number generator\n",
    "- **axis**: 1 for column, 0 for index\n",
    "- **ignore_index**: if True the resulting index will be labeled in 0,1...n-1"
   ]
  },
  {
   "cell_type": "code",
   "execution_count": 75,
   "metadata": {},
   "outputs": [],
   "source": [
    "\n",
    "iris_sampled = iris.sample(frac=1, random_state=0) #randomize order of dataset"
   ]
  },
  {
   "cell_type": "markdown",
   "metadata": {},
   "source": [
    "To avoid to edit original dataset you can copy it with:"
   ]
  },
  {
   "cell_type": "code",
   "execution_count": 76,
   "metadata": {},
   "outputs": [],
   "source": [
    "iris_copy = iris.copy() #copy dataset"
   ]
  },
  {
   "cell_type": "markdown",
   "metadata": {},
   "source": [
    "### Stats"
   ]
  },
  {
   "cell_type": "code",
   "execution_count": 77,
   "metadata": {},
   "outputs": [
    {
     "data": {
      "text/plain": [
       "(150, 5)"
      ]
     },
     "execution_count": 77,
     "metadata": {},
     "output_type": "execute_result"
    }
   ],
   "source": [
    "iris.shape #dataset size\n"
   ]
  },
  {
   "cell_type": "code",
   "execution_count": 78,
   "metadata": {},
   "outputs": [
    {
     "data": {
      "text/html": [
       "<div>\n",
       "<style scoped>\n",
       "    .dataframe tbody tr th:only-of-type {\n",
       "        vertical-align: middle;\n",
       "    }\n",
       "\n",
       "    .dataframe tbody tr th {\n",
       "        vertical-align: top;\n",
       "    }\n",
       "\n",
       "    .dataframe thead th {\n",
       "        text-align: right;\n",
       "    }\n",
       "</style>\n",
       "<table border=\"1\" class=\"dataframe\">\n",
       "  <thead>\n",
       "    <tr style=\"text-align: right;\">\n",
       "      <th></th>\n",
       "      <th>sepal_length</th>\n",
       "      <th>sepal_width</th>\n",
       "      <th>petal_length</th>\n",
       "      <th>petal_width</th>\n",
       "    </tr>\n",
       "  </thead>\n",
       "  <tbody>\n",
       "    <tr>\n",
       "      <th>count</th>\n",
       "      <td>150.000000</td>\n",
       "      <td>150.000000</td>\n",
       "      <td>150.000000</td>\n",
       "      <td>150.000000</td>\n",
       "    </tr>\n",
       "    <tr>\n",
       "      <th>mean</th>\n",
       "      <td>5.843333</td>\n",
       "      <td>3.054000</td>\n",
       "      <td>3.758667</td>\n",
       "      <td>1.198667</td>\n",
       "    </tr>\n",
       "    <tr>\n",
       "      <th>std</th>\n",
       "      <td>0.828066</td>\n",
       "      <td>0.433594</td>\n",
       "      <td>1.764420</td>\n",
       "      <td>0.763161</td>\n",
       "    </tr>\n",
       "    <tr>\n",
       "      <th>min</th>\n",
       "      <td>4.300000</td>\n",
       "      <td>2.000000</td>\n",
       "      <td>1.000000</td>\n",
       "      <td>0.100000</td>\n",
       "    </tr>\n",
       "    <tr>\n",
       "      <th>25%</th>\n",
       "      <td>5.100000</td>\n",
       "      <td>2.800000</td>\n",
       "      <td>1.600000</td>\n",
       "      <td>0.300000</td>\n",
       "    </tr>\n",
       "    <tr>\n",
       "      <th>50%</th>\n",
       "      <td>5.800000</td>\n",
       "      <td>3.000000</td>\n",
       "      <td>4.350000</td>\n",
       "      <td>1.300000</td>\n",
       "    </tr>\n",
       "    <tr>\n",
       "      <th>75%</th>\n",
       "      <td>6.400000</td>\n",
       "      <td>3.300000</td>\n",
       "      <td>5.100000</td>\n",
       "      <td>1.800000</td>\n",
       "    </tr>\n",
       "    <tr>\n",
       "      <th>max</th>\n",
       "      <td>7.900000</td>\n",
       "      <td>4.400000</td>\n",
       "      <td>6.900000</td>\n",
       "      <td>2.500000</td>\n",
       "    </tr>\n",
       "  </tbody>\n",
       "</table>\n",
       "</div>"
      ],
      "text/plain": [
       "       sepal_length  sepal_width  petal_length  petal_width\n",
       "count    150.000000   150.000000    150.000000   150.000000\n",
       "mean       5.843333     3.054000      3.758667     1.198667\n",
       "std        0.828066     0.433594      1.764420     0.763161\n",
       "min        4.300000     2.000000      1.000000     0.100000\n",
       "25%        5.100000     2.800000      1.600000     0.300000\n",
       "50%        5.800000     3.000000      4.350000     1.300000\n",
       "75%        6.400000     3.300000      5.100000     1.800000\n",
       "max        7.900000     4.400000      6.900000     2.500000"
      ]
     },
     "execution_count": 78,
     "metadata": {},
     "output_type": "execute_result"
    }
   ],
   "source": [
    "\n",
    "iris.describe() #some statistical informations\n"
   ]
  },
  {
   "cell_type": "markdown",
   "metadata": {},
   "source": [
    "## Masks and filters"
   ]
  },
  {
   "cell_type": "code",
   "execution_count": 79,
   "metadata": {},
   "outputs": [
    {
     "data": {
      "text/html": [
       "<div>\n",
       "<style scoped>\n",
       "    .dataframe tbody tr th:only-of-type {\n",
       "        vertical-align: middle;\n",
       "    }\n",
       "\n",
       "    .dataframe tbody tr th {\n",
       "        vertical-align: top;\n",
       "    }\n",
       "\n",
       "    .dataframe thead th {\n",
       "        text-align: right;\n",
       "    }\n",
       "</style>\n",
       "<table border=\"1\" class=\"dataframe\">\n",
       "  <thead>\n",
       "    <tr style=\"text-align: right;\">\n",
       "      <th></th>\n",
       "      <th>sepal_length</th>\n",
       "      <th>sepal_width</th>\n",
       "      <th>petal_length</th>\n",
       "      <th>petal_width</th>\n",
       "      <th>species</th>\n",
       "    </tr>\n",
       "  </thead>\n",
       "  <tbody>\n",
       "    <tr>\n",
       "      <th>50</th>\n",
       "      <td>7.0</td>\n",
       "      <td>3.2</td>\n",
       "      <td>4.7</td>\n",
       "      <td>1.4</td>\n",
       "      <td>versicolor</td>\n",
       "    </tr>\n",
       "    <tr>\n",
       "      <th>51</th>\n",
       "      <td>6.4</td>\n",
       "      <td>3.2</td>\n",
       "      <td>4.5</td>\n",
       "      <td>1.5</td>\n",
       "      <td>versicolor</td>\n",
       "    </tr>\n",
       "    <tr>\n",
       "      <th>52</th>\n",
       "      <td>6.9</td>\n",
       "      <td>3.1</td>\n",
       "      <td>4.9</td>\n",
       "      <td>1.5</td>\n",
       "      <td>versicolor</td>\n",
       "    </tr>\n",
       "    <tr>\n",
       "      <th>53</th>\n",
       "      <td>5.5</td>\n",
       "      <td>2.3</td>\n",
       "      <td>4.0</td>\n",
       "      <td>1.3</td>\n",
       "      <td>versicolor</td>\n",
       "    </tr>\n",
       "    <tr>\n",
       "      <th>54</th>\n",
       "      <td>6.5</td>\n",
       "      <td>2.8</td>\n",
       "      <td>4.6</td>\n",
       "      <td>1.5</td>\n",
       "      <td>versicolor</td>\n",
       "    </tr>\n",
       "  </tbody>\n",
       "</table>\n",
       "</div>"
      ],
      "text/plain": [
       "    sepal_length  sepal_width  petal_length  petal_width     species\n",
       "50           7.0          3.2           4.7          1.4  versicolor\n",
       "51           6.4          3.2           4.5          1.5  versicolor\n",
       "52           6.9          3.1           4.9          1.5  versicolor\n",
       "53           5.5          2.3           4.0          1.3  versicolor\n",
       "54           6.5          2.8           4.6          1.5  versicolor"
      ]
     },
     "execution_count": 79,
     "metadata": {},
     "output_type": "execute_result"
    }
   ],
   "source": [
    "long_petal_mask = iris['petal_length'] > iris['petal_length'].mean() #this is the mask, a series of boolean values with true where conditions is true and false where condition is false\n",
    "iris_long_petal = iris[long_petal_mask] # when you pass a boolean series of index to an array it returns only elements where index is true -> basically a mask\n",
    "iris_long_petal.head()"
   ]
  },
  {
   "cell_type": "markdown",
   "metadata": {},
   "source": [
    "You can also edit dataframe conditionally with mask:"
   ]
  },
  {
   "cell_type": "code",
   "execution_count": 80,
   "metadata": {},
   "outputs": [
    {
     "data": {
      "text/plain": [
       "array(['undefined', 'versicolor', 'virginica'], dtype=object)"
      ]
     },
     "execution_count": 80,
     "metadata": {},
     "output_type": "execute_result"
    }
   ],
   "source": [
    "iris_copy = iris.copy()\n",
    "setosa_mask = iris['species'] == 'setosa' #mask\n",
    "iris_copy.loc[setosa_mask, 'species'] = \"undefined\" #assign undefined where specie is setosa\n",
    "iris_copy['species'].unique()"
   ]
  },
  {
   "cell_type": "markdown",
   "metadata": {},
   "source": [
    "### Visualization wiht Matplotlib\n",
    "\n",
    "Plot has a lot of parameters and allow you to print charts on the page:\n",
    "\t\n",
    "- data : DataFrame\n",
    "- x : label or position, default None\n",
    "- y : label, position or list of label, positions, default None, Allows plotting of one column versus another\n",
    "- kind : str \n",
    "    - *line* : line plot (default)\n",
    "    - *bar* : vertical bar plot\n",
    "    - *barh* : horizontal bar plot\n",
    "    - *hist* : histogram\n",
    "    - *box* : boxplot\n",
    "    - *kde* : Kernel Density Estimation plot\n",
    "    - *density* : same as *kde*\n",
    "    - *area* : area plot\n",
    "    - *pie* : pie plot\n",
    "    - *scatter* : scatter plot\n",
    "    - *hexbin* : hexbin plot\n",
    " \n",
    "- ax : matplotlib axes object, default None\n",
    "- subplots : boolean, default False, Make separate subplots for each column\n",
    "- sharex : boolean, default True if ax is None else False. In case subplots=True, share x axis and set some x axis labels to invisible; defaults to True if ax is None otherwise False if an ax is passed in; Be aware, that passing in both an ax and sharex=True will alter all x axis labels for all axis in a figure!\n",
    "- sharey : boolean, default False. In case subplots=True, share y axis and set some y axis labels to invisible\n",
    "- layout : tuple (optional). (rows, columns) for the layout of subplots\n",
    "- figsize : a tuple (width, height) in inches\n",
    "- use_index : boolean, default True. Use index as ticks for x axis\n",
    "- title : string or list, Title to use for the plot. If a string is passed, print the string at the top of the figure. If a list is passed and subplots is True, print each item in the list above the corresponding subplot.\n",
    "- grid : boolean, default None (matlab style default) Axis grid lines\n",
    "- legend : False/True/’reverse’. Place legend on axis subplots\n",
    "- style : list or dict. matplotlib line style per column\n",
    "- logx : boolean, default False. Use log scaling on x axis\n",
    "- logy : boolean, default False. Use log scaling on y axis\n",
    "- loglog : boolean, default False. Use log scaling on both x and y axes\n",
    "- xticks : sequence. Values to use for the xticks\n",
    "- yticks : sequence. Values to use for the yticks\n",
    "- xlim : 2-tuple/list\n",
    "- ylim : 2-tuple/list\n",
    "- rot : int, default None. Rotation for ticks (xticks for vertical, yticks for horizontal plots)\n",
    "- fontsize : int, default None. Font size for xticks and yticks\n",
    "- colormap : str or matplotlib colormap object, default None. Colormap to select colors from. If string, load colormap with that name from matplotlib.\n",
    "- colorbar : boolean, optional. If True, plot colorbar (only relevant for ‘scatter’ and ‘hexbin’ plots)\n",
    "- position : float. Specify relative alignments for bar plot layout. From 0 (left/bottom-end) to 1 (right/top-end). Default is 0.5 (center)\n",
    "- table : boolean, Series or DataFrame, default False. If True, draw a table using the data in the DataFrame and the data will be transposed to meet matplotlib’s default layout. If a Series or DataFrame is passed, use passed data to draw a table.\n",
    "- yerr : DataFrame, Series, array-like, dict and str. See Plotting with Error Bars for detail.\n",
    "- xerr : same types as yerr.\n",
    "- stacked : boolean, default False in line and bar plots, and True in area plot. If True, create stacked plot.\n",
    "- sort_columns : boolean, default False. Sort column names to determine plot ordering\n",
    "- secondary_y : boolean or sequence, default False. Whether to plot on the secondary y-axis If a list/tuple, which columns to plot on secondary y-axis\n",
    "- mark_right : boolean, default True. When using a secondary_y axis, automatically mark the column labels with “(right)” in the legend\n",
    "- **kwds : keywords. Options to pass to matplotlib plotting method"
   ]
  },
  {
   "cell_type": "code",
   "execution_count": 81,
   "metadata": {},
   "outputs": [
    {
     "data": {
      "text/plain": [
       "<AxesSubplot:xlabel='sepal_length', ylabel='sepal_width'>"
      ]
     },
     "execution_count": 81,
     "metadata": {},
     "output_type": "execute_result"
    },
    {
     "data": {
      "image/png": "[encoded data removed]",
      "text/plain": [
       "<Figure size 432x288 with 1 Axes>"
      ]
     },
     "metadata": {
      "needs_background": "light"
     },
     "output_type": "display_data"
    }
   ],
   "source": [
    "import matplotlib.pyplot as plt\n",
    "\n",
    "iris_2feats = iris[['sepal_length','sepal_width']]\n",
    "iris_2feats.plot(kind=\"scatter\", x='sepal_length',y='sepal_width')"
   ]
  },
  {
   "cell_type": "markdown",
   "metadata": {},
   "source": [
    "## Operations on dataset"
   ]
  },
  {
   "cell_type": "code",
   "execution_count": 82,
   "metadata": {},
   "outputs": [
    {
     "data": {
      "text/html": [
       "<div>\n",
       "<style scoped>\n",
       "    .dataframe tbody tr th:only-of-type {\n",
       "        vertical-align: middle;\n",
       "    }\n",
       "\n",
       "    .dataframe tbody tr th {\n",
       "        vertical-align: top;\n",
       "    }\n",
       "\n",
       "    .dataframe thead th {\n",
       "        text-align: right;\n",
       "    }\n",
       "</style>\n",
       "<table border=\"1\" class=\"dataframe\">\n",
       "  <thead>\n",
       "    <tr style=\"text-align: right;\">\n",
       "      <th></th>\n",
       "      <th>sepal_length</th>\n",
       "      <th>sepal_width</th>\n",
       "      <th>petal_length</th>\n",
       "      <th>petal_width</th>\n",
       "    </tr>\n",
       "  </thead>\n",
       "  <tbody>\n",
       "    <tr>\n",
       "      <th>0</th>\n",
       "      <td>0.222222</td>\n",
       "      <td>0.625000</td>\n",
       "      <td>0.067797</td>\n",
       "      <td>0.041667</td>\n",
       "    </tr>\n",
       "    <tr>\n",
       "      <th>1</th>\n",
       "      <td>0.166667</td>\n",
       "      <td>0.416667</td>\n",
       "      <td>0.067797</td>\n",
       "      <td>0.041667</td>\n",
       "    </tr>\n",
       "    <tr>\n",
       "      <th>2</th>\n",
       "      <td>0.111111</td>\n",
       "      <td>0.500000</td>\n",
       "      <td>0.050847</td>\n",
       "      <td>0.041667</td>\n",
       "    </tr>\n",
       "    <tr>\n",
       "      <th>3</th>\n",
       "      <td>0.083333</td>\n",
       "      <td>0.458333</td>\n",
       "      <td>0.084746</td>\n",
       "      <td>0.041667</td>\n",
       "    </tr>\n",
       "    <tr>\n",
       "      <th>4</th>\n",
       "      <td>0.194444</td>\n",
       "      <td>0.666667</td>\n",
       "      <td>0.067797</td>\n",
       "      <td>0.041667</td>\n",
       "    </tr>\n",
       "  </tbody>\n",
       "</table>\n",
       "</div>"
      ],
      "text/plain": [
       "   sepal_length  sepal_width  petal_length  petal_width\n",
       "0      0.222222     0.625000      0.067797     0.041667\n",
       "1      0.166667     0.416667      0.067797     0.041667\n",
       "2      0.111111     0.500000      0.050847     0.041667\n",
       "3      0.083333     0.458333      0.084746     0.041667\n",
       "4      0.194444     0.666667      0.067797     0.041667"
      ]
     },
     "execution_count": 82,
     "metadata": {},
     "output_type": "execute_result"
    }
   ],
   "source": [
    "X = iris.drop('species',axis=1)\n",
    "X_norm = (X - X.min())/(X.max()-X.min())  #min max normalization\n",
    "X_norm.head()"
   ]
  },
  {
   "cell_type": "code",
   "execution_count": 83,
   "metadata": {},
   "outputs": [
    {
     "data": {
      "text/html": [
       "<div>\n",
       "<style scoped>\n",
       "    .dataframe tbody tr th:only-of-type {\n",
       "        vertical-align: middle;\n",
       "    }\n",
       "\n",
       "    .dataframe tbody tr th {\n",
       "        vertical-align: top;\n",
       "    }\n",
       "\n",
       "    .dataframe thead th {\n",
       "        text-align: right;\n",
       "    }\n",
       "</style>\n",
       "<table border=\"1\" class=\"dataframe\">\n",
       "  <thead>\n",
       "    <tr style=\"text-align: right;\">\n",
       "      <th></th>\n",
       "      <th>sepal_length</th>\n",
       "      <th>sepal_width</th>\n",
       "      <th>petal_length</th>\n",
       "      <th>petal_width</th>\n",
       "      <th>species</th>\n",
       "    </tr>\n",
       "  </thead>\n",
       "  <tbody>\n",
       "    <tr>\n",
       "      <th>22</th>\n",
       "      <td>4.6</td>\n",
       "      <td>3.6</td>\n",
       "      <td>1.0</td>\n",
       "      <td>0.2</td>\n",
       "      <td>setosa</td>\n",
       "    </tr>\n",
       "    <tr>\n",
       "      <th>13</th>\n",
       "      <td>4.3</td>\n",
       "      <td>3.0</td>\n",
       "      <td>1.1</td>\n",
       "      <td>0.1</td>\n",
       "      <td>setosa</td>\n",
       "    </tr>\n",
       "    <tr>\n",
       "      <th>14</th>\n",
       "      <td>5.8</td>\n",
       "      <td>4.0</td>\n",
       "      <td>1.2</td>\n",
       "      <td>0.2</td>\n",
       "      <td>setosa</td>\n",
       "    </tr>\n",
       "    <tr>\n",
       "      <th>35</th>\n",
       "      <td>5.0</td>\n",
       "      <td>3.2</td>\n",
       "      <td>1.2</td>\n",
       "      <td>0.2</td>\n",
       "      <td>setosa</td>\n",
       "    </tr>\n",
       "    <tr>\n",
       "      <th>36</th>\n",
       "      <td>5.5</td>\n",
       "      <td>3.5</td>\n",
       "      <td>1.3</td>\n",
       "      <td>0.2</td>\n",
       "      <td>setosa</td>\n",
       "    </tr>\n",
       "  </tbody>\n",
       "</table>\n",
       "</div>"
      ],
      "text/plain": [
       "    sepal_length  sepal_width  petal_length  petal_width species\n",
       "22           4.6          3.6           1.0          0.2  setosa\n",
       "13           4.3          3.0           1.1          0.1  setosa\n",
       "14           5.8          4.0           1.2          0.2  setosa\n",
       "35           5.0          3.2           1.2          0.2  setosa\n",
       "36           5.5          3.5           1.3          0.2  setosa"
      ]
     },
     "execution_count": 83,
     "metadata": {},
     "output_type": "execute_result"
    }
   ],
   "source": [
    "iris.sort_values('petal_length').head() #sort ascending, to descending use parameter ascending=False"
   ]
  },
  {
   "cell_type": "code",
   "execution_count": 84,
   "metadata": {},
   "outputs": [
    {
     "data": {
      "text/html": [
       "<div>\n",
       "<style scoped>\n",
       "    .dataframe tbody tr th:only-of-type {\n",
       "        vertical-align: middle;\n",
       "    }\n",
       "\n",
       "    .dataframe tbody tr th {\n",
       "        vertical-align: top;\n",
       "    }\n",
       "\n",
       "    .dataframe thead th {\n",
       "        text-align: right;\n",
       "    }\n",
       "</style>\n",
       "<table border=\"1\" class=\"dataframe\">\n",
       "  <thead>\n",
       "    <tr style=\"text-align: right;\">\n",
       "      <th></th>\n",
       "      <th>sepal_length</th>\n",
       "      <th>sepal_width</th>\n",
       "      <th>petal_length</th>\n",
       "      <th>petal_width</th>\n",
       "    </tr>\n",
       "    <tr>\n",
       "      <th>species</th>\n",
       "      <th></th>\n",
       "      <th></th>\n",
       "      <th></th>\n",
       "      <th></th>\n",
       "    </tr>\n",
       "  </thead>\n",
       "  <tbody>\n",
       "    <tr>\n",
       "      <th>setosa</th>\n",
       "      <td>5.006</td>\n",
       "      <td>3.418</td>\n",
       "      <td>1.464</td>\n",
       "      <td>0.244</td>\n",
       "    </tr>\n",
       "    <tr>\n",
       "      <th>versicolor</th>\n",
       "      <td>5.936</td>\n",
       "      <td>2.770</td>\n",
       "      <td>4.260</td>\n",
       "      <td>1.326</td>\n",
       "    </tr>\n",
       "    <tr>\n",
       "      <th>virginica</th>\n",
       "      <td>6.588</td>\n",
       "      <td>2.974</td>\n",
       "      <td>5.552</td>\n",
       "      <td>2.026</td>\n",
       "    </tr>\n",
       "  </tbody>\n",
       "</table>\n",
       "</div>"
      ],
      "text/plain": [
       "            sepal_length  sepal_width  petal_length  petal_width\n",
       "species                                                         \n",
       "setosa             5.006        3.418         1.464        0.244\n",
       "versicolor         5.936        2.770         4.260        1.326\n",
       "virginica          6.588        2.974         5.552        2.026"
      ]
     },
     "execution_count": 84,
     "metadata": {},
     "output_type": "execute_result"
    }
   ],
   "source": [
    "grouped_species = iris.groupby(['species']) # group by species\n",
    "grouped_species.mean()"
   ]
  },
  {
   "cell_type": "markdown",
   "metadata": {},
   "source": [
    "If you have invalid data inside a dataset. With Pandas you can fix it:"
   ]
  },
  {
   "cell_type": "code",
   "execution_count": 85,
   "metadata": {},
   "outputs": [
    {
     "data": {
      "text/plain": [
       "10"
      ]
     },
     "execution_count": 85,
     "metadata": {},
     "output_type": "execute_result"
    }
   ],
   "source": [
    "import numpy as np #ignore it for the moment, only to create random array\n",
    "\n",
    "iris_nan = iris.copy()\n",
    "\n",
    "n_val = iris.shape[0] #shape return array (n_index, n_features), we need number of indexes\n",
    "samples = np.random.randint(n_val, size=(10)) #we create a random 10 elements array with each value between 0 and n_val -> only to random select 10 elements\n",
    "\n",
    "iris_nan.loc[samples,'petal_length']=None #we replace 10 random petal length values with a None value\n",
    "\n",
    "iris_nan['petal_length'].isnull().sum() #we count None element in iris_nan -> 10 of course"
   ]
  },
  {
   "cell_type": "markdown",
   "metadata": {},
   "source": [
    "Now we can fix invalid elements, we replace NaN values with the average value of the dataset to avoid perturbing the statistic, *fillna(value=None, method=None, axis=None, inplace=False, limit=None, downcast=None)* fill na or NaN values:\n",
    "- **value**: value used to fill\n",
    "- **method**: *{‘backfill’, ‘bfill’, ‘pad’, ‘ffill’, None}, default None*\n",
    "- **axis**: *{0 or ‘index’, 1 or ‘columns’}*\n",
    "- **inplace**: True or False, if True fill-in-place\n",
    "- **limit**: If method is specified, this is the maximum number of consecutive NaN values to forward/backward fill\n",
    "- **downcast**: A dict of item->dtype of what to downcast if possible\n",
    "- return dataframe or not -> depending on *inplace*"
   ]
  },
  {
   "cell_type": "code",
   "execution_count": 86,
   "metadata": {},
   "outputs": [
    {
     "data": {
      "text/plain": [
       "0"
      ]
     },
     "execution_count": 86,
     "metadata": {},
     "output_type": "execute_result"
    }
   ],
   "source": [
    "mean_petal_length = iris_nan['petal_length'].mean()\n",
    "iris_nan['petal_length'].fillna(mean_petal_length, inplace=True) # fillna fill na or NaN values \n",
    "iris_nan['petal_length'].isnull().sum() #check invalid values"
   ]
  },
  {
   "cell_type": "markdown",
   "metadata": {},
   "source": [
    "We can do operations on row or column with *apply* method, first argument must be function to apply"
   ]
  },
  {
   "cell_type": "code",
   "execution_count": 87,
   "metadata": {},
   "outputs": [
    {
     "data": {
      "text/plain": [
       "0    5\n",
       "1    5\n",
       "2    5\n",
       "3    5\n",
       "4    5\n",
       "dtype: int64"
      ]
     },
     "execution_count": 87,
     "metadata": {},
     "output_type": "execute_result"
    }
   ],
   "source": [
    "iris.apply(np.count_nonzero, axis=1).head() #we count values different from zero for every row"
   ]
  },
  {
   "cell_type": "code",
   "execution_count": 88,
   "metadata": {},
   "outputs": [
    {
     "data": {
      "text/plain": [
       "sepal_length    150\n",
       "sepal_width     150\n",
       "petal_length    150\n",
       "petal_width     150\n",
       "species         150\n",
       "dtype: int64"
      ]
     },
     "execution_count": 88,
     "metadata": {},
     "output_type": "execute_result"
    }
   ],
   "source": [
    "iris.apply(np.count_nonzero, axis=0).head() #we count values different from zero for every feature"
   ]
  },
  {
   "cell_type": "markdown",
   "metadata": {},
   "source": [
    "Use applymap to apply lambda function (elements)"
   ]
  },
  {
   "cell_type": "code",
   "execution_count": 89,
   "metadata": {},
   "outputs": [
    {
     "data": {
      "text/html": [
       "<div>\n",
       "<style scoped>\n",
       "    .dataframe tbody tr th:only-of-type {\n",
       "        vertical-align: middle;\n",
       "    }\n",
       "\n",
       "    .dataframe tbody tr th {\n",
       "        vertical-align: top;\n",
       "    }\n",
       "\n",
       "    .dataframe thead th {\n",
       "        text-align: right;\n",
       "    }\n",
       "</style>\n",
       "<table border=\"1\" class=\"dataframe\">\n",
       "  <thead>\n",
       "    <tr style=\"text-align: right;\">\n",
       "      <th></th>\n",
       "      <th>sepal_length</th>\n",
       "      <th>sepal_width</th>\n",
       "      <th>petal_length</th>\n",
       "      <th>petal_width</th>\n",
       "    </tr>\n",
       "  </thead>\n",
       "  <tbody>\n",
       "    <tr>\n",
       "      <th>0</th>\n",
       "      <td>5</td>\n",
       "      <td>4</td>\n",
       "      <td>1</td>\n",
       "      <td>0</td>\n",
       "    </tr>\n",
       "    <tr>\n",
       "      <th>1</th>\n",
       "      <td>5</td>\n",
       "      <td>3</td>\n",
       "      <td>1</td>\n",
       "      <td>0</td>\n",
       "    </tr>\n",
       "    <tr>\n",
       "      <th>2</th>\n",
       "      <td>5</td>\n",
       "      <td>3</td>\n",
       "      <td>1</td>\n",
       "      <td>0</td>\n",
       "    </tr>\n",
       "    <tr>\n",
       "      <th>3</th>\n",
       "      <td>5</td>\n",
       "      <td>3</td>\n",
       "      <td>2</td>\n",
       "      <td>0</td>\n",
       "    </tr>\n",
       "    <tr>\n",
       "      <th>4</th>\n",
       "      <td>5</td>\n",
       "      <td>4</td>\n",
       "      <td>1</td>\n",
       "      <td>0</td>\n",
       "    </tr>\n",
       "  </tbody>\n",
       "</table>\n",
       "</div>"
      ],
      "text/plain": [
       "   sepal_length  sepal_width  petal_length  petal_width\n",
       "0             5            4             1            0\n",
       "1             5            3             1            0\n",
       "2             5            3             1            0\n",
       "3             5            3             2            0\n",
       "4             5            4             1            0"
      ]
     },
     "execution_count": 89,
     "metadata": {},
     "output_type": "execute_result"
    }
   ],
   "source": [
    "X = iris.drop('species',axis=1)\n",
    "X = X.applymap(lambda val:int(round(val,0))) #round values to closer int\n",
    "X.head()"
   ]
  },
  {
   "cell_type": "markdown",
   "metadata": {},
   "source": [
    "## Qualitative Data\n",
    "\n",
    "All data in machine learning (and in computer science of course) must be numeric and discrete. In real life there a lot of data types:\n",
    "- Continuos Quantitative variables: price, altitude, temperature etc.\n",
    "- Ordinal Qualitative Varaibles: clothes sizes, podium position\n",
    "- Nominal Qualitative Variables: colors\n",
    "\n",
    "All machine learning input must be numeric so we have to convert all non numeric values in numeric values.\n",
    "\n",
    "### mapping of ordinal variables\n",
    "\n",
    "#### Numpy\n",
    "\n",
    "**Numpy** is a python library that offer a lot of vector operations, **scikit-learn** is a library useful for machine learning purposes.\n",
    "\n",
    "We can map ordinal variable with *numpy.vectorize(pyfunc, otypes=None, doc=None, excluded=None, cache=False, signature=None)*:\n",
    "* **pyfunc**: python function or method\n",
    "* **otypes**: output data type, it should be *str* or *list of dtypes*\n",
    "* **doc**: docstring for the function\n",
    "* **excluded**: set of strings or integers representing the positional or keyword arguments"
   ]
  },
  {
   "cell_type": "code",
   "execution_count": 90,
   "metadata": {},
   "outputs": [
    {
     "data": {
      "text/plain": [
       "array([[0, 'bianco', 4.99],\n",
       "       [1, 'bianco', 19.99],\n",
       "       [3, 'bianco', 12.49],\n",
       "       [3, 'bianco', 14.99],\n",
       "       [0, 'bianco', 14.99]], dtype=object)"
      ]
     },
     "execution_count": 90,
     "metadata": {},
     "output_type": "execute_result"
    }
   ],
   "source": [
    "import numpy as np\n",
    "\n",
    "shirts = pd.read_csv(\"data/shirts.csv\",index_col=0)\n",
    "X = shirts.values # -> from dataset to pure array\n",
    "size_mapping = {\"S\":0,\"M\":1,\"L\":2,\"XL\":3} # dictionary, the map\n",
    "fmap = np.vectorize(lambda t:size_mapping[t])\n",
    "X[:,0] = fmap(X[:,0])\n",
    "X[:5]"
   ]
  },
  {
   "cell_type": "markdown",
   "metadata": {},
   "source": [
    "#### Pandas\n",
    "\n",
    "we can obtain same result with pandas library"
   ]
  },
  {
   "cell_type": "code",
   "execution_count": 91,
   "metadata": {},
   "outputs": [
    {
     "data": {
      "text/html": [
       "<div>\n",
       "<style scoped>\n",
       "    .dataframe tbody tr th:only-of-type {\n",
       "        vertical-align: middle;\n",
       "    }\n",
       "\n",
       "    .dataframe tbody tr th {\n",
       "        vertical-align: top;\n",
       "    }\n",
       "\n",
       "    .dataframe thead th {\n",
       "        text-align: right;\n",
       "    }\n",
       "</style>\n",
       "<table border=\"1\" class=\"dataframe\">\n",
       "  <thead>\n",
       "    <tr style=\"text-align: right;\">\n",
       "      <th></th>\n",
       "      <th>taglia</th>\n",
       "      <th>colore</th>\n",
       "      <th>prezzo</th>\n",
       "    </tr>\n",
       "  </thead>\n",
       "  <tbody>\n",
       "    <tr>\n",
       "      <th>0</th>\n",
       "      <td>0</td>\n",
       "      <td>bianco</td>\n",
       "      <td>4.99</td>\n",
       "    </tr>\n",
       "    <tr>\n",
       "      <th>1</th>\n",
       "      <td>1</td>\n",
       "      <td>bianco</td>\n",
       "      <td>19.99</td>\n",
       "    </tr>\n",
       "    <tr>\n",
       "      <th>2</th>\n",
       "      <td>3</td>\n",
       "      <td>bianco</td>\n",
       "      <td>12.49</td>\n",
       "    </tr>\n",
       "    <tr>\n",
       "      <th>3</th>\n",
       "      <td>3</td>\n",
       "      <td>bianco</td>\n",
       "      <td>14.99</td>\n",
       "    </tr>\n",
       "    <tr>\n",
       "      <th>4</th>\n",
       "      <td>0</td>\n",
       "      <td>bianco</td>\n",
       "      <td>14.99</td>\n",
       "    </tr>\n",
       "  </tbody>\n",
       "</table>\n",
       "</div>"
      ],
      "text/plain": [
       "   taglia  colore  prezzo\n",
       "0       0  bianco    4.99\n",
       "1       1  bianco   19.99\n",
       "2       3  bianco   12.49\n",
       "3       3  bianco   14.99\n",
       "4       0  bianco   14.99"
      ]
     },
     "execution_count": 91,
     "metadata": {},
     "output_type": "execute_result"
    }
   ],
   "source": [
    "size_mapping = {\"S\":0,\"M\":1,\"L\":2,\"XL\":3} #dictionary, the map\n",
    "shirts[\"taglia\"] = shirts[\"taglia\"].map(size_mapping) #we map sizes with correspondent number\n",
    "shirts.head() #the return value is a dataset and not an array"
   ]
  },
  {
   "cell_type": "markdown",
   "metadata": {},
   "source": [
    "### One-Hot encoding\n",
    "\n",
    "We can't map Nominal qualitative variables with an ordinal list but can use boolean encoding called one-hot. We have to create one column for each class to encode, *true* or *1* value mean belonging, for example if there are 3 colors: white, black and red. we can create 3 columns called *white*, *black* and *red*, every single shirt has 1 only in the column that correspond to its color and 0 in the others\n",
    "\n",
    "this variables are called *dummy*\n",
    "\n",
    "To do so we can use *ColumnTransformer(transformers, *, remainder='drop', sparse_threshold=0.3, n_jobs=None, transformer_weights=None, verbose=False, verbose_feature_names_out=True)* that apply transformations only in specified columns:\n",
    "* **transformers**: list of (name, transformers, columns) tuples to be applied to subsets of the data\n",
    "  * *Name*: this allows the transformer to be set\n",
    "  * *transformer*\n",
    "  * *columns*:  Integers are interpreted as positional columns, while strings can reference DataFrame columns by name. A scalar string or int should be used where transformer expects X to be a 1d array-like (vector), otherwise a 2d array will be passed to the transformer. A callable is passed the input data X and can return any of the above\n",
    "* **Remainder**: non-specified columns dropped by default or passed through\n",
    "* **sparse_threshold**: from 0 to 1, if the overall density of returned matrix is lower than this value it will be stacked as a sparse matrix\n",
    "*  **n_jobs**: jobs to run in parallel, -1 -> all processors, 1 -> 1 processors\n",
    "*  **transformer_weights**: dictionary where keys are transformer name, values are weight for which returned value are multiplied\n",
    "*  **verbose**: if True execution time will be printed\n",
    "*  **verbose_feature_names_out**: if True *get_feature_names_out* will be prefix of returned features name "
   ]
  },
  {
   "cell_type": "code",
   "execution_count": 92,
   "metadata": {},
   "outputs": [
    {
     "data": {
      "text/plain": [
       "array([[1.0, 0.0, 0.0, 0, 4.99],\n",
       "       [1.0, 0.0, 0.0, 1, 19.99],\n",
       "       [1.0, 0.0, 0.0, 3, 12.49],\n",
       "       [1.0, 0.0, 0.0, 3, 14.99],\n",
       "       [1.0, 0.0, 0.0, 0, 14.99]], dtype=object)"
      ]
     },
     "execution_count": 92,
     "metadata": {},
     "output_type": "execute_result"
    }
   ],
   "source": [
    "from sklearn.preprocessing import LabelEncoder\n",
    "from sklearn.preprocessing import OneHotEncoder\n",
    "from sklearn.compose import ColumnTransformer\n",
    "\n",
    "\n",
    "X = shirts.values \n",
    "transf = ColumnTransformer([('ohe', OneHotEncoder(), [1])], remainder=\"passthrough\")\n",
    "\n",
    "X = transf.fit_transform(X)\n",
    "\n",
    "X[:5] "
   ]
  },
  {
   "cell_type": "markdown",
   "metadata": {},
   "source": [
    "You should obtain same result with pandas dataframe:"
   ]
  },
  {
   "cell_type": "code",
   "execution_count": 93,
   "metadata": {},
   "outputs": [
    {
     "data": {
      "text/html": [
       "<div>\n",
       "<style scoped>\n",
       "    .dataframe tbody tr th:only-of-type {\n",
       "        vertical-align: middle;\n",
       "    }\n",
       "\n",
       "    .dataframe tbody tr th {\n",
       "        vertical-align: top;\n",
       "    }\n",
       "\n",
       "    .dataframe thead th {\n",
       "        text-align: right;\n",
       "    }\n",
       "</style>\n",
       "<table border=\"1\" class=\"dataframe\">\n",
       "  <thead>\n",
       "    <tr style=\"text-align: right;\">\n",
       "      <th></th>\n",
       "      <th>taglia</th>\n",
       "      <th>prezzo</th>\n",
       "      <th>colore_bianco</th>\n",
       "      <th>colore_rosso</th>\n",
       "      <th>colore_verde</th>\n",
       "    </tr>\n",
       "  </thead>\n",
       "  <tbody>\n",
       "    <tr>\n",
       "      <th>95</th>\n",
       "      <td>2</td>\n",
       "      <td>9.99</td>\n",
       "      <td>1</td>\n",
       "      <td>0</td>\n",
       "      <td>0</td>\n",
       "    </tr>\n",
       "    <tr>\n",
       "      <th>96</th>\n",
       "      <td>1</td>\n",
       "      <td>14.99</td>\n",
       "      <td>0</td>\n",
       "      <td>0</td>\n",
       "      <td>1</td>\n",
       "    </tr>\n",
       "    <tr>\n",
       "      <th>97</th>\n",
       "      <td>0</td>\n",
       "      <td>12.49</td>\n",
       "      <td>0</td>\n",
       "      <td>1</td>\n",
       "      <td>0</td>\n",
       "    </tr>\n",
       "    <tr>\n",
       "      <th>98</th>\n",
       "      <td>2</td>\n",
       "      <td>12.49</td>\n",
       "      <td>0</td>\n",
       "      <td>1</td>\n",
       "      <td>0</td>\n",
       "    </tr>\n",
       "    <tr>\n",
       "      <th>99</th>\n",
       "      <td>0</td>\n",
       "      <td>19.99</td>\n",
       "      <td>0</td>\n",
       "      <td>1</td>\n",
       "      <td>0</td>\n",
       "    </tr>\n",
       "  </tbody>\n",
       "</table>\n",
       "</div>"
      ],
      "text/plain": [
       "    taglia  prezzo  colore_bianco  colore_rosso  colore_verde\n",
       "95       2    9.99              1             0             0\n",
       "96       1   14.99              0             0             1\n",
       "97       0   12.49              0             1             0\n",
       "98       2   12.49              0             1             0\n",
       "99       0   19.99              0             1             0"
      ]
     },
     "execution_count": 93,
     "metadata": {},
     "output_type": "execute_result"
    }
   ],
   "source": [
    "shirts_copy = shirts.copy()\n",
    "shirts_copy = pd.get_dummies(shirts,columns=[\"colore\"])\n",
    "shirts_copy.tail()"
   ]
  },
  {
   "cell_type": "markdown",
   "metadata": {},
   "source": [
    "## Missing data\n",
    "\n",
    "to manage missing data we will use numpy and pandas"
   ]
  },
  {
   "cell_type": "code",
   "execution_count": 94,
   "metadata": {},
   "outputs": [
    {
     "data": {
      "text/html": [
       "<div>\n",
       "<style scoped>\n",
       "    .dataframe tbody tr th:only-of-type {\n",
       "        vertical-align: middle;\n",
       "    }\n",
       "\n",
       "    .dataframe tbody tr th {\n",
       "        vertical-align: top;\n",
       "    }\n",
       "\n",
       "    .dataframe thead th {\n",
       "        text-align: right;\n",
       "    }\n",
       "</style>\n",
       "<table border=\"1\" class=\"dataframe\">\n",
       "  <thead>\n",
       "    <tr style=\"text-align: right;\">\n",
       "      <th></th>\n",
       "      <th>sepal_length</th>\n",
       "      <th>sepal_width</th>\n",
       "      <th>petal_length</th>\n",
       "      <th>petal_width</th>\n",
       "      <th>class</th>\n",
       "    </tr>\n",
       "  </thead>\n",
       "  <tbody>\n",
       "    <tr>\n",
       "      <th>0</th>\n",
       "      <td>5.1</td>\n",
       "      <td>3.5</td>\n",
       "      <td>1.4</td>\n",
       "      <td>0.2</td>\n",
       "      <td>setosa</td>\n",
       "    </tr>\n",
       "    <tr>\n",
       "      <th>1</th>\n",
       "      <td>4.9</td>\n",
       "      <td>3.0</td>\n",
       "      <td>1.4</td>\n",
       "      <td>0.2</td>\n",
       "      <td>setosa</td>\n",
       "    </tr>\n",
       "    <tr>\n",
       "      <th>2</th>\n",
       "      <td>4.7</td>\n",
       "      <td>3.2</td>\n",
       "      <td>1.3</td>\n",
       "      <td>0.2</td>\n",
       "      <td>setosa</td>\n",
       "    </tr>\n",
       "    <tr>\n",
       "      <th>3</th>\n",
       "      <td>4.6</td>\n",
       "      <td>3.1</td>\n",
       "      <td>1.5</td>\n",
       "      <td>0.2</td>\n",
       "      <td>setosa</td>\n",
       "    </tr>\n",
       "    <tr>\n",
       "      <th>4</th>\n",
       "      <td>5.0</td>\n",
       "      <td>3.6</td>\n",
       "      <td>1.4</td>\n",
       "      <td>0.2</td>\n",
       "      <td>setosa</td>\n",
       "    </tr>\n",
       "  </tbody>\n",
       "</table>\n",
       "</div>"
      ],
      "text/plain": [
       "   sepal_length  sepal_width  petal_length  petal_width   class\n",
       "0           5.1          3.5           1.4          0.2  setosa\n",
       "1           4.9          3.0           1.4          0.2  setosa\n",
       "2           4.7          3.2           1.3          0.2  setosa\n",
       "3           4.6          3.1           1.5          0.2  setosa\n",
       "4           5.0          3.6           1.4          0.2  setosa"
      ]
     },
     "execution_count": 94,
     "metadata": {},
     "output_type": "execute_result"
    }
   ],
   "source": [
    "import pandas as pd\n",
    "import numpy as np\n",
    "\n",
    "iris = pd.read_csv(\"data/iris.csv\", header=0, names=[\"sepal_length\",\"sepal_width\",\"petal_length\",\"petal_width\",\"class\"])\n",
    "iris.head()"
   ]
  },
  {
   "cell_type": "code",
   "execution_count": 95,
   "metadata": {},
   "outputs": [
    {
     "name": "stdout",
     "output_type": "stream",
     "text": [
      "Dataset has 10 missing values\n"
     ]
    }
   ],
   "source": [
    "iris_nan = iris.copy()\n",
    "max_val = iris.shape[0]\n",
    "\n",
    "samples = np.random.randint(max_val, size=(10)) #we create 10 elements random array\n",
    "iris_nan.loc[samples,'petal_length']=None #we sobstitute random index element with None value\n",
    "\n",
    "nan_count = iris_nan['petal_length'].isnull().sum() #count Non element (of course they are 10)\n",
    "print(\"Dataset has \"+str(nan_count)+\" missing values\")\n",
    "iris_nan.to_csv(\"data/iris_with_nan.csv\") # save into new file"
   ]
  },
  {
   "cell_type": "markdown",
   "metadata": {},
   "source": [
    "We create also new numpy array with these values:"
   ]
  },
  {
   "cell_type": "code",
   "execution_count": 96,
   "metadata": {},
   "outputs": [],
   "source": [
    "Y = iris_nan[\"class\"].values # only values of class feature\n",
    "X = iris_nan.drop(\"class\",axis=1).values #all values except for class feature"
   ]
  },
  {
   "cell_type": "markdown",
   "metadata": {},
   "source": [
    "There are 2 methods to manage missing values:\n",
    "\n",
    "### method 1: remove properties or examples with missing values"
   ]
  },
  {
   "cell_type": "code",
   "execution_count": 97,
   "metadata": {},
   "outputs": [
    {
     "name": "stdout",
     "output_type": "stream",
     "text": [
      "Number before dropping: 150\n",
      "Number after dropping: 140\n"
     ]
    }
   ],
   "source": [
    "samples_before = iris_nan.shape[0]\n",
    "iris_drop = iris_nan.dropna() #function that remove NaN values from iris_nan\n",
    "\n",
    "samples_after = iris_drop.shape[0] #get new size\n",
    "\n",
    "print(\"Number before dropping: \"+str(samples_before))\n",
    "print(\"Number after dropping: \"+str(samples_after))"
   ]
  },
  {
   "cell_type": "markdown",
   "metadata": {},
   "source": [
    "### method 2: Imputation -> replace missing values with an estimation\n",
    "\n",
    "#### Pandas\n",
    "we can do it with pandas (dataset) or numpy (array)"
   ]
  },
  {
   "cell_type": "code",
   "execution_count": 98,
   "metadata": {},
   "outputs": [
    {
     "name": "stdout",
     "output_type": "stream",
     "text": [
      "Dataset has now 0 missing values\n"
     ]
    }
   ],
   "source": [
    "replace_with = iris_nan['petal_length'].mean() # imputation with average value\n",
    "#replace_with = iris_nan['petal_length'].median() # imputation with median value\n",
    "#replace_with = iris_nan['petal_length'].mode() # imputation with mode value\n",
    "iris_nan['petal_length'].fillna(replace_with,inplace=True) # replace NaN values with first argument\n",
    "nan_count = iris_nan['petal_length'].isnull().sum() #count numbers of NaN values\n",
    "print(\"Dataset has now \"+str(nan_count)+\" missing values\")"
   ]
  },
  {
   "cell_type": "markdown",
   "metadata": {},
   "source": [
    "#### Numpy and scikit-learn\n",
    "we can use *SimpleImputer(\\*, missing_values=nan, strategy='mean', fill_value=None, verbose='deprecated', copy=True, add_indicator=False)[source]* function (scikit-learn library), type of imputation can be specified:\n",
    "* **missing values**:\n",
    "* **strategy**: mean / median / most_frequent / constant\n",
    "* **fill_value**: when constant!=0 specify here the value \n",
    "* **copy**: if True a copy will be created, if False imputation will be made in-place where possible\n",
    "* **add_indicator**: If True, a MissingIndicator transform will stack onto output of the imputer’s transform. This allows a predictive estimator to account for missingness despite imputation"
   ]
  },
  {
   "cell_type": "code",
   "execution_count": 99,
   "metadata": {},
   "outputs": [
    {
     "name": "stdout",
     "output_type": "stream",
     "text": [
      "dataset has 0 missing values\n"
     ]
    }
   ],
   "source": [
    "import numpy as np\n",
    "from sklearn.impute import SimpleImputer\n",
    "\n",
    "imp = SimpleImputer(missing_values = np.nan, strategy = 'mean')\n",
    "X_imp = imp.fit_transform(X)\n",
    "\n",
    "nan_count = np.count_nonzero(np.isnan(X_imp))\n",
    "print(\"dataset has \"+str(nan_count)+\" missing values\")"
   ]
  },
  {
   "cell_type": "markdown",
   "metadata": {},
   "source": [
    "## Feature and Scaling\n",
    "\n",
    "if a dataset values are in same range of values train phase will be faster.\n",
    "There are 2 methods to achieve this goal:\n",
    "* **normalization**: brings values in a range between 0 and 1:\n",
    "    $$x_{norm} = \\frac{x^i - x_{min}}{x_{max} - x_{min}}$$\n",
    "* **standardization** brings values in a range between -1 and 1 with mean value equal to 0 and variance equal to 1:\n",
    "    $$x_{std} = \\frac{x^i - x_{mean}}{x_{sd}}$$\n",
    "\n",
    "### Normalization\n",
    "\n",
    "#### Numpy and scikit-learn"
   ]
  },
  {
   "cell_type": "code",
   "execution_count": 100,
   "metadata": {},
   "outputs": [
    {
     "data": {
      "text/plain": [
       "array([[0.84210526, 0.57383966],\n",
       "       [0.57105263, 0.51054852],\n",
       "       [0.56052632, 0.61181435],\n",
       "       [0.87894737, 0.66455696],\n",
       "       [0.58157895, 0.49578059]])"
      ]
     },
     "execution_count": 100,
     "metadata": {},
     "output_type": "execute_result"
    }
   ],
   "source": [
    "\"\"\" \n",
    "IMPORT DATA\n",
    "\"\"\"\n",
    "import pandas as pd\n",
    "wines = pd.read_csv(\"https://archive.ics.uci.edu/ml/machine-learning-databases/wine/wine.data\", names=['class','alcol','flavonoidi'], \n",
    "                    usecols=[0,1,7])\n",
    "\"\"\"\n",
    "END IMPORT DATA\n",
    "\"\"\"\n",
    "\n",
    "from sklearn.preprocessing import MinMaxScaler\n",
    "\n",
    "mms = MinMaxScaler()\n",
    "X = wines.drop(\"class\",axis=1).values # target value has classes and it should not be normalized, so we remove it\n",
    "X_norm = mms.fit_transform(X)\n",
    "X_norm[:5]"
   ]
  },
  {
   "cell_type": "markdown",
   "metadata": {},
   "source": [
    "#### Pandas"
   ]
  },
  {
   "cell_type": "code",
   "execution_count": 101,
   "metadata": {},
   "outputs": [
    {
     "data": {
      "text/html": [
       "<div>\n",
       "<style scoped>\n",
       "    .dataframe tbody tr th:only-of-type {\n",
       "        vertical-align: middle;\n",
       "    }\n",
       "\n",
       "    .dataframe tbody tr th {\n",
       "        vertical-align: top;\n",
       "    }\n",
       "\n",
       "    .dataframe thead th {\n",
       "        text-align: right;\n",
       "    }\n",
       "</style>\n",
       "<table border=\"1\" class=\"dataframe\">\n",
       "  <thead>\n",
       "    <tr style=\"text-align: right;\">\n",
       "      <th></th>\n",
       "      <th>class</th>\n",
       "      <th>alcol</th>\n",
       "      <th>flavonoidi</th>\n",
       "    </tr>\n",
       "  </thead>\n",
       "  <tbody>\n",
       "    <tr>\n",
       "      <th>0</th>\n",
       "      <td>1</td>\n",
       "      <td>0.842105</td>\n",
       "      <td>0.573840</td>\n",
       "    </tr>\n",
       "    <tr>\n",
       "      <th>1</th>\n",
       "      <td>1</td>\n",
       "      <td>0.571053</td>\n",
       "      <td>0.510549</td>\n",
       "    </tr>\n",
       "    <tr>\n",
       "      <th>2</th>\n",
       "      <td>1</td>\n",
       "      <td>0.560526</td>\n",
       "      <td>0.611814</td>\n",
       "    </tr>\n",
       "    <tr>\n",
       "      <th>3</th>\n",
       "      <td>1</td>\n",
       "      <td>0.878947</td>\n",
       "      <td>0.664557</td>\n",
       "    </tr>\n",
       "    <tr>\n",
       "      <th>4</th>\n",
       "      <td>1</td>\n",
       "      <td>0.581579</td>\n",
       "      <td>0.495781</td>\n",
       "    </tr>\n",
       "  </tbody>\n",
       "</table>\n",
       "</div>"
      ],
      "text/plain": [
       "   class     alcol  flavonoidi\n",
       "0      1  0.842105    0.573840\n",
       "1      1  0.571053    0.510549\n",
       "2      1  0.560526    0.611814\n",
       "3      1  0.878947    0.664557\n",
       "4      1  0.581579    0.495781"
      ]
     },
     "execution_count": 101,
     "metadata": {},
     "output_type": "execute_result"
    }
   ],
   "source": [
    "wines_norm = wines.copy()\n",
    "\n",
    "features = [\"alcol\",\"flavonoidi\"] # columns to normalize\n",
    "to_norm = wines_norm[features]\n",
    "wines_norm[features] = (to_norm-to_norm.min())/(to_norm.max()-to_norm.min()) #we implement custom algorithm and we execute it on the entire dataframe\n",
    "wines_norm.head()"
   ]
  },
  {
   "cell_type": "markdown",
   "metadata": {},
   "source": [
    "### Standardization\n",
    "\n",
    "#### Numpy and scikit-learn\n",
    "we use *class sklearn.preprocessing.StandardScaler(*, copy=True, with_mean=True, with_std=True)*:\n",
    "* **copy**: if false try to in place substitution\n",
    "* **with_mean**: if True center the data before scaling\n",
    "* **with_std**: if True scale the data to unit variance\n",
    "\n",
    "standard scaler has these methods:\n",
    "* *fit(X[, y, sample_weight])*: \t Compute the mean and std to be used for later scaling.\n",
    "* *fit_transform(X[, y])*: Fit to data, then transform it\n",
    "* *get_feature_names_out([input_features])*: get output feature names for transformation\n",
    "* *get_params([deep])*: get parameters for this estimator\n",
    "* *inverse_transform(X[, copy])*: scale back the data to the original representation\n",
    "* *partial_fit(X[, y, sample_weight])*: Online computation of mean and std on X for later scaling\n",
    "* *set_params(\\*\\*params)*: Set the parameters of this estimator\n",
    "* *transform(X[, copy])*: perform standardization by centering and scaling"
   ]
  },
  {
   "cell_type": "code",
   "execution_count": 102,
   "metadata": {},
   "outputs": [
    {
     "data": {
      "text/plain": [
       "array([[1.51861254, 1.03481896],\n",
       "       [0.24628963, 0.73362894],\n",
       "       [0.19687903, 1.21553297],\n",
       "       [1.69154964, 1.46652465],\n",
       "       [0.29570023, 0.66335127]])"
      ]
     },
     "execution_count": 102,
     "metadata": {},
     "output_type": "execute_result"
    }
   ],
   "source": [
    "from sklearn.preprocessing import StandardScaler\n",
    "\n",
    "ss = StandardScaler()\n",
    "X = wines.drop(\"class\",axis=1).values\n",
    "X_std = ss.fit_transform(X) #compute meand and std before transform \n",
    "X_std[:5]"
   ]
  },
  {
   "cell_type": "markdown",
   "metadata": {},
   "source": [
    "#### Pandas\n",
    "\n",
    "N.B. Pandas use sample std with denominator-1 (sampling standard deviation) so results could be different from numpy standardization (this difference become insignificant when number of samples tend to infinite)"
   ]
  },
  {
   "cell_type": "code",
   "execution_count": 103,
   "metadata": {},
   "outputs": [
    {
     "data": {
      "text/html": [
       "<div>\n",
       "<style scoped>\n",
       "    .dataframe tbody tr th:only-of-type {\n",
       "        vertical-align: middle;\n",
       "    }\n",
       "\n",
       "    .dataframe tbody tr th {\n",
       "        vertical-align: top;\n",
       "    }\n",
       "\n",
       "    .dataframe thead th {\n",
       "        text-align: right;\n",
       "    }\n",
       "</style>\n",
       "<table border=\"1\" class=\"dataframe\">\n",
       "  <thead>\n",
       "    <tr style=\"text-align: right;\">\n",
       "      <th></th>\n",
       "      <th>class</th>\n",
       "      <th>alcol</th>\n",
       "      <th>flavonoidi</th>\n",
       "    </tr>\n",
       "  </thead>\n",
       "  <tbody>\n",
       "    <tr>\n",
       "      <th>0</th>\n",
       "      <td>1</td>\n",
       "      <td>1.514341</td>\n",
       "      <td>1.031908</td>\n",
       "    </tr>\n",
       "    <tr>\n",
       "      <th>1</th>\n",
       "      <td>1</td>\n",
       "      <td>0.245597</td>\n",
       "      <td>0.731565</td>\n",
       "    </tr>\n",
       "    <tr>\n",
       "      <th>2</th>\n",
       "      <td>1</td>\n",
       "      <td>0.196325</td>\n",
       "      <td>1.212114</td>\n",
       "    </tr>\n",
       "    <tr>\n",
       "      <th>3</th>\n",
       "      <td>1</td>\n",
       "      <td>1.686791</td>\n",
       "      <td>1.462399</td>\n",
       "    </tr>\n",
       "    <tr>\n",
       "      <th>4</th>\n",
       "      <td>1</td>\n",
       "      <td>0.294868</td>\n",
       "      <td>0.661485</td>\n",
       "    </tr>\n",
       "  </tbody>\n",
       "</table>\n",
       "</div>"
      ],
      "text/plain": [
       "   class     alcol  flavonoidi\n",
       "0      1  1.514341    1.031908\n",
       "1      1  0.245597    0.731565\n",
       "2      1  0.196325    1.212114\n",
       "3      1  1.686791    1.462399\n",
       "4      1  0.294868    0.661485"
      ]
     },
     "execution_count": 103,
     "metadata": {},
     "output_type": "execute_result"
    }
   ],
   "source": [
    "wines_std = wines.copy()\n",
    "\n",
    "features = [\"alcol\",\"flavonoidi\"]\n",
    "to_std = wines_std[features]\n",
    "wines_std[features] = (to_std - to_std.mean())/to_std.std()\n",
    "wines_std[:5]"
   ]
  },
  {
   "cell_type": "markdown",
   "metadata": {},
   "source": [
    "## Dataset splitting\n",
    "to test predictive model we have to split dataset into 2 parts: train part and test part, we can train machine on trainset and we can test it on testset.\n",
    "Keep in mind that target of a dataset is the feature about which we want to gain a deeper understanding.\n",
    "\n",
    "we can load boston dataset directly from scikit learn library:"
   ]
  },
  {
   "cell_type": "code",
   "execution_count": 104,
   "metadata": {},
   "outputs": [
    {
     "name": "stderr",
     "output_type": "stream",
     "text": [
      "c:\\Users\\miche\\anaconda3\\lib\\site-packages\\sklearn\\utils\\deprecation.py:87: FutureWarning: Function load_boston is deprecated; `load_boston` is deprecated in 1.0 and will be removed in 1.2.\n",
      "\n",
      "    The Boston housing prices dataset has an ethical problem. You can refer to\n",
      "    the documentation of this function for further details.\n",
      "\n",
      "    The scikit-learn maintainers therefore strongly discourage the use of this\n",
      "    dataset unless the purpose of the code is to study and educate about\n",
      "    ethical issues in data science and machine learning.\n",
      "\n",
      "    In this special case, you can fetch the dataset from the original\n",
      "    source::\n",
      "\n",
      "        import pandas as pd\n",
      "        import numpy as np\n",
      "\n",
      "\n",
      "        data_url = \"http://lib.stat.cmu.edu/datasets/boston\"\n",
      "        raw_df = pd.read_csv(data_url, sep=\"\\s+\", skiprows=22, header=None)\n",
      "        data = np.hstack([raw_df.values[::2, :], raw_df.values[1::2, :2]])\n",
      "        target = raw_df.values[1::2, 2]\n",
      "\n",
      "    Alternative datasets include the California housing dataset (i.e.\n",
      "    :func:`~sklearn.datasets.fetch_california_housing`) and the Ames housing\n",
      "    dataset. You can load the datasets as follows::\n",
      "\n",
      "        from sklearn.datasets import fetch_california_housing\n",
      "        housing = fetch_california_housing()\n",
      "\n",
      "    for the California housing dataset and::\n",
      "\n",
      "        from sklearn.datasets import fetch_openml\n",
      "        housing = fetch_openml(name=\"house_prices\", as_frame=True)\n",
      "\n",
      "    for the Ames housing dataset.\n",
      "    \n",
      "  warnings.warn(msg, category=FutureWarning)\n"
     ]
    }
   ],
   "source": [
    "import pandas as pd\n",
    "import numpy as np\n",
    "from sklearn.datasets import load_boston\n",
    "boston = load_boston() #deprecated from 1.2 version "
   ]
  },
  {
   "cell_type": "markdown",
   "metadata": {},
   "source": [
    "\n",
    "### Numpy and scikit learn (more important)\n",
    "we will use *sklearn.model_selection.train_test_split(*arrays, test_size=None, train_size=None, random_state=None, shuffle=True, stratify=None)*:\n",
    "* **\\*arrays**: Allowed inputs are lists, numpy arrays, scipy-sparse matrices or pandas dataframes\n",
    "* **test_size**: if Float between 0.0 and 1.0, if Int it represent the absolute number of test samples, if None the value is set by *train_size* (alternatively is 0.25 by default)\n",
    "* **train_size**: complement of *test_size*\n",
    "* **random_state**: Int seed for a random shuffle\n",
    "* **shuffle**: Whether or not to shuffle the data before splitting. If False then Stratify must be None\n",
    "* **Stratify**: if not None data is split in a stratified fashion, using this as the class labels\n",
    "  ![Stratified split](img/1.png \"stratified split\")"
   ]
  },
  {
   "cell_type": "code",
   "execution_count": 105,
   "metadata": {},
   "outputs": [],
   "source": [
    "from sklearn.model_selection import train_test_split\n",
    "\n",
    "X = boston.data\n",
    "Y = boston.target\n",
    "\n",
    "X_train, X_test, Y_train, Y_test = train_test_split(X,Y, test_size=0.3) #l'attributo test_size corrisponde  alla frazione di dataset da usare per il test"
   ]
  },
  {
   "cell_type": "markdown",
   "metadata": {},
   "source": [
    "### Pandas"
   ]
  },
  {
   "cell_type": "code",
   "execution_count": 106,
   "metadata": {},
   "outputs": [
    {
     "data": {
      "text/html": [
       "<div>\n",
       "<style scoped>\n",
       "    .dataframe tbody tr th:only-of-type {\n",
       "        vertical-align: middle;\n",
       "    }\n",
       "\n",
       "    .dataframe tbody tr th {\n",
       "        vertical-align: top;\n",
       "    }\n",
       "\n",
       "    .dataframe thead th {\n",
       "        text-align: right;\n",
       "    }\n",
       "</style>\n",
       "<table border=\"1\" class=\"dataframe\">\n",
       "  <thead>\n",
       "    <tr style=\"text-align: right;\">\n",
       "      <th></th>\n",
       "      <th>CRIM</th>\n",
       "      <th>ZN</th>\n",
       "      <th>INDUS</th>\n",
       "      <th>CHAS</th>\n",
       "      <th>NOX</th>\n",
       "      <th>RM</th>\n",
       "      <th>AGE</th>\n",
       "      <th>DIS</th>\n",
       "      <th>RAD</th>\n",
       "      <th>TAX</th>\n",
       "      <th>PTRATIO</th>\n",
       "      <th>B</th>\n",
       "      <th>LSTAT</th>\n",
       "      <th>TARGET</th>\n",
       "    </tr>\n",
       "  </thead>\n",
       "  <tbody>\n",
       "    <tr>\n",
       "      <th>0</th>\n",
       "      <td>0.00632</td>\n",
       "      <td>18.0</td>\n",
       "      <td>2.31</td>\n",
       "      <td>0.0</td>\n",
       "      <td>0.538</td>\n",
       "      <td>6.575</td>\n",
       "      <td>65.2</td>\n",
       "      <td>4.0900</td>\n",
       "      <td>1.0</td>\n",
       "      <td>296.0</td>\n",
       "      <td>15.3</td>\n",
       "      <td>396.90</td>\n",
       "      <td>4.98</td>\n",
       "      <td>24.0</td>\n",
       "    </tr>\n",
       "    <tr>\n",
       "      <th>1</th>\n",
       "      <td>0.02731</td>\n",
       "      <td>0.0</td>\n",
       "      <td>7.07</td>\n",
       "      <td>0.0</td>\n",
       "      <td>0.469</td>\n",
       "      <td>6.421</td>\n",
       "      <td>78.9</td>\n",
       "      <td>4.9671</td>\n",
       "      <td>2.0</td>\n",
       "      <td>242.0</td>\n",
       "      <td>17.8</td>\n",
       "      <td>396.90</td>\n",
       "      <td>9.14</td>\n",
       "      <td>21.6</td>\n",
       "    </tr>\n",
       "    <tr>\n",
       "      <th>2</th>\n",
       "      <td>0.02729</td>\n",
       "      <td>0.0</td>\n",
       "      <td>7.07</td>\n",
       "      <td>0.0</td>\n",
       "      <td>0.469</td>\n",
       "      <td>7.185</td>\n",
       "      <td>61.1</td>\n",
       "      <td>4.9671</td>\n",
       "      <td>2.0</td>\n",
       "      <td>242.0</td>\n",
       "      <td>17.8</td>\n",
       "      <td>392.83</td>\n",
       "      <td>4.03</td>\n",
       "      <td>34.7</td>\n",
       "    </tr>\n",
       "    <tr>\n",
       "      <th>3</th>\n",
       "      <td>0.03237</td>\n",
       "      <td>0.0</td>\n",
       "      <td>2.18</td>\n",
       "      <td>0.0</td>\n",
       "      <td>0.458</td>\n",
       "      <td>6.998</td>\n",
       "      <td>45.8</td>\n",
       "      <td>6.0622</td>\n",
       "      <td>3.0</td>\n",
       "      <td>222.0</td>\n",
       "      <td>18.7</td>\n",
       "      <td>394.63</td>\n",
       "      <td>2.94</td>\n",
       "      <td>33.4</td>\n",
       "    </tr>\n",
       "    <tr>\n",
       "      <th>4</th>\n",
       "      <td>0.06905</td>\n",
       "      <td>0.0</td>\n",
       "      <td>2.18</td>\n",
       "      <td>0.0</td>\n",
       "      <td>0.458</td>\n",
       "      <td>7.147</td>\n",
       "      <td>54.2</td>\n",
       "      <td>6.0622</td>\n",
       "      <td>3.0</td>\n",
       "      <td>222.0</td>\n",
       "      <td>18.7</td>\n",
       "      <td>396.90</td>\n",
       "      <td>5.33</td>\n",
       "      <td>36.2</td>\n",
       "    </tr>\n",
       "  </tbody>\n",
       "</table>\n",
       "</div>"
      ],
      "text/plain": [
       "      CRIM    ZN  INDUS  CHAS    NOX     RM   AGE     DIS  RAD    TAX  \\\n",
       "0  0.00632  18.0   2.31   0.0  0.538  6.575  65.2  4.0900  1.0  296.0   \n",
       "1  0.02731   0.0   7.07   0.0  0.469  6.421  78.9  4.9671  2.0  242.0   \n",
       "2  0.02729   0.0   7.07   0.0  0.469  7.185  61.1  4.9671  2.0  242.0   \n",
       "3  0.03237   0.0   2.18   0.0  0.458  6.998  45.8  6.0622  3.0  222.0   \n",
       "4  0.06905   0.0   2.18   0.0  0.458  7.147  54.2  6.0622  3.0  222.0   \n",
       "\n",
       "   PTRATIO       B  LSTAT  TARGET  \n",
       "0     15.3  396.90   4.98    24.0  \n",
       "1     17.8  396.90   9.14    21.6  \n",
       "2     17.8  392.83   4.03    34.7  \n",
       "3     18.7  394.63   2.94    33.4  \n",
       "4     18.7  396.90   5.33    36.2  "
      ]
     },
     "execution_count": 106,
     "metadata": {},
     "output_type": "execute_result"
    }
   ],
   "source": [
    "import pandas as pd\n",
    "import numpy as np\n",
    "\n",
    "boston_df = pd.DataFrame(data= np.c_[boston.data, boston.target], columns= np.append(boston['feature_names'], 'TARGET'))\n",
    "boston_df.head()"
   ]
  },
  {
   "cell_type": "code",
   "execution_count": 107,
   "metadata": {},
   "outputs": [
    {
     "name": "stdout",
     "output_type": "stream",
     "text": [
      "Train set element numbers: 354\n",
      "Test set element numbers: 152\n"
     ]
    }
   ],
   "source": [
    "boston_test_df = boston_df.sample(frac=0.3)\n",
    "boston_train_df = boston_df.drop(boston_test_df.index)\n",
    "\n",
    "print(\"Train set element numbers: \"+str(boston_train_df.shape[0]))\n",
    "print(\"Test set element numbers: \"+str(boston_test_df.shape[0]))"
   ]
  },
  {
   "cell_type": "markdown",
   "metadata": {},
   "source": [
    "# Regression\n"
   ]
  },
  {
   "cell_type": "markdown",
   "metadata": {},
   "source": [
    "## Simple Linear Regression\n",
    "We will predict *value of houses* in Boston Dataset\n",
    "\n",
    "### 1. Import data\n"
   ]
  },
  {
   "cell_type": "code",
   "execution_count": 108,
   "metadata": {},
   "outputs": [
    {
     "data": {
      "text/html": [
       "<div>\n",
       "<style scoped>\n",
       "    .dataframe tbody tr th:only-of-type {\n",
       "        vertical-align: middle;\n",
       "    }\n",
       "\n",
       "    .dataframe tbody tr th {\n",
       "        vertical-align: top;\n",
       "    }\n",
       "\n",
       "    .dataframe thead th {\n",
       "        text-align: right;\n",
       "    }\n",
       "</style>\n",
       "<table border=\"1\" class=\"dataframe\">\n",
       "  <thead>\n",
       "    <tr style=\"text-align: right;\">\n",
       "      <th></th>\n",
       "      <th>RM</th>\n",
       "      <th>MEDV</th>\n",
       "    </tr>\n",
       "  </thead>\n",
       "  <tbody>\n",
       "    <tr>\n",
       "      <th>0</th>\n",
       "      <td>6.575</td>\n",
       "      <td>24.0</td>\n",
       "    </tr>\n",
       "    <tr>\n",
       "      <th>1</th>\n",
       "      <td>6.421</td>\n",
       "      <td>21.6</td>\n",
       "    </tr>\n",
       "    <tr>\n",
       "      <th>2</th>\n",
       "      <td>7.185</td>\n",
       "      <td>34.7</td>\n",
       "    </tr>\n",
       "    <tr>\n",
       "      <th>3</th>\n",
       "      <td>6.998</td>\n",
       "      <td>33.4</td>\n",
       "    </tr>\n",
       "    <tr>\n",
       "      <th>4</th>\n",
       "      <td>7.147</td>\n",
       "      <td>36.2</td>\n",
       "    </tr>\n",
       "  </tbody>\n",
       "</table>\n",
       "</div>"
      ],
      "text/plain": [
       "      RM  MEDV\n",
       "0  6.575  24.0\n",
       "1  6.421  21.6\n",
       "2  7.185  34.7\n",
       "3  6.998  33.4\n",
       "4  7.147  36.2"
      ]
     },
     "execution_count": 108,
     "metadata": {},
     "output_type": "execute_result"
    }
   ],
   "source": [
    "import pandas as pd\n",
    "import numpy as np\n",
    "boston = pd.read_csv(\"https://archive.ics.uci.edu/ml/machine-learning-databases/housing/housing.data\", sep='\\s+', usecols=[5,13], names=[\"RM\", \"MEDV\"])\n",
    "boston.head()"
   ]
  },
  {
   "cell_type": "markdown",
   "metadata": {},
   "source": [
    "### 2. Creation of variables for regression\n",
    "\n",
    "MEDV will be our target: Median value of owner-occupied homes in $1000s "
   ]
  },
  {
   "cell_type": "code",
   "execution_count": 109,
   "metadata": {},
   "outputs": [],
   "source": [
    "X = boston.drop(\"MEDV\", axis=1).values #all except for medv (data)\n",
    "Y = boston[\"MEDV\"].values #target\n",
    "\n",
    "from sklearn.model_selection import train_test_split\n",
    "\n",
    "X_train, X_test, Y_train, Y_test = train_test_split(X,Y, test_size=0.3)"
   ]
  },
  {
   "cell_type": "markdown",
   "metadata": {},
   "source": [
    "we can implement now linear regression on train set and prediction on test set.\n",
    "\n",
    "*class sklearn.linear_model.LinearRegression(\\*, fit_intercept=True,copy_X=True, n_jobs=None, positive=False)[source]* has these parameters:\n",
    "* **fit_intercept**: default to True, calculate intercept for this model. If False, no intercept will be used\n",
    "* **copy_X**: if True X will be copied; else it will be overwritten\n",
    "* **n_jobs**: number of jobs to use for the computation\n",
    "* **positive**: only for dense array, if True force coefficients to be positive\n",
    "\n",
    "Methods are:\n",
    "* **fit(X, y[, sample_weight])**: Fit linear model\n",
    "* **get_params([deep])**: Get parameters for this estimator\n",
    "* **predict(X)**: Predict using the linear model\n",
    "* **score(X, y[, sample_weight])**: Return the coefficient of determination of the prediction\n",
    "* **set_params(\\*\\*params)**: set the parameters of this estimator"
   ]
  },
  {
   "cell_type": "code",
   "execution_count": 110,
   "metadata": {},
   "outputs": [],
   "source": [
    "from sklearn.linear_model import LinearRegression\n",
    "\n",
    "ll = LinearRegression()\n",
    "ll.fit(X_train, Y_train) # Linear regression on train test composed by target and other data\n",
    "Y_pred = ll.predict(X_test) # Prediction of target from Test Data, in the following steps we will compare this prediction with Y test, it should be as closer as possible"
   ]
  },
  {
   "cell_type": "markdown",
   "metadata": {},
   "source": [
    "There are a lot of metrics to evaluate a prediction:\n",
    "* Mean squared error: $MSE = \\frac{1}{N} \\sum_{i=1}^{N}(Y_i-\\widehat{Y}_i)^2$\n",
    "  * \n",
    "* Determination Coefficient: $R^2 = 1 - \\frac{RSS}{SST} = 1-\\frac{\\sum_{i=1}^{N}(Y_i-\\widehat{Y}_i)}{\\sum_{i=1}^{N}(Y_i-\\widehat{Y}_{mean})}$\n",
    "  * r2 < .3 -> model is useless\n",
    "  * .5  r2 < .7 -> model is decent\n",
    "  * .7  r2 < .9 -> model is good\n",
    "  * .9  r2 < 1 -> model is perfect\n",
    "  * 1 -> deterministic -> error "
   ]
  },
  {
   "cell_type": "code",
   "execution_count": 111,
   "metadata": {},
   "outputs": [
    {
     "name": "stdout",
     "output_type": "stream",
     "text": [
      "MSE = 26.1359\n",
      "R^2 = 0.6448\n"
     ]
    }
   ],
   "source": [
    "from sklearn.metrics import mean_squared_error, r2_score\n",
    "\n",
    "print(\"MSE = %.4f\" % mean_squared_error(Y_test, Y_pred)) #MSE\n",
    "print(\"R^2 = %.4f\" % r2_score(Y_test, Y_pred)) # R^2"
   ]
  },
  {
   "cell_type": "markdown",
   "metadata": {},
   "source": [
    "We can plot the model and observe that the only problems are outliers, in general the model is a good model"
   ]
  },
  {
   "cell_type": "code",
   "execution_count": 112,
   "metadata": {},
   "outputs": [
    {
     "name": "stdout",
     "output_type": "stream",
     "text": [
      "RM Weight: 8.736117681448633\n",
      "Bias: -32.36618812313125\n"
     ]
    },
    {
     "data": {
      "text/plain": [
       "[<matplotlib.lines.Line2D at 0x2be9fca9070>]"
      ]
     },
     "execution_count": 112,
     "metadata": {},
     "output_type": "execute_result"
    },
    {
     "data": {
      "image/png": "[encoded data removed]",
      "text/plain": [
       "<Figure size 432x288 with 1 Axes>"
      ]
     },
     "metadata": {
      "needs_background": "light"
     },
     "output_type": "display_data"
    }
   ],
   "source": [
    "import matplotlib.pyplot as plt\n",
    "\n",
    "print(\"RM Weight: \"+ str(ll.coef_[0]))\n",
    "print(\"Bias: \"+str(ll.intercept_))\n",
    "\n",
    "\n",
    "plt.scatter(X_train, Y_train, c=\"green\",  edgecolor='white', label=\"Train set\")\n",
    "plt.scatter(X_test, Y_test, c=\"blue\",  edgecolor='white', label=\"Test set\")\n",
    "\n",
    "plt.xlabel('Mean number of room [RM]')\n",
    "plt.ylabel('Value in $1000s [MEDV]')\n",
    "\n",
    "plt.legend(loc='upper left')\n",
    "\n",
    "plt.plot(X_test, Y_pred, color='red', linewidth=3)"
   ]
  },
  {
   "cell_type": "markdown",
   "metadata": {},
   "source": [
    "## Multiple Linear Regression\n",
    "\n",
    "We use Boston dataset described as follow:\n",
    "* CRIM     per capita crime rate by town\n",
    "* ZN       proportion of residential land zoned for lots over 25,000 sq.ft.\n",
    "* INDUS    proportion of non-retail business acres per town\n",
    "* CHAS     Charles River dummy variable (= 1 if tract bounds river; 0 otherwise)\n",
    "* NOX      nitric oxides concentration (parts per 10 million)\n",
    "* RM       average number of rooms per dwelling\n",
    "* AGE      proportion of owner-occupied units built prior to 1940\n",
    "* DIS      weighted distances to five Boston employment centres\n",
    "* RAD      index of accessibility to radial highways\n",
    "* TAX      full-value property-tax rate per $10,000\n",
    "* PTRATIO  pupil-teacher ratio by town\n",
    "* B        1000(Bk - 0.63)^2 where Bk is the proportion of blacks by town\n",
    "* LSTAT    % lower status of the population\n",
    "* MEDV     Median value of owner-occupied homes in $1000's\n",
    "\n",
    "our goal is to predict medv using 2 or more features."
   ]
  },
  {
   "cell_type": "code",
   "execution_count": 113,
   "metadata": {},
   "outputs": [
    {
     "data": {
      "text/html": [
       "<div>\n",
       "<style scoped>\n",
       "    .dataframe tbody tr th:only-of-type {\n",
       "        vertical-align: middle;\n",
       "    }\n",
       "\n",
       "    .dataframe tbody tr th {\n",
       "        vertical-align: top;\n",
       "    }\n",
       "\n",
       "    .dataframe thead th {\n",
       "        text-align: right;\n",
       "    }\n",
       "</style>\n",
       "<table border=\"1\" class=\"dataframe\">\n",
       "  <thead>\n",
       "    <tr style=\"text-align: right;\">\n",
       "      <th></th>\n",
       "      <th>CRIM</th>\n",
       "      <th>ZN</th>\n",
       "      <th>INDUS</th>\n",
       "      <th>CHAS</th>\n",
       "      <th>NOX</th>\n",
       "      <th>RM</th>\n",
       "      <th>AGE</th>\n",
       "      <th>DIS</th>\n",
       "      <th>RAD</th>\n",
       "      <th>TAX</th>\n",
       "      <th>PRATIO</th>\n",
       "      <th>B</th>\n",
       "      <th>LSTAT</th>\n",
       "      <th>MEDV</th>\n",
       "    </tr>\n",
       "  </thead>\n",
       "  <tbody>\n",
       "    <tr>\n",
       "      <th>0</th>\n",
       "      <td>0.00632</td>\n",
       "      <td>18.0</td>\n",
       "      <td>2.31</td>\n",
       "      <td>0</td>\n",
       "      <td>0.538</td>\n",
       "      <td>6.575</td>\n",
       "      <td>65.2</td>\n",
       "      <td>4.0900</td>\n",
       "      <td>1</td>\n",
       "      <td>296.0</td>\n",
       "      <td>15.3</td>\n",
       "      <td>396.90</td>\n",
       "      <td>4.98</td>\n",
       "      <td>24.0</td>\n",
       "    </tr>\n",
       "    <tr>\n",
       "      <th>1</th>\n",
       "      <td>0.02731</td>\n",
       "      <td>0.0</td>\n",
       "      <td>7.07</td>\n",
       "      <td>0</td>\n",
       "      <td>0.469</td>\n",
       "      <td>6.421</td>\n",
       "      <td>78.9</td>\n",
       "      <td>4.9671</td>\n",
       "      <td>2</td>\n",
       "      <td>242.0</td>\n",
       "      <td>17.8</td>\n",
       "      <td>396.90</td>\n",
       "      <td>9.14</td>\n",
       "      <td>21.6</td>\n",
       "    </tr>\n",
       "    <tr>\n",
       "      <th>2</th>\n",
       "      <td>0.02729</td>\n",
       "      <td>0.0</td>\n",
       "      <td>7.07</td>\n",
       "      <td>0</td>\n",
       "      <td>0.469</td>\n",
       "      <td>7.185</td>\n",
       "      <td>61.1</td>\n",
       "      <td>4.9671</td>\n",
       "      <td>2</td>\n",
       "      <td>242.0</td>\n",
       "      <td>17.8</td>\n",
       "      <td>392.83</td>\n",
       "      <td>4.03</td>\n",
       "      <td>34.7</td>\n",
       "    </tr>\n",
       "    <tr>\n",
       "      <th>3</th>\n",
       "      <td>0.03237</td>\n",
       "      <td>0.0</td>\n",
       "      <td>2.18</td>\n",
       "      <td>0</td>\n",
       "      <td>0.458</td>\n",
       "      <td>6.998</td>\n",
       "      <td>45.8</td>\n",
       "      <td>6.0622</td>\n",
       "      <td>3</td>\n",
       "      <td>222.0</td>\n",
       "      <td>18.7</td>\n",
       "      <td>394.63</td>\n",
       "      <td>2.94</td>\n",
       "      <td>33.4</td>\n",
       "    </tr>\n",
       "    <tr>\n",
       "      <th>4</th>\n",
       "      <td>0.06905</td>\n",
       "      <td>0.0</td>\n",
       "      <td>2.18</td>\n",
       "      <td>0</td>\n",
       "      <td>0.458</td>\n",
       "      <td>7.147</td>\n",
       "      <td>54.2</td>\n",
       "      <td>6.0622</td>\n",
       "      <td>3</td>\n",
       "      <td>222.0</td>\n",
       "      <td>18.7</td>\n",
       "      <td>396.90</td>\n",
       "      <td>5.33</td>\n",
       "      <td>36.2</td>\n",
       "    </tr>\n",
       "  </tbody>\n",
       "</table>\n",
       "</div>"
      ],
      "text/plain": [
       "      CRIM    ZN  INDUS  CHAS    NOX     RM   AGE     DIS  RAD    TAX  PRATIO  \\\n",
       "0  0.00632  18.0   2.31     0  0.538  6.575  65.2  4.0900    1  296.0    15.3   \n",
       "1  0.02731   0.0   7.07     0  0.469  6.421  78.9  4.9671    2  242.0    17.8   \n",
       "2  0.02729   0.0   7.07     0  0.469  7.185  61.1  4.9671    2  242.0    17.8   \n",
       "3  0.03237   0.0   2.18     0  0.458  6.998  45.8  6.0622    3  222.0    18.7   \n",
       "4  0.06905   0.0   2.18     0  0.458  7.147  54.2  6.0622    3  222.0    18.7   \n",
       "\n",
       "        B  LSTAT  MEDV  \n",
       "0  396.90   4.98  24.0  \n",
       "1  396.90   9.14  21.6  \n",
       "2  392.83   4.03  34.7  \n",
       "3  394.63   2.94  33.4  \n",
       "4  396.90   5.33  36.2  "
      ]
     },
     "execution_count": 113,
     "metadata": {},
     "output_type": "execute_result"
    }
   ],
   "source": [
    "import pandas as pd\n",
    "import numpy as np\n",
    "import matplotlib.pyplot as plt\n",
    "from sklearn.model_selection import train_test_split\n",
    "from sklearn.linear_model import LinearRegression\n",
    "from sklearn.metrics import mean_squared_error, r2_score\n",
    "\n",
    "boston = pd.read_csv(\"https://archive.ics.uci.edu/ml/machine-learning-databases/housing/housing.data\", sep='\\s+', \n",
    "                     names=[\"CRIM\",\"ZN\",\"INDUS\",\"CHAS\",\"NOX\",\"RM\",\"AGE\",\"DIS\",\"RAD\",\"TAX\",\"PRATIO\",\"B\",\"LSTAT\",\"MEDV\"])\n",
    "boston.head()"
   ]
  },
  {
   "cell_type": "markdown",
   "metadata": {},
   "source": [
    "First step is to find correlation between different features, we can use *DataFrame.corr(method='pearson', min_periods=1)* method in pandas:\n",
    "* **method**: \n",
    "  * [Pearson](https://en.wikipedia.org/wiki/Pearson_correlation_coefficient)\n",
    "  * [Kendall](https://en.wikipedia.org/wiki/Kendall_rank_correlation_coefficient)\n",
    "  * [Spearman](https://en.wikipedia.org/wiki/Spearman%27s_rank_correlation_coefficient)\n",
    "* **min_periods**: minimum number of observations required per pair of columns to have a valid result\n",
    "\n",
    "Keep in mind that -1 means inverse correlation, 0 means no correlation and 1 means positive correlation"
   ]
  },
  {
   "cell_type": "code",
   "execution_count": 114,
   "metadata": {},
   "outputs": [
    {
     "data": {
      "text/html": [
       "<div>\n",
       "<style scoped>\n",
       "    .dataframe tbody tr th:only-of-type {\n",
       "        vertical-align: middle;\n",
       "    }\n",
       "\n",
       "    .dataframe tbody tr th {\n",
       "        vertical-align: top;\n",
       "    }\n",
       "\n",
       "    .dataframe thead th {\n",
       "        text-align: right;\n",
       "    }\n",
       "</style>\n",
       "<table border=\"1\" class=\"dataframe\">\n",
       "  <thead>\n",
       "    <tr style=\"text-align: right;\">\n",
       "      <th></th>\n",
       "      <th>CRIM</th>\n",
       "      <th>ZN</th>\n",
       "      <th>INDUS</th>\n",
       "      <th>CHAS</th>\n",
       "      <th>NOX</th>\n",
       "      <th>RM</th>\n",
       "      <th>AGE</th>\n",
       "      <th>DIS</th>\n",
       "      <th>RAD</th>\n",
       "      <th>TAX</th>\n",
       "      <th>PRATIO</th>\n",
       "      <th>B</th>\n",
       "      <th>LSTAT</th>\n",
       "      <th>MEDV</th>\n",
       "    </tr>\n",
       "  </thead>\n",
       "  <tbody>\n",
       "    <tr>\n",
       "      <th>CRIM</th>\n",
       "      <td>1.000000</td>\n",
       "      <td>-0.200469</td>\n",
       "      <td>0.406583</td>\n",
       "      <td>-0.055892</td>\n",
       "      <td>0.420972</td>\n",
       "      <td>-0.219247</td>\n",
       "      <td>0.352734</td>\n",
       "      <td>-0.379670</td>\n",
       "      <td>0.625505</td>\n",
       "      <td>0.582764</td>\n",
       "      <td>0.289946</td>\n",
       "      <td>-0.385064</td>\n",
       "      <td>0.455621</td>\n",
       "      <td>-0.388305</td>\n",
       "    </tr>\n",
       "    <tr>\n",
       "      <th>ZN</th>\n",
       "      <td>-0.200469</td>\n",
       "      <td>1.000000</td>\n",
       "      <td>-0.533828</td>\n",
       "      <td>-0.042697</td>\n",
       "      <td>-0.516604</td>\n",
       "      <td>0.311991</td>\n",
       "      <td>-0.569537</td>\n",
       "      <td>0.664408</td>\n",
       "      <td>-0.311948</td>\n",
       "      <td>-0.314563</td>\n",
       "      <td>-0.391679</td>\n",
       "      <td>0.175520</td>\n",
       "      <td>-0.412995</td>\n",
       "      <td>0.360445</td>\n",
       "    </tr>\n",
       "    <tr>\n",
       "      <th>INDUS</th>\n",
       "      <td>0.406583</td>\n",
       "      <td>-0.533828</td>\n",
       "      <td>1.000000</td>\n",
       "      <td>0.062938</td>\n",
       "      <td>0.763651</td>\n",
       "      <td>-0.391676</td>\n",
       "      <td>0.644779</td>\n",
       "      <td>-0.708027</td>\n",
       "      <td>0.595129</td>\n",
       "      <td>0.720760</td>\n",
       "      <td>0.383248</td>\n",
       "      <td>-0.356977</td>\n",
       "      <td>0.603800</td>\n",
       "      <td>-0.483725</td>\n",
       "    </tr>\n",
       "    <tr>\n",
       "      <th>CHAS</th>\n",
       "      <td>-0.055892</td>\n",
       "      <td>-0.042697</td>\n",
       "      <td>0.062938</td>\n",
       "      <td>1.000000</td>\n",
       "      <td>0.091203</td>\n",
       "      <td>0.091251</td>\n",
       "      <td>0.086518</td>\n",
       "      <td>-0.099176</td>\n",
       "      <td>-0.007368</td>\n",
       "      <td>-0.035587</td>\n",
       "      <td>-0.121515</td>\n",
       "      <td>0.048788</td>\n",
       "      <td>-0.053929</td>\n",
       "      <td>0.175260</td>\n",
       "    </tr>\n",
       "    <tr>\n",
       "      <th>NOX</th>\n",
       "      <td>0.420972</td>\n",
       "      <td>-0.516604</td>\n",
       "      <td>0.763651</td>\n",
       "      <td>0.091203</td>\n",
       "      <td>1.000000</td>\n",
       "      <td>-0.302188</td>\n",
       "      <td>0.731470</td>\n",
       "      <td>-0.769230</td>\n",
       "      <td>0.611441</td>\n",
       "      <td>0.668023</td>\n",
       "      <td>0.188933</td>\n",
       "      <td>-0.380051</td>\n",
       "      <td>0.590879</td>\n",
       "      <td>-0.427321</td>\n",
       "    </tr>\n",
       "    <tr>\n",
       "      <th>RM</th>\n",
       "      <td>-0.219247</td>\n",
       "      <td>0.311991</td>\n",
       "      <td>-0.391676</td>\n",
       "      <td>0.091251</td>\n",
       "      <td>-0.302188</td>\n",
       "      <td>1.000000</td>\n",
       "      <td>-0.240265</td>\n",
       "      <td>0.205246</td>\n",
       "      <td>-0.209847</td>\n",
       "      <td>-0.292048</td>\n",
       "      <td>-0.355501</td>\n",
       "      <td>0.128069</td>\n",
       "      <td>-0.613808</td>\n",
       "      <td>0.695360</td>\n",
       "    </tr>\n",
       "    <tr>\n",
       "      <th>AGE</th>\n",
       "      <td>0.352734</td>\n",
       "      <td>-0.569537</td>\n",
       "      <td>0.644779</td>\n",
       "      <td>0.086518</td>\n",
       "      <td>0.731470</td>\n",
       "      <td>-0.240265</td>\n",
       "      <td>1.000000</td>\n",
       "      <td>-0.747881</td>\n",
       "      <td>0.456022</td>\n",
       "      <td>0.506456</td>\n",
       "      <td>0.261515</td>\n",
       "      <td>-0.273534</td>\n",
       "      <td>0.602339</td>\n",
       "      <td>-0.376955</td>\n",
       "    </tr>\n",
       "    <tr>\n",
       "      <th>DIS</th>\n",
       "      <td>-0.379670</td>\n",
       "      <td>0.664408</td>\n",
       "      <td>-0.708027</td>\n",
       "      <td>-0.099176</td>\n",
       "      <td>-0.769230</td>\n",
       "      <td>0.205246</td>\n",
       "      <td>-0.747881</td>\n",
       "      <td>1.000000</td>\n",
       "      <td>-0.494588</td>\n",
       "      <td>-0.534432</td>\n",
       "      <td>-0.232471</td>\n",
       "      <td>0.291512</td>\n",
       "      <td>-0.496996</td>\n",
       "      <td>0.249929</td>\n",
       "    </tr>\n",
       "    <tr>\n",
       "      <th>RAD</th>\n",
       "      <td>0.625505</td>\n",
       "      <td>-0.311948</td>\n",
       "      <td>0.595129</td>\n",
       "      <td>-0.007368</td>\n",
       "      <td>0.611441</td>\n",
       "      <td>-0.209847</td>\n",
       "      <td>0.456022</td>\n",
       "      <td>-0.494588</td>\n",
       "      <td>1.000000</td>\n",
       "      <td>0.910228</td>\n",
       "      <td>0.464741</td>\n",
       "      <td>-0.444413</td>\n",
       "      <td>0.488676</td>\n",
       "      <td>-0.381626</td>\n",
       "    </tr>\n",
       "    <tr>\n",
       "      <th>TAX</th>\n",
       "      <td>0.582764</td>\n",
       "      <td>-0.314563</td>\n",
       "      <td>0.720760</td>\n",
       "      <td>-0.035587</td>\n",
       "      <td>0.668023</td>\n",
       "      <td>-0.292048</td>\n",
       "      <td>0.506456</td>\n",
       "      <td>-0.534432</td>\n",
       "      <td>0.910228</td>\n",
       "      <td>1.000000</td>\n",
       "      <td>0.460853</td>\n",
       "      <td>-0.441808</td>\n",
       "      <td>0.543993</td>\n",
       "      <td>-0.468536</td>\n",
       "    </tr>\n",
       "    <tr>\n",
       "      <th>PRATIO</th>\n",
       "      <td>0.289946</td>\n",
       "      <td>-0.391679</td>\n",
       "      <td>0.383248</td>\n",
       "      <td>-0.121515</td>\n",
       "      <td>0.188933</td>\n",
       "      <td>-0.355501</td>\n",
       "      <td>0.261515</td>\n",
       "      <td>-0.232471</td>\n",
       "      <td>0.464741</td>\n",
       "      <td>0.460853</td>\n",
       "      <td>1.000000</td>\n",
       "      <td>-0.177383</td>\n",
       "      <td>0.374044</td>\n",
       "      <td>-0.507787</td>\n",
       "    </tr>\n",
       "    <tr>\n",
       "      <th>B</th>\n",
       "      <td>-0.385064</td>\n",
       "      <td>0.175520</td>\n",
       "      <td>-0.356977</td>\n",
       "      <td>0.048788</td>\n",
       "      <td>-0.380051</td>\n",
       "      <td>0.128069</td>\n",
       "      <td>-0.273534</td>\n",
       "      <td>0.291512</td>\n",
       "      <td>-0.444413</td>\n",
       "      <td>-0.441808</td>\n",
       "      <td>-0.177383</td>\n",
       "      <td>1.000000</td>\n",
       "      <td>-0.366087</td>\n",
       "      <td>0.333461</td>\n",
       "    </tr>\n",
       "    <tr>\n",
       "      <th>LSTAT</th>\n",
       "      <td>0.455621</td>\n",
       "      <td>-0.412995</td>\n",
       "      <td>0.603800</td>\n",
       "      <td>-0.053929</td>\n",
       "      <td>0.590879</td>\n",
       "      <td>-0.613808</td>\n",
       "      <td>0.602339</td>\n",
       "      <td>-0.496996</td>\n",
       "      <td>0.488676</td>\n",
       "      <td>0.543993</td>\n",
       "      <td>0.374044</td>\n",
       "      <td>-0.366087</td>\n",
       "      <td>1.000000</td>\n",
       "      <td>-0.737663</td>\n",
       "    </tr>\n",
       "    <tr>\n",
       "      <th>MEDV</th>\n",
       "      <td>-0.388305</td>\n",
       "      <td>0.360445</td>\n",
       "      <td>-0.483725</td>\n",
       "      <td>0.175260</td>\n",
       "      <td>-0.427321</td>\n",
       "      <td>0.695360</td>\n",
       "      <td>-0.376955</td>\n",
       "      <td>0.249929</td>\n",
       "      <td>-0.381626</td>\n",
       "      <td>-0.468536</td>\n",
       "      <td>-0.507787</td>\n",
       "      <td>0.333461</td>\n",
       "      <td>-0.737663</td>\n",
       "      <td>1.000000</td>\n",
       "    </tr>\n",
       "  </tbody>\n",
       "</table>\n",
       "</div>"
      ],
      "text/plain": [
       "            CRIM        ZN     INDUS      CHAS       NOX        RM       AGE  \\\n",
       "CRIM    1.000000 -0.200469  0.406583 -0.055892  0.420972 -0.219247  0.352734   \n",
       "ZN     -0.200469  1.000000 -0.533828 -0.042697 -0.516604  0.311991 -0.569537   \n",
       "INDUS   0.406583 -0.533828  1.000000  0.062938  0.763651 -0.391676  0.644779   \n",
       "CHAS   -0.055892 -0.042697  0.062938  1.000000  0.091203  0.091251  0.086518   \n",
       "NOX     0.420972 -0.516604  0.763651  0.091203  1.000000 -0.302188  0.731470   \n",
       "RM     -0.219247  0.311991 -0.391676  0.091251 -0.302188  1.000000 -0.240265   \n",
       "AGE     0.352734 -0.569537  0.644779  0.086518  0.731470 -0.240265  1.000000   \n",
       "DIS    -0.379670  0.664408 -0.708027 -0.099176 -0.769230  0.205246 -0.747881   \n",
       "RAD     0.625505 -0.311948  0.595129 -0.007368  0.611441 -0.209847  0.456022   \n",
       "TAX     0.582764 -0.314563  0.720760 -0.035587  0.668023 -0.292048  0.506456   \n",
       "PRATIO  0.289946 -0.391679  0.383248 -0.121515  0.188933 -0.355501  0.261515   \n",
       "B      -0.385064  0.175520 -0.356977  0.048788 -0.380051  0.128069 -0.273534   \n",
       "LSTAT   0.455621 -0.412995  0.603800 -0.053929  0.590879 -0.613808  0.602339   \n",
       "MEDV   -0.388305  0.360445 -0.483725  0.175260 -0.427321  0.695360 -0.376955   \n",
       "\n",
       "             DIS       RAD       TAX    PRATIO         B     LSTAT      MEDV  \n",
       "CRIM   -0.379670  0.625505  0.582764  0.289946 -0.385064  0.455621 -0.388305  \n",
       "ZN      0.664408 -0.311948 -0.314563 -0.391679  0.175520 -0.412995  0.360445  \n",
       "INDUS  -0.708027  0.595129  0.720760  0.383248 -0.356977  0.603800 -0.483725  \n",
       "CHAS   -0.099176 -0.007368 -0.035587 -0.121515  0.048788 -0.053929  0.175260  \n",
       "NOX    -0.769230  0.611441  0.668023  0.188933 -0.380051  0.590879 -0.427321  \n",
       "RM      0.205246 -0.209847 -0.292048 -0.355501  0.128069 -0.613808  0.695360  \n",
       "AGE    -0.747881  0.456022  0.506456  0.261515 -0.273534  0.602339 -0.376955  \n",
       "DIS     1.000000 -0.494588 -0.534432 -0.232471  0.291512 -0.496996  0.249929  \n",
       "RAD    -0.494588  1.000000  0.910228  0.464741 -0.444413  0.488676 -0.381626  \n",
       "TAX    -0.534432  0.910228  1.000000  0.460853 -0.441808  0.543993 -0.468536  \n",
       "PRATIO -0.232471  0.464741  0.460853  1.000000 -0.177383  0.374044 -0.507787  \n",
       "B       0.291512 -0.444413 -0.441808 -0.177383  1.000000 -0.366087  0.333461  \n",
       "LSTAT  -0.496996  0.488676  0.543993  0.374044 -0.366087  1.000000 -0.737663  \n",
       "MEDV    0.249929 -0.381626 -0.468536 -0.507787  0.333461 -0.737663  1.000000  "
      ]
     },
     "execution_count": 114,
     "metadata": {},
     "output_type": "execute_result"
    }
   ],
   "source": [
    "boston.corr()"
   ]
  },
  {
   "cell_type": "markdown",
   "metadata": {},
   "source": [
    "we can visualize this table with a heatmap"
   ]
  },
  {
   "cell_type": "code",
   "execution_count": 115,
   "metadata": {},
   "outputs": [
    {
     "data": {
      "image/png": "[encoded data removed]",
      "text/plain": [
       "<Figure size 432x288 with 2 Axes>"
      ]
     },
     "metadata": {
      "needs_background": "light"
     },
     "output_type": "display_data"
    }
   ],
   "source": [
    "import seaborn as sns\n",
    "\n",
    "hm = sns.heatmap(boston.corr(),\n",
    "                 cbar=True, #bar with color intensity\n",
    "                 square=True, #force cell to be squared\n",
    "                 yticklabels=boston.columns, #labels on y\n",
    "                 xticklabels=boston.columns,#labels on x\n",
    "                 annot=True, #numbers in cell\n",
    "                    annot_kws={'size':7} #number annotation size\n",
    "                ) \n",
    "plt.show()"
   ]
  },
  {
   "cell_type": "markdown",
   "metadata": {},
   "source": [
    "we can observe that most correlated features (with MEDV) are LM and LSTAT, we can built multiple regression model with these 2 features:"
   ]
  },
  {
   "cell_type": "code",
   "execution_count": 116,
   "metadata": {},
   "outputs": [
    {
     "name": "stdout",
     "output_type": "stream",
     "text": [
      "MSE: 32.72507169281496\n",
      "R2 score: 0.6069792285352371\n"
     ]
    }
   ],
   "source": [
    "X = boston[[\"RM\",\"LSTAT\"]].values #regression variable\n",
    "Y = boston[\"MEDV\"].values #target\n",
    "\n",
    "X_train, X_test, Y_train, Y_test = train_test_split(X,Y, test_size=0.3, random_state=0)\n",
    "\n",
    "ll = LinearRegression()\n",
    "ll.fit(X_train, Y_train)\n",
    "Y_pred = ll.predict(X_test)\n",
    "\n",
    "print(\"MSE: \"+str(mean_squared_error(Y_test, Y_pred)))\n",
    "print(\"R2 score: \"+str(r2_score(Y_test, Y_pred)))"
   ]
  },
  {
   "cell_type": "markdown",
   "metadata": {},
   "source": [
    "Now we want to try to build regression with all variables and not only with most correlated ones"
   ]
  },
  {
   "cell_type": "code",
   "execution_count": 117,
   "metadata": {},
   "outputs": [
    {
     "name": "stdout",
     "output_type": "stream",
     "text": [
      "MSE: 27.195965766883205\n",
      "R2 score: 0.6733825506400195\n"
     ]
    }
   ],
   "source": [
    "from sklearn.preprocessing import StandardScaler\n",
    "\n",
    "X = boston.drop(\"MEDV\", axis=1).values\n",
    "Y = boston[\"MEDV\"].values\n",
    "\n",
    "#splitting\n",
    "X_train, X_test, Y_train, Y_test = train_test_split(X,Y, test_size=0.3, random_state=0)\n",
    "\n",
    "#variable standardization\n",
    "ss = StandardScaler() \n",
    "X_train_std = ss.fit_transform(X_train)\n",
    "X_test_std = ss.transform(X_test) #only trasform because variable is already fitted\n",
    "\n",
    "#regression\n",
    "ll = LinearRegression()\n",
    "ll.fit(X_train_std, Y_train)\n",
    "Y_pred = ll.predict(X_test_std)\n",
    "\n",
    "print(\"MSE: \"+str(mean_squared_error(Y_test, Y_pred)))\n",
    "print(\"R2 score: \"+str(r2_score(Y_test, Y_pred)))"
   ]
  },
  {
   "cell_type": "markdown",
   "metadata": {},
   "source": [
    "we can observe that score is better than before. We can try to understand what variables were more impactful in regression:\n",
    "with *zip()* we merge arguments in tuple, with *list()* we create a list of tuple, *LinearRegression* has a lot of attributes:\n",
    "* **coef_**:  Estimated coefficients for the linear regression problem\n",
    "* **rank_**:  rank of matrix X, only if x is dense\n",
    "* **singular_**:  singular values of X, only if X is dense\n",
    "* **intercept_**:  Independent term in the linear model. Set to 0.0 if fit_intercept = False\n",
    "* **n_features_in_**:  Number of features seen during fit\n",
    "* **features_names_in_**: Names of features seen during fit. Defined only when X has feature names that are all strings"
   ]
  },
  {
   "cell_type": "code",
   "execution_count": 118,
   "metadata": {},
   "outputs": [
    {
     "data": {
      "text/html": [
       "<div>\n",
       "<style scoped>\n",
       "    .dataframe tbody tr th:only-of-type {\n",
       "        vertical-align: middle;\n",
       "    }\n",
       "\n",
       "    .dataframe tbody tr th {\n",
       "        vertical-align: top;\n",
       "    }\n",
       "\n",
       "    .dataframe thead th {\n",
       "        text-align: right;\n",
       "    }\n",
       "</style>\n",
       "<table border=\"1\" class=\"dataframe\">\n",
       "  <thead>\n",
       "    <tr style=\"text-align: right;\">\n",
       "      <th></th>\n",
       "      <th>feature</th>\n",
       "      <th>weight</th>\n",
       "    </tr>\n",
       "  </thead>\n",
       "  <tbody>\n",
       "    <tr>\n",
       "      <th>0</th>\n",
       "      <td>CRIM</td>\n",
       "      <td>-1.011901</td>\n",
       "    </tr>\n",
       "    <tr>\n",
       "      <th>1</th>\n",
       "      <td>ZN</td>\n",
       "      <td>1.050280</td>\n",
       "    </tr>\n",
       "    <tr>\n",
       "      <th>2</th>\n",
       "      <td>INDUS</td>\n",
       "      <td>0.079210</td>\n",
       "    </tr>\n",
       "    <tr>\n",
       "      <th>3</th>\n",
       "      <td>CHAS</td>\n",
       "      <td>0.618962</td>\n",
       "    </tr>\n",
       "    <tr>\n",
       "      <th>4</th>\n",
       "      <td>NOX</td>\n",
       "      <td>-1.873691</td>\n",
       "    </tr>\n",
       "    <tr>\n",
       "      <th>5</th>\n",
       "      <td>RM</td>\n",
       "      <td>2.705270</td>\n",
       "    </tr>\n",
       "    <tr>\n",
       "      <th>6</th>\n",
       "      <td>AGE</td>\n",
       "      <td>-0.279573</td>\n",
       "    </tr>\n",
       "    <tr>\n",
       "      <th>7</th>\n",
       "      <td>DIS</td>\n",
       "      <td>-3.097665</td>\n",
       "    </tr>\n",
       "    <tr>\n",
       "      <th>8</th>\n",
       "      <td>RAD</td>\n",
       "      <td>2.096900</td>\n",
       "    </tr>\n",
       "    <tr>\n",
       "      <th>9</th>\n",
       "      <td>TAX</td>\n",
       "      <td>-1.886063</td>\n",
       "    </tr>\n",
       "    <tr>\n",
       "      <th>10</th>\n",
       "      <td>PRATIO</td>\n",
       "      <td>-2.261105</td>\n",
       "    </tr>\n",
       "    <tr>\n",
       "      <th>11</th>\n",
       "      <td>B</td>\n",
       "      <td>0.582643</td>\n",
       "    </tr>\n",
       "    <tr>\n",
       "      <th>12</th>\n",
       "      <td>LSTAT</td>\n",
       "      <td>-3.440498</td>\n",
       "    </tr>\n",
       "  </tbody>\n",
       "</table>\n",
       "</div>"
      ],
      "text/plain": [
       "   feature    weight\n",
       "0     CRIM -1.011901\n",
       "1       ZN  1.050280\n",
       "2    INDUS  0.079210\n",
       "3     CHAS  0.618962\n",
       "4      NOX -1.873691\n",
       "5       RM  2.705270\n",
       "6      AGE -0.279573\n",
       "7      DIS -3.097665\n",
       "8      RAD  2.096900\n",
       "9      TAX -1.886063\n",
       "10  PRATIO -2.261105\n",
       "11       B  0.582643\n",
       "12   LSTAT -3.440498"
      ]
     },
     "execution_count": 118,
     "metadata": {},
     "output_type": "execute_result"
    }
   ],
   "source": [
    "weights = pd.DataFrame(data=list(zip(boston.columns, ll.coef_)), columns=['feature', 'weight'])\n",
    "weights"
   ]
  },
  {
   "cell_type": "markdown",
   "metadata": {},
   "source": [
    "## Polynomial Regression with SciKit-Learn\n",
    "\n",
    "With polynomial regression we can find correlation between independent and dependent variables trough a polynomial independent variable"
   ]
  },
  {
   "cell_type": "code",
   "execution_count": 119,
   "metadata": {},
   "outputs": [],
   "source": [
    "import pandas as pd\n",
    "import numpy as np\n",
    "import matplotlib.pyplot as plt\n",
    "import seaborn as sns\n",
    "from sklearn.model_selection import train_test_split\n",
    "from sklearn.linear_model import LinearRegression\n",
    "from sklearn.metrics import mean_squared_error, r2_score\n",
    "\n",
    "boston = pd.read_csv(\"https://archive.ics.uci.edu/ml/machine-learning-databases/housing/housing.data\", sep='\\s+', \n",
    "                     names=[\"CRIM\", \"ZN\",\"INDUS\",\"CHAS\",\"NOX\",\"RM\",\"AGE\",\"DIS\",\"RAD\",\"TAX\",\"PRATIO\",\"B\",\"LSTAT\",\"MEDV\"])\n",
    "boston.head()\n",
    "\n",
    "#first try with only 1 variable\n",
    "X = boston[['LSTAT']].values\n",
    "Y = boston['MEDV'].values\n",
    "\n",
    "X_train, X_test, Y_train, Y_test = train_test_split(X,Y, test_size=0.3, random_state=0)"
   ]
  },
  {
   "cell_type": "markdown",
   "metadata": {},
   "source": [
    "for polynomial regression there are more parameters, for example the degree. We have to import *class sklearn.preprocessing.PolynomialFeatures(degree=2, *, interaction_only=False, include_bias=True, order='C')* from sklearn:\n",
    "* **degree**: If a single int is given, it specifies the maximal degree of the polynomial features. If a tuple (min_degree, max_degree) is passed, then min_degree is the minimum and max_degree is the maximum polynomial degree of the generated features. Note that min_degree=0 and min_degree=1 are equivalent as outputting the degree zero term is determined by include_bias\n",
    "* **interaction_only**: If True, only interaction features are produced: features that are products of at most degree distinct input features\n",
    "* **include_bias**: If True (default), then include a bias column, the feature in which all polynomial powers are zero\n",
    "* **order**: *{F,C}* Order of output array in the dense case. 'F' order is faster to compute, but may slow down subsequent estimators\n",
    "\n",
    "The rest of process is equal to the multiple or simple version, we try to do 10 different regression to test 10 polynomial degrees"
   ]
  },
  {
   "cell_type": "code",
   "execution_count": 120,
   "metadata": {},
   "outputs": [
    {
     "name": "stdout",
     "output_type": "stream",
     "text": [
      "DEGREE 1: MSE=39.81715050474416 R2=0.5218049526125568\n",
      "DEGREE 2: MSE=33.60239474228596 R2=0.5964427754767518\n",
      "DEGREE 3: MSE=32.091676573441816 R2=0.6145861618613053\n",
      "DEGREE 4: MSE=29.843976067638522 R2=0.6415805408226356\n",
      "DEGREE 5: MSE=29.84701333665813 R2=0.6415440639029076\n",
      "DEGREE 6: MSE=29.5482979569237 R2=0.6451315686177527\n",
      "DEGREE 7: MSE=29.67171081021597 R2=0.6436494079286977\n",
      "DEGREE 8: MSE=31.82327509909759 R2=0.6178096033712046\n",
      "DEGREE 9: MSE=30.460452196211786 R2=0.6341768007814894\n",
      "DEGREE 10: MSE=35.37825532046339 R2=0.5751150882221386\n"
     ]
    }
   ],
   "source": [
    "from sklearn.preprocessing import PolynomialFeatures\n",
    "\n",
    "scores = []\n",
    "\n",
    "for i in range(1,11):\n",
    "    #create regression function\n",
    "    polyfeats = PolynomialFeatures(degree=i)\n",
    "    X_train_poly = polyfeats.fit_transform(X_train)\n",
    "    X_test_poly = polyfeats.transform(X_test)\n",
    "    \n",
    "    #polynomial regression\n",
    "    ll = LinearRegression()\n",
    "    ll.fit(X_train_poly, Y_train)\n",
    "    Y_pred = ll.predict(X_test_poly)\n",
    "    \n",
    "    #check score\n",
    "    mse = mean_squared_error(Y_test, Y_pred)\n",
    "    r2 = r2_score(Y_test, Y_pred)\n",
    "    scores.append(r2)\n",
    "    print(\"DEGREE \"+str(i)+\": MSE=\"+str(mse)+\" R2=\"+str(r2))\n"
   ]
  },
  {
   "cell_type": "markdown",
   "metadata": {},
   "source": [
    "You can note that performance increase until *degree 4*, after degree 4 it decrease.\n",
    "\n",
    "\n",
    "Now we can use all features and not only one of them:"
   ]
  },
  {
   "cell_type": "code",
   "execution_count": 121,
   "metadata": {},
   "outputs": [
    {
     "name": "stdout",
     "output_type": "stream",
     "text": [
      "DEGREE 1: MSE=27.195965766883198 R2=0.6733825506400196\n",
      "DEGREE 2: MSE=29.004173799742382 R2=0.6516663777095527\n",
      "DEGREE 3: MSE=85912.07676339304 R2=-1030.7847736022554\n",
      "DEGREE 4: MSE=546667.2171232016 R2=-6564.3506713456045\n",
      "DEGREE 5: MSE=14811.522412351813 R2=-176.88306225004337\n"
     ]
    }
   ],
   "source": [
    "import pandas as pd\n",
    "import numpy as np\n",
    "import matplotlib.pyplot as plt\n",
    "import seaborn as sns\n",
    "from sklearn.model_selection import train_test_split\n",
    "from sklearn.linear_model import LinearRegression\n",
    "from sklearn.metrics import mean_squared_error, r2_score\n",
    "from sklearn.preprocessing import PolynomialFeatures\n",
    "\n",
    "boston = pd.read_csv(\"https://archive.ics.uci.edu/ml/machine-learning-databases/housing/housing.data\", sep='\\s+', \n",
    "                     names=[\"CRIM\", \"ZN\",\"INDUS\",\"CHAS\",\"NOX\",\"RM\",\"AGE\",\"DIS\",\"RAD\",\"TAX\",\"PRATIO\",\"B\",\"LSTAT\",\"MEDV\"])\n",
    "\n",
    "X = boston.drop(['MEDV'], axis=1).values\n",
    "Y = boston['MEDV'].values\n",
    "\n",
    "#create sets\n",
    "X_train, X_test, Y_train, Y_test = train_test_split(X,Y, test_size=0.3, random_state=0)\n",
    "\n",
    "scores = []\n",
    "\n",
    "#loop to try polynomial regression in different degrees\n",
    "for i in range(1,6):\n",
    "    #create regression function\n",
    "    polyfeats = PolynomialFeatures(degree=i)\n",
    "    X_train_poly = polyfeats.fit_transform(X_train)\n",
    "    X_test_poly = polyfeats.transform(X_test)\n",
    "    \n",
    "    #polynomial regression\n",
    "    ll = LinearRegression()\n",
    "    ll.fit(X_train_poly, Y_train)\n",
    "    Y_pred = ll.predict(X_test_poly)\n",
    "    \n",
    "    #check score\n",
    "    mse = mean_squared_error(Y_test, Y_pred)\n",
    "    r2 = r2_score(Y_test, Y_pred)\n",
    "    scores.append(r2)\n",
    "    print(\"DEGREE \"+str(i)+\": MSE=\"+str(mse)+\" R2=\"+str(r2))"
   ]
  },
  {
   "cell_type": "markdown",
   "metadata": {},
   "source": [
    "we can observe we obtain best result with first degree. Other results are bad, this is overfitting: complexity of the model is too high and it will not be adapted to a generic model (works only for X_train case) \n",
    "\n",
    "# Overfitting and Regularization \n",
    "\n",
    "Overfitting manifests when model fit to strictly with test set and can not be generalized to a different model:\n",
    "* **High variance** between different predictions, so they will be very different from each other\n",
    "* **Low Bias** so the error for the single prediction is very low"
   ]
  },
  {
   "cell_type": "code",
   "execution_count": 1,
   "metadata": {},
   "outputs": [
    {
     "data": {
      "text/html": [
       "<div>\n",
       "<style scoped>\n",
       "    .dataframe tbody tr th:only-of-type {\n",
       "        vertical-align: middle;\n",
       "    }\n",
       "\n",
       "    .dataframe tbody tr th {\n",
       "        vertical-align: top;\n",
       "    }\n",
       "\n",
       "    .dataframe thead th {\n",
       "        text-align: right;\n",
       "    }\n",
       "</style>\n",
       "<table border=\"1\" class=\"dataframe\">\n",
       "  <thead>\n",
       "    <tr style=\"text-align: right;\">\n",
       "      <th></th>\n",
       "      <th>CRIM</th>\n",
       "      <th>ZN</th>\n",
       "      <th>INDUS</th>\n",
       "      <th>CHAS</th>\n",
       "      <th>NOX</th>\n",
       "      <th>RM</th>\n",
       "      <th>AGE</th>\n",
       "      <th>DIS</th>\n",
       "      <th>RAD</th>\n",
       "      <th>TAX</th>\n",
       "      <th>PRATIO</th>\n",
       "      <th>B</th>\n",
       "      <th>LSTAT</th>\n",
       "      <th>MEDV</th>\n",
       "    </tr>\n",
       "  </thead>\n",
       "  <tbody>\n",
       "    <tr>\n",
       "      <th>0</th>\n",
       "      <td>0.00632</td>\n",
       "      <td>18.0</td>\n",
       "      <td>2.31</td>\n",
       "      <td>0</td>\n",
       "      <td>0.538</td>\n",
       "      <td>6.575</td>\n",
       "      <td>65.2</td>\n",
       "      <td>4.0900</td>\n",
       "      <td>1</td>\n",
       "      <td>296.0</td>\n",
       "      <td>15.3</td>\n",
       "      <td>396.90</td>\n",
       "      <td>4.98</td>\n",
       "      <td>24.0</td>\n",
       "    </tr>\n",
       "    <tr>\n",
       "      <th>1</th>\n",
       "      <td>0.02731</td>\n",
       "      <td>0.0</td>\n",
       "      <td>7.07</td>\n",
       "      <td>0</td>\n",
       "      <td>0.469</td>\n",
       "      <td>6.421</td>\n",
       "      <td>78.9</td>\n",
       "      <td>4.9671</td>\n",
       "      <td>2</td>\n",
       "      <td>242.0</td>\n",
       "      <td>17.8</td>\n",
       "      <td>396.90</td>\n",
       "      <td>9.14</td>\n",
       "      <td>21.6</td>\n",
       "    </tr>\n",
       "    <tr>\n",
       "      <th>2</th>\n",
       "      <td>0.02729</td>\n",
       "      <td>0.0</td>\n",
       "      <td>7.07</td>\n",
       "      <td>0</td>\n",
       "      <td>0.469</td>\n",
       "      <td>7.185</td>\n",
       "      <td>61.1</td>\n",
       "      <td>4.9671</td>\n",
       "      <td>2</td>\n",
       "      <td>242.0</td>\n",
       "      <td>17.8</td>\n",
       "      <td>392.83</td>\n",
       "      <td>4.03</td>\n",
       "      <td>34.7</td>\n",
       "    </tr>\n",
       "    <tr>\n",
       "      <th>3</th>\n",
       "      <td>0.03237</td>\n",
       "      <td>0.0</td>\n",
       "      <td>2.18</td>\n",
       "      <td>0</td>\n",
       "      <td>0.458</td>\n",
       "      <td>6.998</td>\n",
       "      <td>45.8</td>\n",
       "      <td>6.0622</td>\n",
       "      <td>3</td>\n",
       "      <td>222.0</td>\n",
       "      <td>18.7</td>\n",
       "      <td>394.63</td>\n",
       "      <td>2.94</td>\n",
       "      <td>33.4</td>\n",
       "    </tr>\n",
       "    <tr>\n",
       "      <th>4</th>\n",
       "      <td>0.06905</td>\n",
       "      <td>0.0</td>\n",
       "      <td>2.18</td>\n",
       "      <td>0</td>\n",
       "      <td>0.458</td>\n",
       "      <td>7.147</td>\n",
       "      <td>54.2</td>\n",
       "      <td>6.0622</td>\n",
       "      <td>3</td>\n",
       "      <td>222.0</td>\n",
       "      <td>18.7</td>\n",
       "      <td>396.90</td>\n",
       "      <td>5.33</td>\n",
       "      <td>36.2</td>\n",
       "    </tr>\n",
       "  </tbody>\n",
       "</table>\n",
       "</div>"
      ],
      "text/plain": [
       "      CRIM    ZN  INDUS  CHAS    NOX     RM   AGE     DIS  RAD    TAX  PRATIO  \\\n",
       "0  0.00632  18.0   2.31     0  0.538  6.575  65.2  4.0900    1  296.0    15.3   \n",
       "1  0.02731   0.0   7.07     0  0.469  6.421  78.9  4.9671    2  242.0    17.8   \n",
       "2  0.02729   0.0   7.07     0  0.469  7.185  61.1  4.9671    2  242.0    17.8   \n",
       "3  0.03237   0.0   2.18     0  0.458  6.998  45.8  6.0622    3  222.0    18.7   \n",
       "4  0.06905   0.0   2.18     0  0.458  7.147  54.2  6.0622    3  222.0    18.7   \n",
       "\n",
       "        B  LSTAT  MEDV  \n",
       "0  396.90   4.98  24.0  \n",
       "1  396.90   9.14  21.6  \n",
       "2  392.83   4.03  34.7  \n",
       "3  394.63   2.94  33.4  \n",
       "4  396.90   5.33  36.2  "
      ]
     },
     "execution_count": 1,
     "metadata": {},
     "output_type": "execute_result"
    }
   ],
   "source": [
    "import pandas as pd\n",
    "import numpy as np \n",
    "from sklearn.linear_model import LinearRegression\n",
    "from sklearn.preprocessing import PolynomialFeatures\n",
    "from sklearn.model_selection import train_test_split\n",
    "from sklearn.metrics import mean_squared_error, r2_score\n",
    "from sklearn.preprocessing import StandardScaler\n",
    "\n",
    "boston = pd.read_csv(\"https://archive.ics.uci.edu/ml/machine-learning-databases/housing/housing.data\", sep='\\s+', \n",
    "                     names=[\"CRIM\", \"ZN\",\"INDUS\",\"CHAS\",\"NOX\",\"RM\",\"AGE\",\"DIS\",\"RAD\",\"TAX\",\"PRATIO\",\"B\",\"LSTAT\",\"MEDV\"])\n",
    "boston.head()"
   ]
  },
  {
   "cell_type": "code",
   "execution_count": 3,
   "metadata": {},
   "outputs": [],
   "source": [
    "#we build sets\n",
    "X = boston.drop('MEDV',axis=1).values\n",
    "Y = boston['MEDV'].values\n",
    "\n",
    "X_train, X_test, Y_train, Y_test = train_test_split(X,Y, test_size=0.3, random_state=0)"
   ]
  },
  {
   "cell_type": "code",
   "execution_count": 4,
   "metadata": {},
   "outputs": [
    {
     "name": "stdout",
     "output_type": "stream",
     "text": [
      "Number of examples in test set: 354\n",
      "Number of features: 105\n"
     ]
    }
   ],
   "source": [
    "#we create polynomial features\n",
    "polyfeats = PolynomialFeatures(degree=2)\n",
    "X_train_poly = polyfeats.fit_transform(X_train)\n",
    "X_test_poly = polyfeats.transform(X_test)\n",
    "\n",
    "print(\"Number of examples in test set: \"+str(X_train_poly.shape[0]))\n",
    "print(\"Number of features: \"+str(X_train_poly.shape[1]))"
   ]
  },
  {
   "cell_type": "code",
   "execution_count": null,
   "metadata": {},
   "outputs": [],
   "source": [
    "#Standardization (MANDATORY FOR REGULARIZATION)\n",
    "ss = StandardScaler()\n",
    "X_train_poly = ss.fit_transform(X_train_poly)\n",
    "X_test_poly = ss.transform(X_test_poly)"
   ]
  },
  {
   "cell_type": "markdown",
   "metadata": {},
   "source": [
    "We can create a function to recognize overfitting, keep in mind that overfitting store test set data instead of learn from it, so MSE should be very low for train set predict and very high for test set. "
   ]
  },
  {
   "cell_type": "code",
   "execution_count": 5,
   "metadata": {},
   "outputs": [],
   "source": [
    "def overfit_eval(model, X, Y):\n",
    "    \n",
    "    \"\"\"\n",
    "    model: predictive model already trained\n",
    "    X: a tupla containing X information of train set and test set (X_train, X_test)\n",
    "    Y: a tupla containing target information of train set and test set (Y_train, Y_test)\n",
    "    \"\"\"\n",
    "    \n",
    "    Y_pred_train = model.predict(X[0])\n",
    "    Y_pred_test = model.predict(X[1])\n",
    "    \n",
    "    mse_train = mean_squared_error(Y[0], Y_pred_train)\n",
    "    mse_test = mean_squared_error(Y[1], Y_pred_test)\n",
    "\n",
    "    r2_train = r2_score(Y[0], Y_pred_train)\n",
    "    r2_test = r2_score(Y[1], Y_pred_test)    \n",
    "    \n",
    "    print(\"Train set:  MSE=\"+str(mse_train)+\" R2=\"+str(r2_train))\n",
    "    print(\"Test set:  MSE=\"+str(mse_test)+\" R2=\"+str(r2_test))   "
   ]
  },
  {
   "cell_type": "code",
   "execution_count": 6,
   "metadata": {},
   "outputs": [
    {
     "name": "stdout",
     "output_type": "stream",
     "text": [
      "Train set:  MSE=4.123989217497917 R2=0.9513476919918851\n",
      "Test set:  MSE=29.004173799742382 R2=0.6516663777095527\n"
     ]
    }
   ],
   "source": [
    "#Regression\n",
    "ll = LinearRegression()\n",
    "ll.fit(X_train_poly, Y_train)\n",
    "\n",
    "overfit_eval(ll, (X_train_poly, X_test_poly),(Y_train, Y_test))"
   ]
  },
  {
   "cell_type": "markdown",
   "metadata": {},
   "source": [
    "On train set MSE is very low and R2 is very high, on test set performance are bad -> overfitting"
   ]
  },
  {
   "cell_type": "markdown",
   "metadata": {},
   "source": [
    "## L2 Regulation: Ridge Regression\n",
    "\n",
    "This regulation works adding a penalty to weights of cost function during train phase. $$\\alpha  \\sum_{j=1}^{M}W_j^2$$\n",
    "$\\Alpha$ is the penalty parameter, best values for $\\alpha$ are power of 10"
   ]
  },
  {
   "cell_type": "code",
   "execution_count": 7,
   "metadata": {},
   "outputs": [
    {
     "name": "stdout",
     "output_type": "stream",
     "text": [
      "Alpha=0.0001\n",
      "Train set:  MSE=4.092050424281049 R2=0.9517244863827146\n",
      "Test set:  MSE=29.26663162187659 R2=0.6485143181296559\n",
      "Alpha=0.001\n",
      "Train set:  MSE=4.092423597563994 R2=0.9517200839120619\n",
      "Test set:  MSE=29.60591683046999 R2=0.6444395788691996\n",
      "Alpha=0.01\n",
      "Train set:  MSE=4.103565799616381 R2=0.9515886350120886\n",
      "Test set:  MSE=31.515751179987774 R2=0.6215028966683723\n",
      "Alpha=0.1\n",
      "Train set:  MSE=4.186034070303276 R2=0.9506157246830966\n",
      "Test set:  MSE=32.099767939612576 R2=0.6144889863683229\n",
      "Alpha=1\n",
      "Train set:  MSE=4.438560434760282 R2=0.9476365727465196\n",
      "Test set:  MSE=29.909133436966624 R2=0.6407980154304738\n",
      "Alpha=10\n",
      "Train set:  MSE=4.993224161313832 R2=0.941092988599715\n",
      "Test set:  MSE=21.366403813403693 R2=0.7433942822494933\n"
     ]
    },
    {
     "name": "stderr",
     "output_type": "stream",
     "text": [
      "c:\\Users\\miche\\anaconda3\\lib\\site-packages\\sklearn\\linear_model\\_ridge.py:157: LinAlgWarning: Ill-conditioned matrix (rcond=6.36657e-18): result may not be accurate.\n",
      "  return linalg.solve(A, Xy, sym_pos=True, overwrite_a=True).T\n",
      "c:\\Users\\miche\\anaconda3\\lib\\site-packages\\sklearn\\linear_model\\_ridge.py:157: LinAlgWarning: Ill-conditioned matrix (rcond=6.36657e-17): result may not be accurate.\n",
      "  return linalg.solve(A, Xy, sym_pos=True, overwrite_a=True).T\n"
     ]
    }
   ],
   "source": [
    "from sklearn.linear_model import Ridge\n",
    "\n",
    "alphas = [0.0001, 0.001, 0.01, 0.1 ,1 ,10] #alpha\n",
    "\n",
    "for alpha in alphas:\n",
    "    print(\"Alpha=\"+str(alpha))\n",
    "    ridge = Ridge(alpha=alpha)\n",
    "    ridge.fit(X_train_poly, Y_train)\n",
    "\n",
    "    overfit_eval(ridge, (X_train_poly, X_test_poly),(Y_train, Y_test))"
   ]
  },
  {
   "cell_type": "markdown",
   "metadata": {},
   "source": [
    "## L1 Regularization: Lasso\n",
    "The only difference between L1 and L2 regularization is the weights sum, in L1 the sum is in module and not squared.\n",
    "$$\\alpha  \\sum_{j=1}^{M} |W_j|$$"
   ]
  },
  {
   "cell_type": "code",
   "execution_count": 8,
   "metadata": {},
   "outputs": [
    {
     "name": "stdout",
     "output_type": "stream",
     "text": [
      "Alpha=0.0001\n",
      "Train set:  MSE=5.394068365290135 R2=0.9363640733076051\n",
      "Test set:  MSE=29.578033804087994 R2=0.6447744477624534\n",
      "Alpha=0.001\n",
      "Train set:  MSE=5.410455513615849 R2=0.9361707477323745\n",
      "Test set:  MSE=28.075283291590633 R2=0.6628221443812649\n",
      "Alpha=0.01\n"
     ]
    },
    {
     "name": "stderr",
     "output_type": "stream",
     "text": [
      "c:\\Users\\miche\\anaconda3\\lib\\site-packages\\sklearn\\linear_model\\_coordinate_descent.py:647: ConvergenceWarning: Objective did not converge. You might want to increase the number of iterations, check the scale of the features or consider increasing regularisation. Duality gap: 9.587e+02, tolerance: 3.001e+00\n",
      "  model = cd_fast.enet_coordinate_descent(\n",
      "c:\\Users\\miche\\anaconda3\\lib\\site-packages\\sklearn\\linear_model\\_coordinate_descent.py:647: ConvergenceWarning: Objective did not converge. You might want to increase the number of iterations, check the scale of the features or consider increasing regularisation. Duality gap: 9.813e+02, tolerance: 3.001e+00\n",
      "  model = cd_fast.enet_coordinate_descent(\n",
      "c:\\Users\\miche\\anaconda3\\lib\\site-packages\\sklearn\\linear_model\\_coordinate_descent.py:647: ConvergenceWarning: Objective did not converge. You might want to increase the number of iterations, check the scale of the features or consider increasing regularisation. Duality gap: 1.062e+03, tolerance: 3.001e+00\n",
      "  model = cd_fast.enet_coordinate_descent(\n",
      "c:\\Users\\miche\\anaconda3\\lib\\site-packages\\sklearn\\linear_model\\_coordinate_descent.py:647: ConvergenceWarning: Objective did not converge. You might want to increase the number of iterations, check the scale of the features or consider increasing regularisation. Duality gap: 1.301e+03, tolerance: 3.001e+00\n",
      "  model = cd_fast.enet_coordinate_descent(\n"
     ]
    },
    {
     "name": "stdout",
     "output_type": "stream",
     "text": [
      "Train set:  MSE=5.554901344330457 R2=0.9344666639737174\n",
      "Test set:  MSE=24.897165410687123 R2=0.7009906273439133\n",
      "Alpha=0.1\n",
      "Train set:  MSE=6.5142302859634915 R2=0.9231490865776866\n",
      "Test set:  MSE=17.627180147945058 R2=0.7883015198400687\n",
      "Alpha=1\n",
      "Train set:  MSE=7.912515471829987 R2=0.9066529712975318\n",
      "Test set:  MSE=20.578625301071533 R2=0.7528553254999539\n",
      "Alpha=10\n",
      "Train set:  MSE=9.873591524755371 R2=0.8835173928267056\n",
      "Test set:  MSE=21.153689577897172 R2=0.7459489325104632\n"
     ]
    },
    {
     "name": "stderr",
     "output_type": "stream",
     "text": [
      "c:\\Users\\miche\\anaconda3\\lib\\site-packages\\sklearn\\linear_model\\_coordinate_descent.py:647: ConvergenceWarning: Objective did not converge. You might want to increase the number of iterations, check the scale of the features or consider increasing regularisation. Duality gap: 1.617e+03, tolerance: 3.001e+00\n",
      "  model = cd_fast.enet_coordinate_descent(\n",
      "c:\\Users\\miche\\anaconda3\\lib\\site-packages\\sklearn\\linear_model\\_coordinate_descent.py:647: ConvergenceWarning: Objective did not converge. You might want to increase the number of iterations, check the scale of the features or consider increasing regularisation. Duality gap: 2.095e+03, tolerance: 3.001e+00\n",
      "  model = cd_fast.enet_coordinate_descent(\n"
     ]
    }
   ],
   "source": [
    "from sklearn.linear_model import Lasso\n",
    "\n",
    "alphas = [0.0001, 0.001, 0.01, 0.1 ,1 ,10] #alpha is a power of 10\n",
    "\n",
    "for alpha in alphas:\n",
    "    print(\"Alpha=\"+str(alpha))\n",
    "    lasso = Lasso(alpha=alpha)\n",
    "    lasso.fit(X_train_poly, Y_train)\n",
    "\n",
    "    overfit_eval(lasso, (X_train_poly, X_test_poly),(Y_train, Y_test))"
   ]
  },
  {
   "cell_type": "markdown",
   "metadata": {},
   "source": [
    "## L1 + L2 Regularization: ElasticNet\n",
    "\n",
    "*class sklearn.linear_model.ElasticNet(alpha=1.0, *, l1_ratio=0.5, fit_intercept=True, normalize='deprecated', precompute=False, max_iter=1000, copy_X=True, tol=0.0001, warm_start=False, positive=False, random_state=None, selection='cyclic')*:\n",
    "\n",
    "* **alpha: float, default=1.0**: Constant that multiplies the penalty terms\n",
    "* **l1_ratio: float, default=0.5**: The ElasticNet mixing parameter, with 0 <= l1_ratio <= 1. For l1_ratio = 0 the penalty is an L2 penalty. For l1_ratio = 1 it is an L1 penalty\n",
    "* **fit_intercept: bool, default=True**: Whether the intercept should be estimated or not\n",
    "* **normalize: bool, default=False**: This parameter is ignored when fit_intercept is set to False. If True, the regressors X will be normalized before regression by subtracting the mean and dividing by the l2-norm\n",
    "* **precompute: bool or array-like of shape (n_features, n_features), default=False**: Whether to use a precomputed Gram matrix to speed up calculations\n",
    "* **max_iter: int, default=1000**: The maximum number of iterations\n",
    "* **copy_X: bool, default=True**: If True, X will be copied; else, it may be overwritten\n",
    "* **tol: float, default=1e-4**: The tolerance for the optimization: if the updates are smaller than tol, the optimization code checks the dual gap for optimality and continues until it is smaller than tol\n",
    "* **warm_start: bool, default=False**: When set to True, reuse the solution of the previous call to fit as initialization, otherwise, just erase the previous solution\n",
    "* **positive: bool, default=False**: When set to True, forces the coefficients to be positive\n",
    "* **random_state: int, RandomState instance, default=None**: The seed of the pseudo random number generator that selects a random feature to update. Used when selection == ‘random’. Pass an int for reproducible output across multiple function calls\n",
    "* **selection: {‘cyclic’, ‘random’}, default=’cyclic’**: If set to ‘random’, a random coefficient is updated every iteration rather than looping over features sequentially by default. This (setting to ‘random’) often leads to significantly faster convergence especially when tol is higher than 1e-4\n"
   ]
  },
  {
   "cell_type": "code",
   "execution_count": 10,
   "metadata": {},
   "outputs": [
    {
     "name": "stdout",
     "output_type": "stream",
     "text": [
      "Lambda is: 0.0001\n",
      "Train set:  MSE=5.406254278214403 R2=0.9362203113437192\n",
      "Test set:  MSE=28.37277958481279 R2=0.659249280622016\n",
      "Lambda is: 0.001\n",
      "Train set:  MSE=5.493351970912163 R2=0.9351927859190774\n",
      "Test set:  MSE=26.237609365499885 R2=0.6848921960808442\n",
      "Lambda is: 0.01\n",
      "Train set:  MSE=5.624518652229553 R2=0.9336453614610358\n",
      "Test set:  MSE=24.25370565701346 R2=0.7087184346706387\n",
      "Lambda is: 0.1\n",
      "Train set:  MSE=6.310832728820977 R2=0.9255486468277979\n",
      "Test set:  MSE=18.38457175830812 R2=0.7792054164670946\n",
      "Lambda is: 1\n",
      "Train set:  MSE=7.432788317608775 R2=0.9123124994961015\n",
      "Test set:  MSE=19.151773695552336 R2=0.7699914932685341\n",
      "Lambda is: 10\n",
      "Train set:  MSE=9.21799480356295 R2=0.8912517228470725\n",
      "Test set:  MSE=21.17108193833971 R2=0.7457400541623\n"
     ]
    },
    {
     "name": "stderr",
     "output_type": "stream",
     "text": [
      "c:\\Users\\miche\\anaconda3\\lib\\site-packages\\sklearn\\linear_model\\_coordinate_descent.py:647: ConvergenceWarning: Objective did not converge. You might want to increase the number of iterations, check the scale of the features or consider increasing regularisation. Duality gap: 9.651e+02, tolerance: 3.001e+00\n",
      "  model = cd_fast.enet_coordinate_descent(\n",
      "c:\\Users\\miche\\anaconda3\\lib\\site-packages\\sklearn\\linear_model\\_coordinate_descent.py:647: ConvergenceWarning: Objective did not converge. You might want to increase the number of iterations, check the scale of the features or consider increasing regularisation. Duality gap: 9.939e+02, tolerance: 3.001e+00\n",
      "  model = cd_fast.enet_coordinate_descent(\n",
      "c:\\Users\\miche\\anaconda3\\lib\\site-packages\\sklearn\\linear_model\\_coordinate_descent.py:647: ConvergenceWarning: Objective did not converge. You might want to increase the number of iterations, check the scale of the features or consider increasing regularisation. Duality gap: 1.062e+03, tolerance: 3.001e+00\n",
      "  model = cd_fast.enet_coordinate_descent(\n",
      "c:\\Users\\miche\\anaconda3\\lib\\site-packages\\sklearn\\linear_model\\_coordinate_descent.py:647: ConvergenceWarning: Objective did not converge. You might want to increase the number of iterations, check the scale of the features or consider increasing regularisation. Duality gap: 1.258e+03, tolerance: 3.001e+00\n",
      "  model = cd_fast.enet_coordinate_descent(\n",
      "c:\\Users\\miche\\anaconda3\\lib\\site-packages\\sklearn\\linear_model\\_coordinate_descent.py:647: ConvergenceWarning: Objective did not converge. You might want to increase the number of iterations, check the scale of the features or consider increasing regularisation. Duality gap: 1.505e+03, tolerance: 3.001e+00\n",
      "  model = cd_fast.enet_coordinate_descent(\n",
      "c:\\Users\\miche\\anaconda3\\lib\\site-packages\\sklearn\\linear_model\\_coordinate_descent.py:647: ConvergenceWarning: Objective did not converge. You might want to increase the number of iterations, check the scale of the features or consider increasing regularisation. Duality gap: 1.911e+03, tolerance: 3.001e+00\n",
      "  model = cd_fast.enet_coordinate_descent(\n"
     ]
    }
   ],
   "source": [
    "from sklearn.linear_model import ElasticNet\n",
    "\n",
    "alphas = [0.0001, 0.001, 0.01, 0.1 ,1 ,10]\n",
    "\n",
    "for alpha in alphas:\n",
    "    print(\"Lambda is: \"+str(alpha))\n",
    "    elastic = ElasticNet(alpha=alpha, l1_ratio=0.5)\n",
    "    elastic.fit(X_train_poly, Y_train)\n",
    "    overfit_eval(elastic, (X_train_poly, X_test_poly),(Y_train, Y_test))"
   ]
  },
  {
   "cell_type": "markdown",
   "metadata": {},
   "source": [
    "# Supervisioned learning - Classification\n",
    "\n",
    "## Logistic regression\n",
    "\n",
    "Logistic Regression is a linear classification model that allow binomial classification i.e. between two classes.\n",
    "The problem could be reduced as find coefficient of a rect who best divide two classes.\n",
    "\n",
    "![Linear classification](img/2.png)\n",
    "\n",
    "In this chapter we will use [Wisconsin breast cancer dataset ](https://archive.ics.uci.edu/ml/datasets/Breast+Cancer+Wisconsin+%28Diagnostic%29), the goal is to recognize malign cancer.\n",
    "\n",
    "*class sklearn.linear_model.LogisticRegression(penalty='l2', \\*, dual=False, tol=0.0001, C=1.0, fit_intercept=True, intercept_scaling=1, class_weight=None, random_state=None, solver='lbfgs', max_iter=100, multi_class='auto', verbose=0, warm_start=False, n_jobs=None, l1_ratio=None)*:\n",
    "* **penalty{'l1', 'l2', 'elasticnet', 'none'}, default='l2'**: Specify the norm of the penalty\n",
    "  * *none*\n",
    "  * *l2*\n",
    "  * *l1*\n",
    "  * *elasticnet*\n",
    "* **dualbool, default=False**: Dual or primal formulation. Dual formulation is only implemented for l2 penalty with liblinear solver. Prefer dual=False when n_samples > n_features\n",
    "* **tolfloat, default=1e-4**:Tolerance for stopping criteria\n",
    "* **Cfloat, default=1.0**: Inverse of regularization strength ($\\alpha$); must be a positive float. Like in support vector machines, smaller values specify stronger regularization\n",
    "* **fit_interceptbool, default=True**: Specifies if a constant (a.k.a. bias or intercept) should be added to the decision function\n",
    "* **intercept_scalingfloat, default=1**: Useful only when the solver 'liblinear' is used and self.fit_intercept is set to True. In this case, x becomes [x, self.intercept_scaling], i.e. a \"synthetic\" feature with constant value equal to intercept_scaling is appended to the instance vector. The intercept becomes intercept_scaling * synthetic_feature_weight\n",
    "* **class_weightdict or 'balanced', default=None**: Weights associated with classes in the form {class_label: weight}. If not given, all classes are supposed to have weight one. The \"balanced\" mode uses the values of y to automatically adjust weights inversely proportional to class frequencies in the input data as n_samples / (n_classes * np.bincount(y)). Note that these weights will be multiplied with sample_weight (passed through the fit method) if sample_weight is specified\n",
    "* **random_stateint, RandomState instance, default=None**: Used when solver == 'sag', 'saga' or 'liblinear' to shuffle the data\n",
    "* **solver{'newton-cg', 'lbfgs', 'liblinear', 'sag', 'saga'}, default='lbfgs'**: Algorithm to use in the optimization problem. Default is 'lbfgs'. To choose a solver, you might want to consider the following aspects\n",
    "  * For small datasets, 'liblinear' is a good choice, whereas 'sag' and 'saga' are faster for large ones;\n",
    "  * For multiclass problems, only 'newton-cg', 'sag', 'saga' and 'lbfgs' handle multinomial loss;\n",
    "  * 'liblinear' is limited to one-versus-rest schemes.\n",
    "* **max_iterint, default=100**: Maximum number of iterations taken for the solvers to converge\n",
    "* **multi_class{‘auto’, ‘ovr’, ‘multinomial’}, default=’auto’**: If the option chosen is ‘ovr’, then a binary problem is fit for each label. For ‘multinomial’ the loss minimised is the multinomial loss fit across the entire probability distribution, even when the data is binary. ‘multinomial’ is unavailable when solver=’liblinear’. ‘auto’ selects ‘ovr’ if the data is binary, or if solver=’liblinear’, and otherwise selects ‘multinomial’\n",
    "* **verboseint, default=0**: For the liblinear and lbfgs solvers set verbose to any positive number for verbosity\n",
    "* **warm_startbool, default=False**: When set to True, reuse the solution of the previous call to fit as initialization, otherwise, just erase the previous solution. Useless for liblinear solver. See the Glossary.\n",
    "* **n_jobsint, default=None**: Number of CPU cores used when parallelizing over classes if multi_class=’ovr’”\n",
    "* **l1_ratiofloat, default=None**: The Elastic-Net mixing parameter, with 0 <= l1_ratio <= 1. Only used if penalty='elasticnet'. Setting l1_ratio=0 is equivalent to using penalty='l2', while setting l1_ratio=1 is equivalent to using penalty='l1'. For 0 < l1_ratio <1, the penalty is a combination of L1 and L2\n",
    "\n",
    "Methods:\n",
    "\n",
    "* **decision_function(X)**: Predict confidence scores for samples\n",
    "* **densify()**: Convert coefficient matrix to dense array format\n",
    "* **fit(X, y[, sample_weight])**: Fit the model according to the given training data\n",
    "* **get_params([deep])**: Get parameters for this estimator\n",
    "* **predict(X)**: Predict class labels for samples in X\n",
    "* **predict_log_proba(X)**: Predict logarithm of probability estimates\n",
    "* **predict_proba(X)**: Probability estimates\n",
    "* **score(X, y[, sample_weight])**: Return the mean accuracy on the given test data and labels\n",
    "* **set_params(\\*\\*params)**:  Set the parameters of this estimator\n",
    "* **sparsify()**: Convert coefficient matrix to sparse format"
   ]
  },
  {
   "cell_type": "code",
   "execution_count": 12,
   "metadata": {},
   "outputs": [
    {
     "data": {
      "text/html": [
       "<div>\n",
       "<style scoped>\n",
       "    .dataframe tbody tr th:only-of-type {\n",
       "        vertical-align: middle;\n",
       "    }\n",
       "\n",
       "    .dataframe tbody tr th {\n",
       "        vertical-align: top;\n",
       "    }\n",
       "\n",
       "    .dataframe thead th {\n",
       "        text-align: right;\n",
       "    }\n",
       "</style>\n",
       "<table border=\"1\" class=\"dataframe\">\n",
       "  <thead>\n",
       "    <tr style=\"text-align: right;\">\n",
       "      <th></th>\n",
       "      <th>id</th>\n",
       "      <th>diagnosis</th>\n",
       "      <th>radius_mean</th>\n",
       "      <th>texture_mean</th>\n",
       "      <th>perimeter_mean</th>\n",
       "      <th>area_mean</th>\n",
       "      <th>smoothness_mean</th>\n",
       "      <th>compactness_mean</th>\n",
       "      <th>concavity_mean</th>\n",
       "      <th>concave points_mean</th>\n",
       "      <th>...</th>\n",
       "      <th>radius_worst</th>\n",
       "      <th>texture_worst</th>\n",
       "      <th>perimeter_worst</th>\n",
       "      <th>area_worst</th>\n",
       "      <th>smoothness_worst</th>\n",
       "      <th>compactness_worst</th>\n",
       "      <th>concavity_worst</th>\n",
       "      <th>concave points_worst</th>\n",
       "      <th>symmetry_worst</th>\n",
       "      <th>fractal_dimension_worst</th>\n",
       "    </tr>\n",
       "  </thead>\n",
       "  <tbody>\n",
       "    <tr>\n",
       "      <th>0</th>\n",
       "      <td>842302</td>\n",
       "      <td>M</td>\n",
       "      <td>17.99</td>\n",
       "      <td>10.38</td>\n",
       "      <td>122.80</td>\n",
       "      <td>1001.0</td>\n",
       "      <td>0.11840</td>\n",
       "      <td>0.27760</td>\n",
       "      <td>0.3001</td>\n",
       "      <td>0.14710</td>\n",
       "      <td>...</td>\n",
       "      <td>25.38</td>\n",
       "      <td>17.33</td>\n",
       "      <td>184.60</td>\n",
       "      <td>2019.0</td>\n",
       "      <td>0.1622</td>\n",
       "      <td>0.6656</td>\n",
       "      <td>0.7119</td>\n",
       "      <td>0.2654</td>\n",
       "      <td>0.4601</td>\n",
       "      <td>0.11890</td>\n",
       "    </tr>\n",
       "    <tr>\n",
       "      <th>1</th>\n",
       "      <td>842517</td>\n",
       "      <td>M</td>\n",
       "      <td>20.57</td>\n",
       "      <td>17.77</td>\n",
       "      <td>132.90</td>\n",
       "      <td>1326.0</td>\n",
       "      <td>0.08474</td>\n",
       "      <td>0.07864</td>\n",
       "      <td>0.0869</td>\n",
       "      <td>0.07017</td>\n",
       "      <td>...</td>\n",
       "      <td>24.99</td>\n",
       "      <td>23.41</td>\n",
       "      <td>158.80</td>\n",
       "      <td>1956.0</td>\n",
       "      <td>0.1238</td>\n",
       "      <td>0.1866</td>\n",
       "      <td>0.2416</td>\n",
       "      <td>0.1860</td>\n",
       "      <td>0.2750</td>\n",
       "      <td>0.08902</td>\n",
       "    </tr>\n",
       "    <tr>\n",
       "      <th>2</th>\n",
       "      <td>84300903</td>\n",
       "      <td>M</td>\n",
       "      <td>19.69</td>\n",
       "      <td>21.25</td>\n",
       "      <td>130.00</td>\n",
       "      <td>1203.0</td>\n",
       "      <td>0.10960</td>\n",
       "      <td>0.15990</td>\n",
       "      <td>0.1974</td>\n",
       "      <td>0.12790</td>\n",
       "      <td>...</td>\n",
       "      <td>23.57</td>\n",
       "      <td>25.53</td>\n",
       "      <td>152.50</td>\n",
       "      <td>1709.0</td>\n",
       "      <td>0.1444</td>\n",
       "      <td>0.4245</td>\n",
       "      <td>0.4504</td>\n",
       "      <td>0.2430</td>\n",
       "      <td>0.3613</td>\n",
       "      <td>0.08758</td>\n",
       "    </tr>\n",
       "    <tr>\n",
       "      <th>3</th>\n",
       "      <td>84348301</td>\n",
       "      <td>M</td>\n",
       "      <td>11.42</td>\n",
       "      <td>20.38</td>\n",
       "      <td>77.58</td>\n",
       "      <td>386.1</td>\n",
       "      <td>0.14250</td>\n",
       "      <td>0.28390</td>\n",
       "      <td>0.2414</td>\n",
       "      <td>0.10520</td>\n",
       "      <td>...</td>\n",
       "      <td>14.91</td>\n",
       "      <td>26.50</td>\n",
       "      <td>98.87</td>\n",
       "      <td>567.7</td>\n",
       "      <td>0.2098</td>\n",
       "      <td>0.8663</td>\n",
       "      <td>0.6869</td>\n",
       "      <td>0.2575</td>\n",
       "      <td>0.6638</td>\n",
       "      <td>0.17300</td>\n",
       "    </tr>\n",
       "    <tr>\n",
       "      <th>4</th>\n",
       "      <td>84358402</td>\n",
       "      <td>M</td>\n",
       "      <td>20.29</td>\n",
       "      <td>14.34</td>\n",
       "      <td>135.10</td>\n",
       "      <td>1297.0</td>\n",
       "      <td>0.10030</td>\n",
       "      <td>0.13280</td>\n",
       "      <td>0.1980</td>\n",
       "      <td>0.10430</td>\n",
       "      <td>...</td>\n",
       "      <td>22.54</td>\n",
       "      <td>16.67</td>\n",
       "      <td>152.20</td>\n",
       "      <td>1575.0</td>\n",
       "      <td>0.1374</td>\n",
       "      <td>0.2050</td>\n",
       "      <td>0.4000</td>\n",
       "      <td>0.1625</td>\n",
       "      <td>0.2364</td>\n",
       "      <td>0.07678</td>\n",
       "    </tr>\n",
       "  </tbody>\n",
       "</table>\n",
       "<p>5 rows × 32 columns</p>\n",
       "</div>"
      ],
      "text/plain": [
       "         id diagnosis  radius_mean  texture_mean  perimeter_mean  area_mean  \\\n",
       "0    842302         M        17.99         10.38          122.80     1001.0   \n",
       "1    842517         M        20.57         17.77          132.90     1326.0   \n",
       "2  84300903         M        19.69         21.25          130.00     1203.0   \n",
       "3  84348301         M        11.42         20.38           77.58      386.1   \n",
       "4  84358402         M        20.29         14.34          135.10     1297.0   \n",
       "\n",
       "   smoothness_mean  compactness_mean  concavity_mean  concave points_mean  \\\n",
       "0          0.11840           0.27760          0.3001              0.14710   \n",
       "1          0.08474           0.07864          0.0869              0.07017   \n",
       "2          0.10960           0.15990          0.1974              0.12790   \n",
       "3          0.14250           0.28390          0.2414              0.10520   \n",
       "4          0.10030           0.13280          0.1980              0.10430   \n",
       "\n",
       "   ...  radius_worst  texture_worst  perimeter_worst  area_worst  \\\n",
       "0  ...         25.38          17.33           184.60      2019.0   \n",
       "1  ...         24.99          23.41           158.80      1956.0   \n",
       "2  ...         23.57          25.53           152.50      1709.0   \n",
       "3  ...         14.91          26.50            98.87       567.7   \n",
       "4  ...         22.54          16.67           152.20      1575.0   \n",
       "\n",
       "   smoothness_worst  compactness_worst  concavity_worst  concave points_worst  \\\n",
       "0            0.1622             0.6656           0.7119                0.2654   \n",
       "1            0.1238             0.1866           0.2416                0.1860   \n",
       "2            0.1444             0.4245           0.4504                0.2430   \n",
       "3            0.2098             0.8663           0.6869                0.2575   \n",
       "4            0.1374             0.2050           0.4000                0.1625   \n",
       "\n",
       "   symmetry_worst  fractal_dimension_worst  \n",
       "0          0.4601                  0.11890  \n",
       "1          0.2750                  0.08902  \n",
       "2          0.3613                  0.08758  \n",
       "3          0.6638                  0.17300  \n",
       "4          0.2364                  0.07678  \n",
       "\n",
       "[5 rows x 32 columns]"
      ]
     },
     "execution_count": 12,
     "metadata": {},
     "output_type": "execute_result"
    }
   ],
   "source": [
    "import pandas as pd\n",
    "import numpy as np\n",
    "import matplotlib.pyplot as plt\n",
    "from sklearn.model_selection import train_test_split\n",
    "from sklearn.preprocessing import StandardScaler\n",
    "from sklearn.preprocessing import LabelEncoder\n",
    "\n",
    "breast_cancer = pd.read_csv(\"https://archive.ics.uci.edu/ml/machine-learning-databases/breast-cancer-wisconsin/wdbc.data\",\n",
    "                           names=[\"id\",\"diagnosis\",\"radius_mean\",\"texture_mean\",\"perimeter_mean\",\"area_mean\",\"smoothness_mean\",\"compactness_mean\",\"concavity_mean\",\"concave points_mean\",\"symmetry_mean\",\"fractal_dimension_mean\",\"radius_se\",\"texture_se\",\"perimeter_se\",\"area_se\",\"smoothness_se\",\"compactness_se\",\"concavity_se\",\"concave points_se\",\"symmetry_se\",\"fractal_dimension_se\",\"radius_worst\",\"texture_worst\",\"perimeter_worst\",\"area_worst\",\"smoothness_worst\",\"compactness_worst\",\"concavity_worst\",\"concave points_worst\",\"symmetry_worst\",\"fractal_dimension_worst\"])\n",
    "\n",
    "breast_cancer.head()\n"
   ]
  },
  {
   "cell_type": "markdown",
   "metadata": {},
   "source": [
    "We can take a look at info() and we can note that there are 32 columns, 1 target (diagnosis) who tell whether a tumor is benign (**B**) or malignant (**M**)"
   ]
  },
  {
   "cell_type": "code",
   "execution_count": 13,
   "metadata": {},
   "outputs": [
    {
     "name": "stdout",
     "output_type": "stream",
     "text": [
      "<class 'pandas.core.frame.DataFrame'>\n",
      "RangeIndex: 569 entries, 0 to 568\n",
      "Data columns (total 32 columns):\n",
      " #   Column                   Non-Null Count  Dtype  \n",
      "---  ------                   --------------  -----  \n",
      " 0   id                       569 non-null    int64  \n",
      " 1   diagnosis                569 non-null    object \n",
      " 2   radius_mean              569 non-null    float64\n",
      " 3   texture_mean             569 non-null    float64\n",
      " 4   perimeter_mean           569 non-null    float64\n",
      " 5   area_mean                569 non-null    float64\n",
      " 6   smoothness_mean          569 non-null    float64\n",
      " 7   compactness_mean         569 non-null    float64\n",
      " 8   concavity_mean           569 non-null    float64\n",
      " 9   concave points_mean      569 non-null    float64\n",
      " 10  symmetry_mean            569 non-null    float64\n",
      " 11  fractal_dimension_mean   569 non-null    float64\n",
      " 12  radius_se                569 non-null    float64\n",
      " 13  texture_se               569 non-null    float64\n",
      " 14  perimeter_se             569 non-null    float64\n",
      " 15  area_se                  569 non-null    float64\n",
      " 16  smoothness_se            569 non-null    float64\n",
      " 17  compactness_se           569 non-null    float64\n",
      " 18  concavity_se             569 non-null    float64\n",
      " 19  concave points_se        569 non-null    float64\n",
      " 20  symmetry_se              569 non-null    float64\n",
      " 21  fractal_dimension_se     569 non-null    float64\n",
      " 22  radius_worst             569 non-null    float64\n",
      " 23  texture_worst            569 non-null    float64\n",
      " 24  perimeter_worst          569 non-null    float64\n",
      " 25  area_worst               569 non-null    float64\n",
      " 26  smoothness_worst         569 non-null    float64\n",
      " 27  compactness_worst        569 non-null    float64\n",
      " 28  concavity_worst          569 non-null    float64\n",
      " 29  concave points_worst     569 non-null    float64\n",
      " 30  symmetry_worst           569 non-null    float64\n",
      " 31  fractal_dimension_worst  569 non-null    float64\n",
      "dtypes: float64(30), int64(1), object(1)\n",
      "memory usage: 142.4+ KB\n"
     ]
    }
   ],
   "source": [
    "breast_cancer.info()"
   ]
  },
  {
   "cell_type": "markdown",
   "metadata": {},
   "source": [
    "We can start with logistic regression with 2 features only"
   ]
  },
  {
   "cell_type": "code",
   "execution_count": 18,
   "metadata": {},
   "outputs": [
    {
     "name": "stdout",
     "output_type": "stream",
     "text": [
      "ACCURACY: 0.9064327485380117\n",
      "LOG LOSS: 0.21521128199037198\n"
     ]
    }
   ],
   "source": [
    "X = breast_cancer[[\"radius_se\",\"concave points_worst\"]].values\n",
    "Y = breast_cancer['diagnosis'].values\n",
    "\n",
    "X_train, X_test, Y_train, Y_test = train_test_split(X,Y, test_size=0.3, random_state=0)\n",
    "\n",
    "#conversion of M and B in 1 and 0 respectively, we use Y_train and Y_test entirely because this is the target\n",
    "le = LabelEncoder()\n",
    "Y_train = le.fit_transform(Y_train)\n",
    "Y_test = le.transform(Y_test)\n",
    "\n",
    "#dataframe standardization\n",
    "ss = StandardScaler()\n",
    "X_train = ss.fit_transform(X_train)\n",
    "X_test = ss.transform(X_test)\n",
    "\n",
    "#Logistic regression\n",
    "from sklearn.linear_model import LogisticRegression\n",
    "from sklearn.metrics import accuracy_score, log_loss\n",
    "\n",
    "lr = LogisticRegression()\n",
    "lr.fit(X_train, Y_train) #train the model\n",
    "\n",
    "Y_pred = lr.predict(X_test) #predict absolutely (boolean)\n",
    "Y_pred_proba = lr.predict_proba(X_test) #predict with probability of belonging\n",
    "\n",
    "print(\"ACCURACY: \"+str(accuracy_score(Y_test, Y_pred))) # % of correct occurrence\n",
    "print(\"LOG LOSS: \"+str(log_loss(Y_test, Y_pred_proba))) # the smaller the better, "
   ]
  },
  {
   "cell_type": "markdown",
   "metadata": {},
   "source": [
    "we can show decision boundary in a plot, decision bundary is the border between two classes"
   ]
  },
  {
   "cell_type": "code",
   "execution_count": 22,
   "metadata": {},
   "outputs": [
    {
     "data": {
      "image/png": "[encoded data removed]",
      "text/plain": [
       "<Figure size 432x288 with 1 Axes>"
      ]
     },
     "metadata": {
      "needs_background": "light"
     },
     "output_type": "display_data"
    }
   ],
   "source": [
    "def showBounds(model, X, Y, labels=[\"Negative\",\"Positive\"]):\n",
    "    \n",
    "    h = .02 \n",
    "\n",
    "    x_min, x_max = X[:, 0].min(), X[:, 0].max()\n",
    "    y_min, y_max = X[:, 1].min(), X[:, 1].max()\n",
    "\n",
    "    xx, yy = np.meshgrid(np.arange(x_min, x_max, h),\n",
    "                         np.arange(y_min, y_max, h))\n",
    "\n",
    "    Z = model.predict(np.c_[xx.ravel(), yy.ravel()])\n",
    "\n",
    "    Z = Z.reshape(xx.shape)\n",
    "    plt.contourf(xx, yy, Z, cmap=plt.cm.Paired)\n",
    "\n",
    "    X_m = X[Y==1]\n",
    "    X_b = X[Y==0]\n",
    "    plt.scatter(X_b[:, 0], X_b[:, 1], c=\"green\",  edgecolor='white', label=labels[0])\n",
    "    plt.scatter(X_m[:, 0], X_m[:, 1], c=\"red\",  edgecolor='white', label=labels[1])\n",
    "    plt.legend()\n",
    "    \n",
    "showBounds(lr, X_train, Y_train, labels=[\"Benign\",\"Malignant\"]) #for train\n",
    "\n"
   ]
  },
  {
   "cell_type": "code",
   "execution_count": 23,
   "metadata": {},
   "outputs": [
    {
     "data": {
      "image/png": "[encoded data removed]",
      "text/plain": [
       "<Figure size 432x288 with 1 Axes>"
      ]
     },
     "metadata": {
      "needs_background": "light"
     },
     "output_type": "display_data"
    }
   ],
   "source": [
    "showBounds(lr, X_test, Y_test, labels=[\"Benign\",\"Malignant\"]) #for test"
   ]
  },
  {
   "cell_type": "markdown",
   "metadata": {},
   "source": [
    "Now we can try logistic regression with all features:"
   ]
  },
  {
   "cell_type": "code",
   "execution_count": 33,
   "metadata": {},
   "outputs": [
    {
     "name": "stdout",
     "output_type": "stream",
     "text": [
      "ACCURACY: 0.9649122807017544\n",
      "LOG LOSS: 0.11068153613898739\n"
     ]
    }
   ],
   "source": [
    "import pandas as pd\n",
    "import numpy as np\n",
    "import matplotlib.pyplot as plt\n",
    "from sklearn.model_selection import train_test_split\n",
    "from sklearn.preprocessing import StandardScaler\n",
    "from sklearn.preprocessing import LabelEncoder\n",
    "\n",
    "breast_cancer = pd.read_csv(\"https://archive.ics.uci.edu/ml/machine-learning-databases/breast-cancer-wisconsin/wdbc.data\",\n",
    "                           names=[\"id\",\"diagnosis\",\"radius_mean\",\"texture_mean\",\"perimeter_mean\",\"area_mean\",\"smoothness_mean\",\"compactness_mean\",\"concavity_mean\",\"concave points_mean\",\"symmetry_mean\",\"fractal_dimension_mean\",\"radius_se\",\"texture_se\",\"perimeter_se\",\"area_se\",\"smoothness_se\",\"compactness_se\",\"concavity_se\",\"concave points_se\",\"symmetry_se\",\"fractal_dimension_se\",\"radius_worst\",\"texture_worst\",\"perimeter_worst\",\"area_worst\",\"smoothness_worst\",\"compactness_worst\",\"concavity_worst\",\"concave points_worst\",\"symmetry_worst\",\"fractal_dimension_worst\"])\n",
    "\n",
    "X = breast_cancer.drop([\"diagnosis\"], axis=1).values # all features a part of target\n",
    "Y = breast_cancer['diagnosis'].values\n",
    "breast_cancer\n",
    "X_train, X_test, Y_train, Y_test = train_test_split(X,Y, test_size=0.3, random_state=0)\n",
    "\n",
    "#conversion of M and B in 1 and 0 respectively, we use Y_train and Y_test entirely because this is the target\n",
    "le = LabelEncoder()\n",
    "Y_train = le.fit_transform(Y_train)\n",
    "Y_test = le.transform(Y_test)\n",
    "\n",
    "#dataframe standardization\n",
    "ss = StandardScaler()\n",
    "X_train = ss.fit_transform(X_train)\n",
    "X_test = ss.transform(X_test)\n",
    "\n",
    "#Logistic regression\n",
    "from sklearn.linear_model import LogisticRegression\n",
    "from sklearn.metrics import accuracy_score, log_loss\n",
    "\n",
    "lr = LogisticRegression()\n",
    "lr.fit(X_train, Y_train) #train the model\n",
    "\n",
    "Y_pred = lr.predict(X_test) #predict absolutely (boolean)\n",
    "Y_pred_proba = lr.predict_proba(X_test) #predict with probability of belonging\n",
    "\n",
    "print(\"ACCURACY: \"+str(accuracy_score(Y_test, Y_pred))) # % of correct occurrence\n",
    "print(\"LOG LOSS: \"+str(log_loss(Y_test, Y_pred_proba))) # the smaller the better, "
   ]
  },
  {
   "cell_type": "markdown",
   "metadata": {},
   "source": [
    "P.s. Logistic regression automatically include Regularization with L2 and L1\n",
    "\n",
    "## Multiclass Classification\n",
    "\n",
    "we explore *One vs Rest* classification, OvR allow us to complete multiclass classification as a sum of single binomial classification."
   ]
  },
  {
   "cell_type": "code",
   "execution_count": 16,
   "metadata": {},
   "outputs": [
    {
     "data": {
      "text/plain": [
       "array([0, 1, 2, ..., 8, 9, 8])"
      ]
     },
     "execution_count": 16,
     "metadata": {},
     "output_type": "execute_result"
    }
   ],
   "source": [
    "import pandas as pd\n",
    "import numpy as np\n",
    "import matplotlib.pyplot as plt\n",
    "\n",
    "from sklearn.datasets import load_digits\n",
    "from sklearn.model_selection import train_test_split\n",
    "from sklearn.preprocessing import StandardScaler\n",
    "\n",
    "from sklearn.linear_model import LogisticRegression\n",
    "from sklearn.metrics import log_loss\n",
    "from sklearn.metrics import accuracy_score\n",
    "\n",
    "#we use load_digits to load dataset\n",
    "digits = load_digits()\n",
    "X = digits.data\n",
    "Y = digits.target\n",
    "\n",
    "X_train, X_test, Y_train, Y_test = train_test_split(X, Y, test_size=0.3, random_state=0)\n",
    "X_train.shape"
   ]
  },
  {
   "cell_type": "markdown",
   "metadata": {},
   "source": [
    "The dataset is a list of handwritten numbers, we can show them with matplotlib: "
   ]
  },
  {
   "cell_type": "code",
   "execution_count": 2,
   "metadata": {},
   "outputs": [
    {
     "data": {
      "image/png": "[encoded data removed]",
      "text/plain": [
       "<Figure size 432x288 with 1 Axes>"
      ]
     },
     "metadata": {
      "needs_background": "light"
     },
     "output_type": "display_data"
    },
    {
     "data": {
      "image/png": "[encoded data removed]",
      "text/plain": [
       "<Figure size 432x288 with 1 Axes>"
      ]
     },
     "metadata": {
      "needs_background": "light"
     },
     "output_type": "display_data"
    },
    {
     "data": {
      "image/png": "[encoded data removed]",
      "text/plain": [
       "<Figure size 432x288 with 1 Axes>"
      ]
     },
     "metadata": {
      "needs_background": "light"
     },
     "output_type": "display_data"
    },
    {
     "data": {
      "image/png": "[encoded data removed]",
      "text/plain": [
       "<Figure size 432x288 with 1 Axes>"
      ]
     },
     "metadata": {
      "needs_background": "light"
     },
     "output_type": "display_data"
    },
    {
     "data": {
      "image/png": "[encoded data removed]",
      "text/plain": [
       "<Figure size 432x288 with 1 Axes>"
      ]
     },
     "metadata": {
      "needs_background": "light"
     },
     "output_type": "display_data"
    },
    {
     "data": {
      "image/png": "[encoded data removed]",
      "text/plain": [
       "<Figure size 432x288 with 1 Axes>"
      ]
     },
     "metadata": {
      "needs_background": "light"
     },
     "output_type": "display_data"
    },
    {
     "data": {
      "image/png": "[encoded data removed]",
      "text/plain": [
       "<Figure size 432x288 with 1 Axes>"
      ]
     },
     "metadata": {
      "needs_background": "light"
     },
     "output_type": "display_data"
    },
    {
     "data": {
      "image/png": "[encoded data removed]",
      "text/plain": [
       "<Figure size 432x288 with 1 Axes>"
      ]
     },
     "metadata": {
      "needs_background": "light"
     },
     "output_type": "display_data"
    },
    {
     "data": {
      "image/png": "[encoded data removed]",
      "text/plain": [
       "<Figure size 432x288 with 1 Axes>"
      ]
     },
     "metadata": {
      "needs_background": "light"
     },
     "output_type": "display_data"
    },
    {
     "data": {
      "image/png": "[encoded data removed]",
      "text/plain": [
       "<Figure size 432x288 with 1 Axes>"
      ]
     },
     "metadata": {
      "needs_background": "light"
     },
     "output_type": "display_data"
    }
   ],
   "source": [
    "for i in range(0,10):\n",
    "    pic_matrix = X[Y==i][0].reshape([8,8]) # we select first example of current class and we use reshape to obtain 8x8 matrix\n",
    "    plt.imshow(pic_matrix, cmap=\"gray\") #show matrix scale of gray\n",
    "    plt.show()"
   ]
  },
  {
   "cell_type": "markdown",
   "metadata": {},
   "source": [
    "When you work with image best practice si to normalize data"
   ]
  },
  {
   "cell_type": "code",
   "execution_count": 10,
   "metadata": {},
   "outputs": [
    {
     "name": "stdout",
     "output_type": "stream",
     "text": [
      "ACCURACY: 0.9592592592592593\n",
      "LOG LOSS: 0.1773581383767746\n"
     ]
    },
    {
     "name": "stderr",
     "output_type": "stream",
     "text": [
      "c:\\Users\\miche\\anaconda3\\lib\\site-packages\\sklearn\\linear_model\\_logistic.py:814: ConvergenceWarning: lbfgs failed to converge (status=1):\n",
      "STOP: TOTAL NO. of ITERATIONS REACHED LIMIT.\n",
      "\n",
      "Increase the number of iterations (max_iter) or scale the data as shown in:\n",
      "    https://scikit-learn.org/stable/modules/preprocessing.html\n",
      "Please also refer to the documentation for alternative solver options:\n",
      "    https://scikit-learn.org/stable/modules/linear_model.html#logistic-regression\n",
      "  n_iter_i = _check_optimize_result(\n"
     ]
    }
   ],
   "source": [
    "from sklearn.preprocessing import MinMaxScaler\n",
    "\n",
    "mms = MinMaxScaler()\n",
    "X_train = mms.fit_transform(X_train)\n",
    "X_test = mms.transform(X_test)\n",
    "\n",
    "#now we execute logistic regression, scikit learn recognize automatically when OvR is necessary\n",
    "lr = LogisticRegression()\n",
    "lr.fit(X_train, Y_train)\n",
    "\n",
    "y_pred_proba = lr.predict_proba(X_test)\n",
    "y_pred = lr.predict(X_test)\n",
    "\n",
    "print(\"ACCURACY: \"+str(accuracy_score(Y_test, y_pred)))\n",
    "print(\"LOG LOSS: \"+str(log_loss(Y_test, y_pred_proba)))"
   ]
  },
  {
   "cell_type": "markdown",
   "metadata": {},
   "source": [
    "if you want to use specific class you can use *OneVsRestClassifier()*:"
   ]
  },
  {
   "cell_type": "code",
   "execution_count": 11,
   "metadata": {},
   "outputs": [
    {
     "name": "stdout",
     "output_type": "stream",
     "text": [
      "ACCURACY: 0.9574074074074074\n",
      "LOG LOSS: 0.22839278150427528\n"
     ]
    }
   ],
   "source": [
    "from sklearn.multiclass import OneVsRestClassifier\n",
    "\n",
    "ovr = OneVsRestClassifier(LogisticRegression()) # ovR require a classifier, in this case we use LogisticRegression as  a Classifier\n",
    "ovr.fit(X_train, Y_train)\n",
    "\n",
    "y_pred_proba = ovr.predict_proba(X_test)\n",
    "y_pred = ovr.predict(X_test)\n",
    "\n",
    "print(\"ACCURACY: \"+str(accuracy_score(Y_test, y_pred)))\n",
    "print(\"LOG LOSS: \"+str(log_loss(Y_test, y_pred_proba)))"
   ]
  },
  {
   "cell_type": "markdown",
   "metadata": {},
   "source": [
    "# Non Linear Classification\n",
    "\n",
    "Non-Linear Classification refers to categorizing those instances that are not linearly separable.\n",
    "\n",
    "![Linear vs Non Linear](img/3.png)\n",
    "\n",
    "## K-Nearest Neighbors - KNN\n",
    " It's a simple model that allow to classify elements searching most similar k examples inside the dataset."
   ]
  },
  {
   "cell_type": "code",
   "execution_count": 13,
   "metadata": {},
   "outputs": [
    {
     "name": "stdout",
     "output_type": "stream",
     "text": [
      "K=1\n",
      "ACCURACY: TRAIN=1.0000 TEST=0.9889\n",
      "LOG LOSS: TRAIN=0.0000 TEST=0.3838\n",
      "K=2\n",
      "ACCURACY: TRAIN=0.9897 TEST=0.9833\n",
      "LOG LOSS: TRAIN=0.0099 TEST=0.2060\n",
      "K=3\n",
      "ACCURACY: TRAIN=0.9912 TEST=0.9889\n",
      "LOG LOSS: TRAIN=0.0164 TEST=0.1509\n",
      "K=4\n",
      "ACCURACY: TRAIN=0.9889 TEST=0.9796\n",
      "LOG LOSS: TRAIN=0.0233 TEST=0.1557\n",
      "K=5\n",
      "ACCURACY: TRAIN=0.9897 TEST=0.9870\n",
      "LOG LOSS: TRAIN=0.0295 TEST=0.1629\n",
      "K=7\n",
      "ACCURACY: TRAIN=0.9897 TEST=0.9796\n",
      "LOG LOSS: TRAIN=0.0422 TEST=0.1773\n",
      "K=10\n",
      "ACCURACY: TRAIN=0.9825 TEST=0.9741\n",
      "LOG LOSS: TRAIN=0.0584 TEST=0.1326\n",
      "K=12\n",
      "ACCURACY: TRAIN=0.9809 TEST=0.9741\n",
      "LOG LOSS: TRAIN=0.0668 TEST=0.1449\n",
      "K=15\n",
      "ACCURACY: TRAIN=0.9801 TEST=0.9685\n",
      "LOG LOSS: TRAIN=0.0825 TEST=0.1587\n",
      "K=20\n",
      "ACCURACY: TRAIN=0.9745 TEST=0.9593\n",
      "LOG LOSS: TRAIN=0.1076 TEST=0.1854\n"
     ]
    }
   ],
   "source": [
    "import matplotlib.pyplot as plt\n",
    "import numpy as np\n",
    "from sklearn.datasets import load_digits\n",
    "from sklearn.model_selection import train_test_split\n",
    "from sklearn.metrics import log_loss\n",
    "from sklearn.metrics import accuracy_score\n",
    "from sklearn.preprocessing import MinMaxScaler\n",
    "\n",
    "digits = load_digits()\n",
    "\n",
    "X = digits.data\n",
    "Y = digits.target\n",
    "\n",
    "X_train, X_test, Y_train, Y_test = train_test_split(X, Y, test_size=0.3, random_state=0)\n",
    "\n",
    "mms = MinMaxScaler()\n",
    "X_train = mms.fit_transform(X_train)\n",
    "X_test = mms.transform(X_test)\n",
    "\n",
    "#now we create KNN model with different K values to compare results\n",
    "\n",
    "from sklearn.neighbors import KNeighborsClassifier\n",
    "\n",
    "Ks = [1,2,3,4,5,7,10,12,15,20]\n",
    "\n",
    "for K in Ks:\n",
    "    print(\"K=\"+str(K))\n",
    "    knn = KNeighborsClassifier(n_neighbors=K)\n",
    "    knn.fit(X_train,Y_train)\n",
    "    \n",
    "    y_pred_train = knn.predict(X_train)\n",
    "    y_prob_train = knn.predict_proba(X_train)\n",
    "    \n",
    "    y_pred = knn.predict(X_test)\n",
    "    y_prob = knn.predict_proba(X_test)\n",
    "    \n",
    "    accuracy_train = accuracy_score(Y_train, y_pred_train)\n",
    "    accuracy_test = accuracy_score(Y_test, y_pred)\n",
    "\n",
    "    loss_train = log_loss(Y_train, y_prob_train)\n",
    "    loss_test = log_loss(Y_test, y_prob)\n",
    "    \n",
    "    print(\"ACCURACY: TRAIN=%.4f TEST=%.4f\" % (accuracy_train,accuracy_test))\n",
    "    print(\"LOG LOSS: TRAIN=%.4f TEST=%.4f\" % (loss_train,loss_test))"
   ]
  },
  {
   "cell_type": "markdown",
   "metadata": {},
   "source": [
    "With *K=3* we obtain best result.\n",
    "\n",
    "Let's see wrong predictions:"
   ]
  },
  {
   "cell_type": "code",
   "execution_count": 14,
   "metadata": {},
   "outputs": [
    {
     "data": {
      "text/plain": [
       "array([2, 8, 2, 6, 6, 7, 1, 9, 8, 5, 2, 8, 6, 6, 6, 6, 1, 0, 5, 8, 8, 7,\n",
       "       8, 4, 7, 5, 4, 9, 2, 9, 4, 7, 6, 8, 9, 4, 3, 1, 0, 1, 8, 6, 7, 7,\n",
       "       1, 0, 7, 6, 2, 1, 9, 6, 7, 9, 0, 0, 5, 1, 6, 3, 0, 2, 3, 4, 1, 9,\n",
       "       2, 6, 9, 1, 8, 3, 5, 1, 2, 8, 2, 2, 9, 7, 2, 3, 6, 0, 5, 3, 7, 5,\n",
       "       1, 2, 9, 9, 3, 1, 7, 7, 4, 8, 5, 8, 5, 5, 2, 5, 9, 0, 7, 1, 4, 7,\n",
       "       3, 4, 8, 9, 7, 9, 8, 2, 6, 5, 2, 5, 8, 4, 8, 7, 0, 6, 1, 5, 9, 9,\n",
       "       9, 5, 9, 9, 5, 7, 5, 6, 2, 8, 6, 9, 6, 1, 5, 1, 5, 9, 9, 1, 5, 3,\n",
       "       6, 1, 8, 9, 8, 7, 6, 7, 6, 5, 6, 0, 8, 8, 9, 8, 6, 1, 0, 4, 1, 6,\n",
       "       3, 8, 6, 7, 4, 5, 6, 3, 0, 3, 3, 3, 0, 7, 7, 5, 7, 8, 0, 7, 8, 9,\n",
       "       6, 4, 5, 0, 1, 4, 6, 4, 3, 3, 0, 9, 5, 9, 2, 1, 4, 2, 1, 6, 8, 9,\n",
       "       2, 4, 9, 3, 7, 6, 2, 3, 3, 1, 6, 9, 3, 6, 3, 2, 2, 0, 7, 6, 1, 1,\n",
       "       9, 7, 2, 7, 8, 5, 5, 7, 5, 2, 3, 7, 2, 7, 5, 5, 7, 0, 9, 1, 6, 5,\n",
       "       9, 7, 4, 3, 8, 0, 3, 6, 4, 6, 3, 2, 6, 8, 8, 8, 4, 6, 7, 5, 2, 4,\n",
       "       5, 3, 2, 4, 6, 9, 4, 5, 4, 3, 4, 6, 2, 9, 0, 1, 7, 2, 0, 9, 6, 0,\n",
       "       4, 2, 0, 7, 9, 8, 5, 4, 8, 2, 8, 4, 3, 7, 2, 6, 9, 1, 5, 1, 0, 8,\n",
       "       2, 1, 9, 5, 6, 8, 2, 7, 2, 1, 5, 1, 6, 4, 5, 0, 9, 4, 1, 1, 7, 0,\n",
       "       8, 9, 0, 5, 4, 3, 8, 8, 6, 5, 3, 4, 4, 4, 8, 8, 7, 0, 9, 6, 3, 5,\n",
       "       2, 3, 0, 8, 3, 3, 1, 3, 3, 0, 0, 4, 6, 0, 7, 7, 6, 2, 0, 4, 4, 2,\n",
       "       3, 7, 8, 9, 8, 6, 8, 5, 6, 2, 2, 3, 1, 7, 7, 8, 0, 3, 3, 2, 1, 5,\n",
       "       5, 9, 1, 3, 7, 0, 0, 7, 0, 4, 5, 9, 3, 3, 4, 3, 1, 8, 9, 8, 3, 6,\n",
       "       2, 1, 6, 2, 1, 7, 5, 5, 1, 9, 2, 8, 9, 7, 2, 1, 4, 9, 3, 2, 6, 2,\n",
       "       5, 9, 6, 5, 8, 2, 0, 7, 8, 0, 5, 8, 4, 1, 8, 6, 4, 3, 4, 2, 0, 4,\n",
       "       5, 8, 3, 9, 1, 8, 3, 4, 5, 0, 8, 5, 6, 3, 0, 6, 9, 1, 5, 2, 2, 1,\n",
       "       9, 8, 4, 3, 3, 0, 7, 8, 8, 1, 1, 3, 5, 5, 8, 4, 9, 7, 8, 4, 4, 9,\n",
       "       0, 1, 6, 9, 3, 6, 1, 7, 0, 6, 2, 9])"
      ]
     },
     "execution_count": 14,
     "metadata": {},
     "output_type": "execute_result"
    }
   ],
   "source": [
    "Y_test"
   ]
  },
  {
   "cell_type": "code",
   "execution_count": 17,
   "metadata": {},
   "outputs": [
    {
     "name": "stdout",
     "output_type": "stream",
     "text": [
      "Numero 2 classificato come 7\n"
     ]
    },
    {
     "data": {
      "image/png": "[encoded data removed]",
      "text/plain": [
       "<Figure size 432x288 with 1 Axes>"
      ]
     },
     "metadata": {
      "needs_background": "light"
     },
     "output_type": "display_data"
    },
    {
     "name": "stdout",
     "output_type": "stream",
     "text": [
      "Numero 9 classificato come 7\n"
     ]
    },
    {
     "data": {
      "image/png": "[encoded data removed]",
      "text/plain": [
       "<Figure size 432x288 with 1 Axes>"
      ]
     },
     "metadata": {
      "needs_background": "light"
     },
     "output_type": "display_data"
    },
    {
     "name": "stdout",
     "output_type": "stream",
     "text": [
      "Numero 2 classificato come 0\n"
     ]
    },
    {
     "data": {
      "image/png": "[encoded data removed]",
      "text/plain": [
       "<Figure size 432x288 with 1 Axes>"
      ]
     },
     "metadata": {
      "needs_background": "light"
     },
     "output_type": "display_data"
    },
    {
     "name": "stdout",
     "output_type": "stream",
     "text": [
      "Numero 8 classificato come 3\n"
     ]
    },
    {
     "data": {
      "image/png": "[encoded data removed]",
      "text/plain": [
       "<Figure size 432x288 with 1 Axes>"
      ]
     },
     "metadata": {
      "needs_background": "light"
     },
     "output_type": "display_data"
    },
    {
     "name": "stdout",
     "output_type": "stream",
     "text": [
      "Numero 8 classificato come 1\n"
     ]
    },
    {
     "data": {
      "image/png": "[encoded data removed]",
      "text/plain": [
       "<Figure size 432x288 with 1 Axes>"
      ]
     },
     "metadata": {
      "needs_background": "light"
     },
     "output_type": "display_data"
    },
    {
     "name": "stdout",
     "output_type": "stream",
     "text": [
      "Numero 8 classificato come 7\n"
     ]
    },
    {
     "data": {
      "image/png": "[encoded data removed]",
      "text/plain": [
       "<Figure size 432x288 with 1 Axes>"
      ]
     },
     "metadata": {
      "needs_background": "light"
     },
     "output_type": "display_data"
    },
    {
     "name": "stdout",
     "output_type": "stream",
     "text": [
      "Numero 8 classificato come 1\n"
     ]
    },
    {
     "data": {
      "image/png": "[encoded data removed]",
      "text/plain": [
       "<Figure size 432x288 with 1 Axes>"
      ]
     },
     "metadata": {
      "needs_background": "light"
     },
     "output_type": "display_data"
    },
    {
     "name": "stdout",
     "output_type": "stream",
     "text": [
      "Numero 8 classificato come 3\n"
     ]
    },
    {
     "data": {
      "image/png": "[encoded data removed]",
      "text/plain": [
       "<Figure size 432x288 with 1 Axes>"
      ]
     },
     "metadata": {
      "needs_background": "light"
     },
     "output_type": "display_data"
    },
    {
     "name": "stdout",
     "output_type": "stream",
     "text": [
      "Numero 5 classificato come 9\n"
     ]
    },
    {
     "data": {
      "image/png": "[encoded data removed]",
      "text/plain": [
       "<Figure size 432x288 with 1 Axes>"
      ]
     },
     "metadata": {
      "needs_background": "light"
     },
     "output_type": "display_data"
    },
    {
     "name": "stdout",
     "output_type": "stream",
     "text": [
      "Numero 2 classificato come 8\n"
     ]
    },
    {
     "data": {
      "image/png": "[encoded data removed]",
      "text/plain": [
       "<Figure size 432x288 with 1 Axes>"
      ]
     },
     "metadata": {
      "needs_background": "light"
     },
     "output_type": "display_data"
    },
    {
     "name": "stdout",
     "output_type": "stream",
     "text": [
      "Numero 8 classificato come 1\n"
     ]
    },
    {
     "data": {
      "image/png": "[encoded data removed]",
      "text/plain": [
       "<Figure size 432x288 with 1 Axes>"
      ]
     },
     "metadata": {
      "needs_background": "light"
     },
     "output_type": "display_data"
    },
    {
     "name": "stdout",
     "output_type": "stream",
     "text": [
      "Numero 3 classificato come 2\n"
     ]
    },
    {
     "data": {
      "image/png": "[encoded data removed]",
      "text/plain": [
       "<Figure size 432x288 with 1 Axes>"
      ]
     },
     "metadata": {
      "needs_background": "light"
     },
     "output_type": "display_data"
    },
    {
     "name": "stdout",
     "output_type": "stream",
     "text": [
      "Numero 9 classificato come 5\n"
     ]
    },
    {
     "data": {
      "image/png": "[encoded data removed]",
      "text/plain": [
       "<Figure size 432x288 with 1 Axes>"
      ]
     },
     "metadata": {
      "needs_background": "light"
     },
     "output_type": "display_data"
    },
    {
     "name": "stdout",
     "output_type": "stream",
     "text": [
      "Numero 4 classificato come 7\n"
     ]
    },
    {
     "data": {
      "image/png": "[encoded data removed]",
      "text/plain": [
       "<Figure size 432x288 with 1 Axes>"
      ]
     },
     "metadata": {
      "needs_background": "light"
     },
     "output_type": "display_data"
    },
    {
     "name": "stdout",
     "output_type": "stream",
     "text": [
      "Numero 3 classificato come 8\n"
     ]
    },
    {
     "data": {
      "image/png": "[encoded data removed]",
      "text/plain": [
       "<Figure size 432x288 with 1 Axes>"
      ]
     },
     "metadata": {
      "needs_background": "light"
     },
     "output_type": "display_data"
    },
    {
     "name": "stdout",
     "output_type": "stream",
     "text": [
      "Numero 8 classificato come 1\n"
     ]
    },
    {
     "data": {
      "image/png": "[encoded data removed]",
      "text/plain": [
       "<Figure size 432x288 with 1 Axes>"
      ]
     },
     "metadata": {
      "needs_background": "light"
     },
     "output_type": "display_data"
    },
    {
     "name": "stdout",
     "output_type": "stream",
     "text": [
      "Numero 1 classificato come 6\n"
     ]
    },
    {
     "data": {
      "image/png": "[encoded data removed]",
      "text/plain": [
       "<Figure size 432x288 with 1 Axes>"
      ]
     },
     "metadata": {
      "needs_background": "light"
     },
     "output_type": "display_data"
    },
    {
     "name": "stdout",
     "output_type": "stream",
     "text": [
      "Numero 3 classificato come 9\n"
     ]
    },
    {
     "data": {
      "image/png": "[encoded data removed]",
      "text/plain": [
       "<Figure size 432x288 with 1 Axes>"
      ]
     },
     "metadata": {
      "needs_background": "light"
     },
     "output_type": "display_data"
    },
    {
     "name": "stdout",
     "output_type": "stream",
     "text": [
      "Numero 2 classificato come 8\n"
     ]
    },
    {
     "data": {
      "image/png": "[encoded data removed]",
      "text/plain": [
       "<Figure size 432x288 with 1 Axes>"
      ]
     },
     "metadata": {
      "needs_background": "light"
     },
     "output_type": "display_data"
    },
    {
     "name": "stdout",
     "output_type": "stream",
     "text": [
      "Numero 5 classificato come 6\n"
     ]
    },
    {
     "data": {
      "image/png": "[encoded data removed]",
      "text/plain": [
       "<Figure size 432x288 with 1 Axes>"
      ]
     },
     "metadata": {
      "needs_background": "light"
     },
     "output_type": "display_data"
    },
    {
     "name": "stdout",
     "output_type": "stream",
     "text": [
      "Numero 2 classificato come 1\n"
     ]
    },
    {
     "data": {
      "image/png": "[encoded data removed]",
      "text/plain": [
       "<Figure size 432x288 with 1 Axes>"
      ]
     },
     "metadata": {
      "needs_background": "light"
     },
     "output_type": "display_data"
    },
    {
     "name": "stdout",
     "output_type": "stream",
     "text": [
      "Numero 3 classificato come 8\n"
     ]
    },
    {
     "data": {
      "image/png": "[encoded data removed]",
      "text/plain": [
       "<Figure size 432x288 with 1 Axes>"
      ]
     },
     "metadata": {
      "needs_background": "light"
     },
     "output_type": "display_data"
    }
   ],
   "source": [
    "for i in range(0,len(X_test)):\n",
    "    if(Y_test[i]!=y_pred[i]):\n",
    "        print(\"Numero %d classificato come %d\" % (Y_test[i], y_pred[i]))\n",
    "        plt.imshow(X_test[i].reshape([8,8]), cmap=\"gray\")\n",
    "        plt.show()"
   ]
  },
  {
   "cell_type": "markdown",
   "metadata": {},
   "source": [
    "## Decision Tree and Random Forest"
   ]
  },
  {
   "cell_type": "code",
   "execution_count": 18,
   "metadata": {},
   "outputs": [
    {
     "name": "stdout",
     "output_type": "stream",
     "text": [
      "<class 'pandas.core.frame.DataFrame'>\n",
      "RangeIndex: 887 entries, 0 to 886\n",
      "Data columns (total 8 columns):\n",
      " #   Column                   Non-Null Count  Dtype  \n",
      "---  ------                   --------------  -----  \n",
      " 0   Survived                 887 non-null    int64  \n",
      " 1   Pclass                   887 non-null    int64  \n",
      " 2   Name                     887 non-null    object \n",
      " 3   Sex                      887 non-null    object \n",
      " 4   Age                      887 non-null    float64\n",
      " 5   Siblings/Spouses Aboard  887 non-null    int64  \n",
      " 6   Parents/Children Aboard  887 non-null    int64  \n",
      " 7   Fare                     887 non-null    float64\n",
      "dtypes: float64(2), int64(4), object(2)\n",
      "memory usage: 55.6+ KB\n"
     ]
    }
   ],
   "source": [
    "import pandas as pd\n",
    "import numpy as np\n",
    "from sklearn.model_selection import train_test_split\n",
    "from sklearn.metrics import log_loss\n",
    "from sklearn.metrics import accuracy_score\n",
    "\n",
    "titanic = pd.read_csv(\"http://web.stanford.edu/class/archive/cs/cs109/cs109.1166/stuff/titanic.csv\")\n",
    "titanic.info()"
   ]
  },
  {
   "cell_type": "code",
   "execution_count": 19,
   "metadata": {},
   "outputs": [
    {
     "data": {
      "text/html": [
       "<div>\n",
       "<style scoped>\n",
       "    .dataframe tbody tr th:only-of-type {\n",
       "        vertical-align: middle;\n",
       "    }\n",
       "\n",
       "    .dataframe tbody tr th {\n",
       "        vertical-align: top;\n",
       "    }\n",
       "\n",
       "    .dataframe thead th {\n",
       "        text-align: right;\n",
       "    }\n",
       "</style>\n",
       "<table border=\"1\" class=\"dataframe\">\n",
       "  <thead>\n",
       "    <tr style=\"text-align: right;\">\n",
       "      <th></th>\n",
       "      <th>Survived</th>\n",
       "      <th>Pclass</th>\n",
       "      <th>Age</th>\n",
       "      <th>Siblings/Spouses Aboard</th>\n",
       "      <th>Parents/Children Aboard</th>\n",
       "      <th>Fare</th>\n",
       "      <th>Sex_female</th>\n",
       "      <th>Sex_male</th>\n",
       "    </tr>\n",
       "  </thead>\n",
       "  <tbody>\n",
       "    <tr>\n",
       "      <th>0</th>\n",
       "      <td>0</td>\n",
       "      <td>3</td>\n",
       "      <td>22.0</td>\n",
       "      <td>1</td>\n",
       "      <td>0</td>\n",
       "      <td>7.2500</td>\n",
       "      <td>0</td>\n",
       "      <td>1</td>\n",
       "    </tr>\n",
       "    <tr>\n",
       "      <th>1</th>\n",
       "      <td>1</td>\n",
       "      <td>1</td>\n",
       "      <td>38.0</td>\n",
       "      <td>1</td>\n",
       "      <td>0</td>\n",
       "      <td>71.2833</td>\n",
       "      <td>1</td>\n",
       "      <td>0</td>\n",
       "    </tr>\n",
       "    <tr>\n",
       "      <th>2</th>\n",
       "      <td>1</td>\n",
       "      <td>3</td>\n",
       "      <td>26.0</td>\n",
       "      <td>0</td>\n",
       "      <td>0</td>\n",
       "      <td>7.9250</td>\n",
       "      <td>1</td>\n",
       "      <td>0</td>\n",
       "    </tr>\n",
       "    <tr>\n",
       "      <th>3</th>\n",
       "      <td>1</td>\n",
       "      <td>1</td>\n",
       "      <td>35.0</td>\n",
       "      <td>1</td>\n",
       "      <td>0</td>\n",
       "      <td>53.1000</td>\n",
       "      <td>1</td>\n",
       "      <td>0</td>\n",
       "    </tr>\n",
       "    <tr>\n",
       "      <th>4</th>\n",
       "      <td>0</td>\n",
       "      <td>3</td>\n",
       "      <td>35.0</td>\n",
       "      <td>0</td>\n",
       "      <td>0</td>\n",
       "      <td>8.0500</td>\n",
       "      <td>0</td>\n",
       "      <td>1</td>\n",
       "    </tr>\n",
       "  </tbody>\n",
       "</table>\n",
       "</div>"
      ],
      "text/plain": [
       "   Survived  Pclass   Age  Siblings/Spouses Aboard  Parents/Children Aboard  \\\n",
       "0         0       3  22.0                        1                        0   \n",
       "1         1       1  38.0                        1                        0   \n",
       "2         1       3  26.0                        0                        0   \n",
       "3         1       1  35.0                        1                        0   \n",
       "4         0       3  35.0                        0                        0   \n",
       "\n",
       "      Fare  Sex_female  Sex_male  \n",
       "0   7.2500           0         1  \n",
       "1  71.2833           1         0  \n",
       "2   7.9250           1         0  \n",
       "3  53.1000           1         0  \n",
       "4   8.0500           0         1  "
      ]
     },
     "execution_count": 19,
     "metadata": {},
     "output_type": "execute_result"
    }
   ],
   "source": [
    "titanic = titanic.drop(\"Name\",axis=1) #drop name column because it's influent\n",
    "\n",
    "#one hot enconding for sex\n",
    "titanic = pd.get_dummies(titanic)\n",
    "titanic.head()"
   ]
  },
  {
   "cell_type": "markdown",
   "metadata": {},
   "source": [
    "Now we can create testset and trainset"
   ]
  },
  {
   "cell_type": "code",
   "execution_count": 20,
   "metadata": {},
   "outputs": [
    {
     "data": {
      "text/plain": [
       "(620, 7)"
      ]
     },
     "execution_count": 20,
     "metadata": {},
     "output_type": "execute_result"
    }
   ],
   "source": [
    "X = titanic.drop(\"Survived\", axis=1).values\n",
    "Y = titanic[\"Survived\"].values\n",
    "\n",
    "X_train, X_test, Y_train, Y_test = train_test_split(X, Y, test_size=0.3, random_state=0)\n",
    "X_train.shape"
   ]
  },
  {
   "cell_type": "markdown",
   "metadata": {},
   "source": [
    "### Decision tree\n",
    "This method predict learning questions sequence from data:\n",
    "\n",
    "[sklearn.tree.DecisionTreeClassifier](https://scikit-learn.org/stable/modules/generated/sklearn.tree.DecisionTreeClassifier.html?highlight=decision+tree+classifier)\n"
   ]
  },
  {
   "cell_type": "code",
   "execution_count": 21,
   "metadata": {},
   "outputs": [
    {
     "name": "stdout",
     "output_type": "stream",
     "text": [
      "ACCURACY: TRAIN=0.9806 TEST=0.7903\n"
     ]
    }
   ],
   "source": [
    "from sklearn.tree import DecisionTreeClassifier\n",
    "\n",
    "tree = DecisionTreeClassifier(criterion=\"gini\") #gini is default value, we could omit this parameter, other criterion are \"entropy\" and \"log_loss\"\n",
    "tree.fit(X_train, Y_train)\n",
    "\n",
    "y_pred_train = tree.predict(X_train)\n",
    "y_pred = tree.predict(X_test)\n",
    "\n",
    "accuracy_train = accuracy_score(Y_train, y_pred_train)\n",
    "accuracy_test = accuracy_score(Y_test, y_pred)\n",
    "\n",
    "print(\"ACCURACY: TRAIN=%.4f TEST=%.4f\" % (accuracy_train,accuracy_test))\n"
   ]
  },
  {
   "cell_type": "markdown",
   "metadata": {},
   "source": [
    "The decision tree suffer overfitting, we can limit max-depth with *max-depth* parameter:"
   ]
  },
  {
   "cell_type": "code",
   "execution_count": 22,
   "metadata": {},
   "outputs": [
    {
     "name": "stdout",
     "output_type": "stream",
     "text": [
      "ACCURACY: TRAIN=0.8935 TEST=0.8090\n"
     ]
    }
   ],
   "source": [
    "from sklearn.tree import DecisionTreeClassifier\n",
    "\n",
    "tree = DecisionTreeClassifier(max_depth=6) #limit depth\n",
    "tree.fit(X_train, Y_train)\n",
    "\n",
    "y_pred_train = tree.predict(X_train)\n",
    "y_pred = tree.predict(X_test)\n",
    "\n",
    "accuracy_train = accuracy_score(Y_train, y_pred_train)\n",
    "accuracy_test = accuracy_score(Y_test, y_pred)\n",
    "\n",
    "print(\"ACCURACY: TRAIN=%.4f TEST=%.4f\" % (accuracy_train,accuracy_test))"
   ]
  },
  {
   "cell_type": "markdown",
   "metadata": {},
   "source": [
    "You can plot decision tree with graphviz, after file *.dot* creation, open, copy and paste content in [this site](http://webgraphviz.com/) to show it"
   ]
  },
  {
   "cell_type": "code",
   "execution_count": 23,
   "metadata": {},
   "outputs": [],
   "source": [
    "from sklearn.tree import export_graphviz\n",
    "\n",
    "dotfile = open(\"tree.dot\", 'w')\n",
    "export_graphviz(tree, out_file = dotfile, feature_names = titanic.columns.drop(\"Survived\"))\n",
    "dotfile.close()"
   ]
  },
  {
   "cell_type": "markdown",
   "metadata": {},
   "source": [
    "### Random Forest\n",
    "with this model you can create multiple decision tree and you can put them together to make your model more robust:"
   ]
  },
  {
   "cell_type": "code",
   "execution_count": 24,
   "metadata": {},
   "outputs": [
    {
     "name": "stdout",
     "output_type": "stream",
     "text": [
      "ACCURACY: TRAIN=0.9161 TEST=0.8577\n"
     ]
    }
   ],
   "source": [
    "from sklearn.ensemble import RandomForestClassifier\n",
    "\n",
    "forest = RandomForestClassifier(n_estimators=30, max_depth=8, random_state=False)\n",
    "\n",
    "forest.fit(X_train, Y_train)\n",
    "\n",
    "y_pred_train = forest.predict(X_train)\n",
    "y_pred = forest.predict(X_test)\n",
    "\n",
    "accuracy_train = accuracy_score(Y_train, y_pred_train)\n",
    "accuracy_test = accuracy_score(Y_test, y_pred)\n",
    "\n",
    "print(\"ACCURACY: TRAIN=%.4f TEST=%.4f\" % (accuracy_train,accuracy_test))"
   ]
  },
  {
   "cell_type": "markdown",
   "metadata": {},
   "source": [
    "## Support Vector Machine - SVM\n",
    "This type of model exclude outliers, the greater the margin the better the result, the particularity of this machine is that it learn by promiscuous example, it totally ignore ideal one: it learn from difficult example. \n",
    "\n",
    "Following code is just useless function to plot future examples, you can ignore it."
   ]
  },
  {
   "cell_type": "code",
   "execution_count": 51,
   "metadata": {},
   "outputs": [],
   "source": [
    "#begin ignoring#\n",
    "\n",
    "import matplotlib.pyplot as plt\n",
    "import numpy as np\n",
    "from matplotlib.colors import ListedColormap\n",
    "\n",
    "\n",
    "def show_bounds(model,X,Y,labels=[\"Classe 0\",\"Classe 1\"], figsize=(12,10)):\n",
    "\n",
    "    plt.figure(figsize=figsize)\n",
    "\n",
    "    h = .02\n",
    "\n",
    "    x_min, x_max = X[:, 0].min(), X[:, 0].max()\n",
    "    y_min, y_max = X[:, 1].min(), X[:, 1].max()\n",
    "\n",
    "    xx, yy = np.meshgrid(np.arange(x_min, x_max, h),\n",
    "                         np.arange(y_min, y_max, h))\n",
    "\n",
    "    Z = model.predict(np.c_[xx.ravel(), yy.ravel()])\n",
    "\n",
    "    Z = Z.reshape(xx.shape)\n",
    "    plt.contourf(xx, yy, Z, cmap=plt.cm.Paired)\n",
    "\n",
    "    X_m = X[Y==1]\n",
    "    X_b = X[Y==0]\n",
    "    plt.scatter(X_b[:, 0], X_b[:, 1], c=\"green\",  edgecolor='white', label=labels[0])\n",
    "    plt.scatter(X_m[:, 0], X_m[:, 1], c=\"red\",  edgecolor='white', label=labels[1])\n",
    "    plt.legend()\n",
    "\n",
    "\n",
    "def plot_bounds(X,Y,model=None,classes=None, figsize=(8,6)):\n",
    "        \n",
    "    plt.figure(figsize=figsize)\n",
    "        \n",
    "    if(model):\n",
    "        X_train, X_test = X\n",
    "        Y_train, Y_test = Y\n",
    "        X = np.vstack([X_train, X_test])\n",
    "        x_min, x_max = X[:, 0].min() - .5, X[:, 0].max() + .5\n",
    "        y_min, y_max = X[:, 1].min() - .5, X[:, 1].max() + .5\n",
    "\n",
    "        xx, yy = np.meshgrid(np.arange(x_min, x_max, .02),\n",
    "                             np.arange(y_min, y_max, .02))\n",
    "\n",
    "        if hasattr(model, \"predict_proba\"):\n",
    "            Z = model.predict_proba(np.c_[xx.ravel(), yy.ravel()])[:, 1]\n",
    "        else:\n",
    "            Z = model.predict(np.c_[xx.ravel(), yy.ravel()])\n",
    "            \n",
    "        Z = Z.reshape(xx.shape)\n",
    "\n",
    "        plt.contourf(xx, yy, Z, alpha=.8)\n",
    "\n",
    "    plt.scatter(X_train[:,0], X_train[:,1], c=Y_train)\n",
    "    plt.scatter(X_test[:,0], X_test[:,1], c=Y_test, alpha=0.6)\n",
    "    \n",
    "    plt.show()\n",
    "\n",
    "#end ignoring#"
   ]
  },
  {
   "cell_type": "markdown",
   "metadata": {},
   "source": [
    "Following code is an example of SVM"
   ]
  },
  {
   "cell_type": "code",
   "execution_count": 52,
   "metadata": {},
   "outputs": [
    {
     "data": {
      "text/html": [
       "<div>\n",
       "<style scoped>\n",
       "    .dataframe tbody tr th:only-of-type {\n",
       "        vertical-align: middle;\n",
       "    }\n",
       "\n",
       "    .dataframe tbody tr th {\n",
       "        vertical-align: top;\n",
       "    }\n",
       "\n",
       "    .dataframe thead th {\n",
       "        text-align: right;\n",
       "    }\n",
       "</style>\n",
       "<table border=\"1\" class=\"dataframe\">\n",
       "  <thead>\n",
       "    <tr style=\"text-align: right;\">\n",
       "      <th></th>\n",
       "      <th>sepal length</th>\n",
       "      <th>sepal width</th>\n",
       "      <th>petal length</th>\n",
       "      <th>petal width</th>\n",
       "      <th>class</th>\n",
       "    </tr>\n",
       "  </thead>\n",
       "  <tbody>\n",
       "    <tr>\n",
       "      <th>0</th>\n",
       "      <td>5.1</td>\n",
       "      <td>3.5</td>\n",
       "      <td>1.4</td>\n",
       "      <td>0.2</td>\n",
       "      <td>Iris-setosa</td>\n",
       "    </tr>\n",
       "    <tr>\n",
       "      <th>1</th>\n",
       "      <td>4.9</td>\n",
       "      <td>3.0</td>\n",
       "      <td>1.4</td>\n",
       "      <td>0.2</td>\n",
       "      <td>Iris-setosa</td>\n",
       "    </tr>\n",
       "    <tr>\n",
       "      <th>2</th>\n",
       "      <td>4.7</td>\n",
       "      <td>3.2</td>\n",
       "      <td>1.3</td>\n",
       "      <td>0.2</td>\n",
       "      <td>Iris-setosa</td>\n",
       "    </tr>\n",
       "    <tr>\n",
       "      <th>3</th>\n",
       "      <td>4.6</td>\n",
       "      <td>3.1</td>\n",
       "      <td>1.5</td>\n",
       "      <td>0.2</td>\n",
       "      <td>Iris-setosa</td>\n",
       "    </tr>\n",
       "    <tr>\n",
       "      <th>4</th>\n",
       "      <td>5.0</td>\n",
       "      <td>3.6</td>\n",
       "      <td>1.4</td>\n",
       "      <td>0.2</td>\n",
       "      <td>Iris-setosa</td>\n",
       "    </tr>\n",
       "  </tbody>\n",
       "</table>\n",
       "</div>"
      ],
      "text/plain": [
       "   sepal length  sepal width  petal length  petal width        class\n",
       "0           5.1          3.5           1.4          0.2  Iris-setosa\n",
       "1           4.9          3.0           1.4          0.2  Iris-setosa\n",
       "2           4.7          3.2           1.3          0.2  Iris-setosa\n",
       "3           4.6          3.1           1.5          0.2  Iris-setosa\n",
       "4           5.0          3.6           1.4          0.2  Iris-setosa"
      ]
     },
     "execution_count": 52,
     "metadata": {},
     "output_type": "execute_result"
    }
   ],
   "source": [
    "import pandas as pd\n",
    "import numpy as np\n",
    "import matplotlib.pyplot as plt\n",
    "from sklearn.model_selection import train_test_split\n",
    "from sklearn.preprocessing import LabelEncoder\n",
    "from sklearn.preprocessing import StandardScaler\n",
    "\n",
    "iris = pd.read_csv(\"https://archive.ics.uci.edu/ml/machine-learning-databases/iris/iris.data\", names=[\"sepal length\",\"sepal width\",\"petal length\",\"petal width\",\"class\"])\n",
    "iris.head()"
   ]
  },
  {
   "cell_type": "code",
   "execution_count": 54,
   "metadata": {},
   "outputs": [],
   "source": [
    "X = iris.drop(\"class\",axis=1).values\n",
    "Y = iris[\"class\"].values\n",
    "\n",
    "X_train, X_test, Y_train, Y_test = train_test_split(X, Y, test_size=0.3, random_state=0)"
   ]
  },
  {
   "cell_type": "markdown",
   "metadata": {},
   "source": [
    "As you can see *Target* contain nominal value, so we must encode them:"
   ]
  },
  {
   "cell_type": "code",
   "execution_count": 55,
   "metadata": {},
   "outputs": [],
   "source": [
    "le = LabelEncoder() #Encoding\n",
    "Y_train = le.fit_transform(Y_train)\n",
    "Y_test = le.transform(Y_test)\n",
    "\n",
    "ss = StandardScaler() #Standardization\n",
    "X_train = ss.fit_transform(X_train)\n",
    "X_test = ss.transform(X_test)"
   ]
  },
  {
   "cell_type": "markdown",
   "metadata": {},
   "source": [
    "We can train SVM:\n",
    "\n",
    "[sklearn.svm.LinearSVC](https://scikit-learn.org/stable/modules/generated/sklearn.svm.LinearSVC.html?highlight=linearsvc#sklearn.svm.LinearSVC)\n",
    "\n",
    "We are going to make SVM with only 2 features:"
   ]
  },
  {
   "cell_type": "code",
   "execution_count": 56,
   "metadata": {},
   "outputs": [
    {
     "name": "stdout",
     "output_type": "stream",
     "text": [
      "ACCURACY with 2 properties: Train=0.8286 Test=0.6889\n"
     ]
    }
   ],
   "source": [
    "X2_train = X_train[:,:2] #comma mean that we consider column\n",
    "X2_test = X_test[:,:2]\n",
    "\n",
    "from sklearn.svm import LinearSVC\n",
    "\n",
    "svc = LinearSVC() #Train SVM\n",
    "svc.fit(X2_train, Y_train)\n",
    "print(\"ACCURACY with 2 properties: Train=%.4f Test=%.4f\" % (svc.score(X2_train, Y_train), svc.score(X2_test,Y_test)))"
   ]
  },
  {
   "cell_type": "markdown",
   "metadata": {},
   "source": [
    "we use upper function to plot result:"
   ]
  },
  {
   "cell_type": "code",
   "execution_count": 57,
   "metadata": {},
   "outputs": [
    {
     "data": {
      "image/png": "[encoded data removed]",
      "text/plain": [
       "<Figure size 576x432 with 1 Axes>"
      ]
     },
     "metadata": {
      "needs_background": "light"
     },
     "output_type": "display_data"
    }
   ],
   "source": [
    "plot_bounds((X2_train,X2_test),(Y_train,Y_test),svc)"
   ]
  },
  {
   "cell_type": "markdown",
   "metadata": {},
   "source": [
    "the model is overfitted, it should be good for purple category but i is bad for the others. We try now with all features:"
   ]
  },
  {
   "cell_type": "code",
   "execution_count": 58,
   "metadata": {},
   "outputs": [
    {
     "name": "stdout",
     "output_type": "stream",
     "text": [
      "ACCURACY con tutte le proprietà: Train=0.9429 Test=0.9556\n"
     ]
    }
   ],
   "source": [
    "from sklearn.svm import LinearSVC\n",
    "\n",
    "svc = LinearSVC()\n",
    "svc.fit(X_train, Y_train)\n",
    "print(\"ACCURACY con tutte le proprietà: Train=%.4f Test=%.4f\" % (svc.score(X_train, Y_train), svc.score(X_test,Y_test)))"
   ]
  },
  {
   "cell_type": "markdown",
   "metadata": {},
   "source": [
    "## Kernel SVM\n",
    "The kernel function is what is applied on each data instance to map the original non-linear observations into a higher-dimensional space in which they become separable.\n",
    "\n",
    "[sklearn.svm.SVC](https://scikit-learn.org/stable/modules/generated/sklearn.svm.SVC.html?highlight=svc#sklearn.svm.SVC)\n",
    "\n",
    "![](img/4.jpg)\n",
    "\n",
    "There are a lot of different Kernel Functions:\n",
    "* Linear: simple Linear SVM\n",
    "* Gaussian (RBF): most generic one\n",
    "* Sigmoid: Alternative to RBF when RBF is not good\n",
    "* Polynomial: Alternative to RBF\n",
    "\n",
    "let's try, first step, as usual, is to load data:"
   ]
  },
  {
   "cell_type": "code",
   "execution_count": 65,
   "metadata": {},
   "outputs": [
    {
     "data": {
      "text/plain": [
       "<matplotlib.collections.PathCollection at 0x1c3a546e4f0>"
      ]
     },
     "execution_count": 65,
     "metadata": {},
     "output_type": "execute_result"
    },
    {
     "data": {
      "image/png": "[encoded data removed]",
      "text/plain": [
       "<Figure size 432x288 with 1 Axes>"
      ]
     },
     "metadata": {
      "needs_background": "light"
     },
     "output_type": "display_data"
    }
   ],
   "source": [
    "import numpy as np\n",
    "import matplotlib.pyplot as plt\n",
    "from sklearn.model_selection import train_test_split\n",
    "\n",
    "from sklearn.datasets import make_circles\n",
    "\n",
    "X, y = make_circles(noise=0.2, factor=0.5, random_state=1) #another default data set in scikit-learn\n",
    "\n",
    "X_train, X_test, Y_train, Y_test = train_test_split(X, y, test_size=0.3, random_state=0)\n",
    "\n",
    "plt.scatter(X[:,0],X[:,1],c=y) #plot data set, column 0 (x-coordinate) and column 1 (y-coordinate)"
   ]
  },
  {
   "cell_type": "markdown",
   "metadata": {},
   "source": [
    "### Linear SVM"
   ]
  },
  {
   "cell_type": "code",
   "execution_count": 66,
   "metadata": {},
   "outputs": [
    {
     "name": "stdout",
     "output_type": "stream",
     "text": [
      "ACCURACY: Train=0.5143 Test=0.4667\n"
     ]
    },
    {
     "data": {
      "image/png": "[encoded data removed]",
      "text/plain": [
       "<Figure size 576x432 with 1 Axes>"
      ]
     },
     "metadata": {
      "needs_background": "light"
     },
     "output_type": "display_data"
    }
   ],
   "source": [
    "from sklearn.svm import SVC\n",
    "\n",
    "svc = SVC(kernel=\"linear\",probability=True) #equal to LinearSVC\n",
    "svc.fit(X_train, Y_train)\n",
    "print(\"ACCURACY: Train=%.4f Test=%.4f\" % (svc.score(X_train, Y_train), svc.score(X_test,Y_test)))\n",
    "plot_bounds((X_train, X_test),(Y_train, Y_test),svc)"
   ]
  },
  {
   "cell_type": "markdown",
   "metadata": {},
   "source": [
    "### RBF SVM"
   ]
  },
  {
   "cell_type": "code",
   "execution_count": 67,
   "metadata": {},
   "outputs": [
    {
     "name": "stdout",
     "output_type": "stream",
     "text": [
      "ACCURACY: Train=0.9143 Test=0.8667\n"
     ]
    },
    {
     "data": {
      "image/png": "[encoded data removed]",
      "text/plain": [
       "<Figure size 576x432 with 1 Axes>"
      ]
     },
     "metadata": {
      "needs_background": "light"
     },
     "output_type": "display_data"
    }
   ],
   "source": [
    "from sklearn.svm import SVC\n",
    "\n",
    "svc = SVC(kernel=\"rbf\",probability=True) #Gaussian SVC\n",
    "svc.fit(X_train, Y_train)\n",
    "print(\"ACCURACY: Train=%.4f Test=%.4f\" % (svc.score(X_train, Y_train), svc.score(X_test,Y_test)))\n",
    "plot_bounds((X_train, X_test),(Y_train, Y_test),svc)"
   ]
  },
  {
   "cell_type": "markdown",
   "metadata": {},
   "source": [
    "### Sigmoid SVM\n"
   ]
  },
  {
   "cell_type": "code",
   "execution_count": 68,
   "metadata": {},
   "outputs": [
    {
     "name": "stdout",
     "output_type": "stream",
     "text": [
      "ACCURACY: Train=0.4714 Test=0.4333\n"
     ]
    },
    {
     "data": {
      "image/png": "[encoded data removed]",
      "text/plain": [
       "<Figure size 576x432 with 1 Axes>"
      ]
     },
     "metadata": {
      "needs_background": "light"
     },
     "output_type": "display_data"
    }
   ],
   "source": [
    "from sklearn.svm import SVC\n",
    "\n",
    "svc = SVC(kernel=\"sigmoid\",probability=True)\n",
    "svc.fit(X_train, Y_train)\n",
    "print(\"ACCURACY: Train=%.4f Test=%.4f\" % (svc.score(X_train, Y_train), svc.score(X_test,Y_test)))\n",
    "plot_bounds((X_train, X_test),(Y_train, Y_test),svc)"
   ]
  },
  {
   "cell_type": "markdown",
   "metadata": {},
   "source": [
    "### Polynomial SVM"
   ]
  },
  {
   "cell_type": "code",
   "execution_count": 69,
   "metadata": {},
   "outputs": [
    {
     "name": "stdout",
     "output_type": "stream",
     "text": [
      "ACCURACY: Train=0.5143 Test=0.4667\n"
     ]
    },
    {
     "data": {
      "image/png": "[encoded data removed]",
      "text/plain": [
       "<Figure size 576x432 with 1 Axes>"
      ]
     },
     "metadata": {
      "needs_background": "light"
     },
     "output_type": "display_data"
    }
   ],
   "source": [
    "from sklearn.svm import SVC\n",
    "\n",
    "svc = SVC(kernel=\"poly\",probability=True)\n",
    "svc.fit(X_train, Y_train)\n",
    "print(\"ACCURACY: Train=%.4f Test=%.4f\" % (svc.score(X_train, Y_train), svc.score(X_test, Y_test)))\n",
    "plot_bounds((X_train, X_test),(Y_train, Y_test),svc)"
   ]
  },
  {
   "cell_type": "markdown",
   "metadata": {},
   "source": [
    "# Deep Learning\n",
    "\n",
    "Percettron is a simple neuron, to train it we can use Gradient Descend:\n",
    "1. we calc cost function with weights on every parameter\n",
    "2. we test result on test set\n",
    "3. we adjust weights to minimize error and maximize score\n",
    "4. every loop is called epoch, in every epoch we adjust weights\n",
    "\n",
    "![](img/4.png)\n",
    "\n",
    "Gradient descend need to know every single weight to correctly work, if we add more than one perceptron we loose information about weights. For this reason Neural Network use Backward induction to get this information.\n",
    "\n",
    "Neural network is composed by a lot of layers and a lot of perceptron for every layer, Neural network with only 1 hidden layer is called Vanilla Neural Network while a multi layer neural network is called Deep Neural Network.\n",
    "\n",
    "![](img/5.png)\n",
    "\n",
    "To correctly train a Deep neural network we need large dataset and we use MNIST dataset, a dataset containing handwritten digits (60k for train and 10k for test)\n"
   ]
  },
  {
   "cell_type": "code",
   "execution_count": 4,
   "metadata": {},
   "outputs": [],
   "source": [
    "import matplotlib.pyplot as plt\n",
    "import numpy as np\n",
    "from sklearn.model_selection import train_test_split\n",
    "from sklearn.metrics import log_loss\n",
    "from sklearn.metrics import accuracy_score\n",
    "from sklearn.preprocessing import MinMaxScaler\n",
    "\n",
    "#import dataset from localdirectory\n",
    "import os\n",
    "import struct\n",
    "\n",
    "def load_mnist(path=\"/\"):\n",
    "    \n",
    "    train_labels_path = os.path.join(path,\"train-labels.idx1-ubyte\")\n",
    "    train_images_path = os.path.join(path,\"train-images.idx3-ubyte\")\n",
    "    \n",
    "    test_labels_path = os.path.join(path,\"t10k-labels.idx1-ubyte\")\n",
    "    test_images_path = os.path.join(path,\"t10k-images.idx3-ubyte\")\n",
    "    \n",
    "    labels_path = [train_labels_path, test_labels_path]\n",
    "    images_path = [train_images_path, test_images_path]\n",
    "        \n",
    "    labels = []\n",
    "    images = []\n",
    "        \n",
    "    for path in zip(labels_path, images_path):\n",
    "        \n",
    "        with open(path[0],'rb') as lbpath:\n",
    "            magic, n = struct.unpack('>II', lbpath.read(8))\n",
    "            lb = np.fromfile(lbpath, dtype=np.uint8)\n",
    "            labels.append(lb)\n",
    "            \n",
    "        with open(path[1], 'rb') as imgpath:\n",
    "            magic, num, rows, cols = struct.unpack(\">IIII\", imgpath.read(16))\n",
    "            images.append(np.fromfile(imgpath, dtype=np.uint8).reshape(len(lb), 784))\n",
    "            \n",
    "    return images[0], images[1], labels[0], labels[1]"
   ]
  },
  {
   "cell_type": "markdown",
   "metadata": {},
   "source": [
    "You have to download dataset from [This site](http://yann.lecun.com/exdb/mnist/)"
   ]
  },
  {
   "cell_type": "code",
   "execution_count": 6,
   "metadata": {},
   "outputs": [
    {
     "name": "stdout",
     "output_type": "stream",
     "text": [
      "Numero totale di proprietà: 784\n",
      "Esempi di training: 60000\n",
      "Esempi di test: 10000\n"
     ]
    }
   ],
   "source": [
    "\n",
    "X_train, X_test, Y_train, Y_test = load_mnist(path=\"data\")\n",
    "print(\"Numero totale di proprietà: \"+str(X_train.shape[1]))\n",
    "print(\"Esempi di training: \"+str(X_train.shape[0]))\n",
    "print(\"Esempi di test: \"+str(X_test.shape[0]))\n"
   ]
  },
  {
   "cell_type": "markdown",
   "metadata": {},
   "source": [
    "every image si 28x28 so every example has 784 properties. Now we normalize:"
   ]
  },
  {
   "cell_type": "code",
   "execution_count": 7,
   "metadata": {},
   "outputs": [],
   "source": [
    "mms = MinMaxScaler()\n",
    "X_train = mms.fit_transform(X_train)\n",
    "X_test = mms.transform(X_test)"
   ]
  },
  {
   "cell_type": "markdown",
   "metadata": {},
   "source": [
    "## Vanilla Network\n",
    "we start creating vanilla network, we use [MLPClassifier](sklearn.neural_network.MLPClassifier)"
   ]
  },
  {
   "cell_type": "code",
   "execution_count": 8,
   "metadata": {},
   "outputs": [
    {
     "name": "stdout",
     "output_type": "stream",
     "text": [
      "Iteration 1, loss = 0.44171001\n",
      "Iteration 2, loss = 0.20594759\n",
      "Iteration 3, loss = 0.15263181\n",
      "Iteration 4, loss = 0.12355321\n",
      "Iteration 5, loss = 0.10248392\n",
      "Iteration 6, loss = 0.08694864\n",
      "Iteration 7, loss = 0.07543848\n",
      "Iteration 8, loss = 0.06583725\n",
      "Iteration 9, loss = 0.05846408\n",
      "Iteration 10, loss = 0.05204946\n",
      "Iteration 11, loss = 0.04681766\n",
      "Iteration 12, loss = 0.04110156\n",
      "Iteration 13, loss = 0.03721248\n",
      "Iteration 14, loss = 0.03302022\n",
      "Iteration 15, loss = 0.02989244\n",
      "Iteration 16, loss = 0.02651886\n",
      "Iteration 17, loss = 0.02422051\n",
      "Iteration 18, loss = 0.02171409\n",
      "Iteration 19, loss = 0.01932239\n",
      "Iteration 20, loss = 0.01751746\n",
      "Iteration 21, loss = 0.01499896\n",
      "Iteration 22, loss = 0.01386704\n",
      "Iteration 23, loss = 0.01198520\n",
      "Iteration 24, loss = 0.01107820\n",
      "Iteration 25, loss = 0.00973665\n",
      "Iteration 26, loss = 0.00935885\n",
      "Iteration 27, loss = 0.00761214\n",
      "Iteration 28, loss = 0.00733347\n",
      "Iteration 29, loss = 0.00621245\n",
      "Iteration 30, loss = 0.00576992\n",
      "Iteration 31, loss = 0.00542182\n",
      "Iteration 32, loss = 0.00573054\n",
      "Iteration 33, loss = 0.00438976\n",
      "Iteration 34, loss = 0.00412176\n",
      "Iteration 35, loss = 0.00306412\n",
      "Iteration 36, loss = 0.00269805\n",
      "Iteration 37, loss = 0.00251724\n",
      "Iteration 38, loss = 0.00287499\n",
      "Iteration 39, loss = 0.00644648\n",
      "Iteration 40, loss = 0.00596196\n",
      "Iteration 41, loss = 0.00234871\n",
      "Iteration 42, loss = 0.00173836\n",
      "Iteration 43, loss = 0.00150148\n",
      "Iteration 44, loss = 0.00139927\n",
      "Iteration 45, loss = 0.00135716\n",
      "Iteration 46, loss = 0.00136678\n",
      "Iteration 47, loss = 0.00134370\n",
      "Iteration 48, loss = 0.00401873\n",
      "Iteration 49, loss = 0.01177765\n",
      "Iteration 50, loss = 0.00207412\n",
      "Iteration 51, loss = 0.00133686\n",
      "Iteration 52, loss = 0.00114716\n",
      "Iteration 53, loss = 0.00109450\n",
      "Iteration 54, loss = 0.00105107\n",
      "Iteration 55, loss = 0.00102909\n",
      "Iteration 56, loss = 0.00099916\n",
      "Iteration 57, loss = 0.00097918\n",
      "Iteration 58, loss = 0.00095368\n",
      "Iteration 59, loss = 0.00093237\n",
      "Iteration 60, loss = 0.00091814\n",
      "Iteration 61, loss = 0.00190214\n",
      "Iteration 62, loss = 0.01634259\n",
      "Iteration 63, loss = 0.00194242\n",
      "Training loss did not improve more than tol=0.000100 for 10 consecutive epochs. Stopping.\n",
      "ACCURACY: TRAIN=1.0000 TEST=0.9784\n",
      "LOG LOSS: TRAIN=0.0007 TEST=0.1126\n"
     ]
    }
   ],
   "source": [
    "from sklearn.neural_network import MLPClassifier\n",
    "\n",
    "mlp = MLPClassifier(hidden_layer_sizes=(100,), verbose=True) #hidden_layer_size represent the ith hidden layer number of neurons \n",
    "mlp.fit(X_train, Y_train)\n",
    "    \n",
    "y_pred_train = mlp.predict(X_train)\n",
    "y_prob_train = mlp.predict_proba(X_train)\n",
    "    \n",
    "y_pred = mlp.predict(X_test)\n",
    "y_prob = mlp.predict_proba(X_test)\n",
    "    \n",
    "accuracy_train = accuracy_score(Y_train, y_pred_train)\n",
    "accuracy_test = accuracy_score(Y_test, y_pred)\n",
    "\n",
    "loss_train = log_loss(Y_train, y_prob_train)\n",
    "loss_test = log_loss(Y_test, y_prob)\n",
    "    \n",
    "print(\"ACCURACY: TRAIN=%.4f TEST=%.4f\" % (accuracy_train,accuracy_test))\n",
    "print(\"LOG LOSS: TRAIN=%.4f TEST=%.4f\" % (loss_train,loss_test))"
   ]
  },
  {
   "cell_type": "markdown",
   "metadata": {},
   "source": [
    "## Deep neural network\n",
    "\n",
    "Now we tray with a deep neural network, classifier is the same but parameters change a little bit"
   ]
  },
  {
   "cell_type": "code",
   "execution_count": 9,
   "metadata": {},
   "outputs": [
    {
     "name": "stdout",
     "output_type": "stream",
     "text": [
      "Iteration 1, loss = 0.24055035\n",
      "Iteration 2, loss = 0.08445546\n",
      "Iteration 3, loss = 0.05559034\n",
      "Iteration 4, loss = 0.03582679\n",
      "Iteration 5, loss = 0.02548779\n",
      "Iteration 6, loss = 0.01971831\n",
      "Iteration 7, loss = 0.01811101\n",
      "Iteration 8, loss = 0.01440783\n",
      "Iteration 9, loss = 0.01323993\n",
      "Iteration 10, loss = 0.01341571\n",
      "Iteration 11, loss = 0.01188339\n",
      "Iteration 12, loss = 0.01083841\n",
      "Iteration 13, loss = 0.00857186\n",
      "Iteration 14, loss = 0.01050910\n",
      "Iteration 15, loss = 0.00882519\n",
      "Iteration 16, loss = 0.01052998\n",
      "Iteration 17, loss = 0.00891596\n",
      "Iteration 18, loss = 0.00667429\n",
      "Iteration 19, loss = 0.00837348\n",
      "Iteration 20, loss = 0.00666463\n",
      "Iteration 21, loss = 0.00778946\n",
      "Iteration 22, loss = 0.00919521\n",
      "Iteration 23, loss = 0.00853162\n",
      "Iteration 24, loss = 0.00434974\n",
      "Iteration 25, loss = 0.00767713\n",
      "Iteration 26, loss = 0.00578206\n",
      "Iteration 27, loss = 0.00606724\n",
      "Iteration 28, loss = 0.00547955\n",
      "Iteration 29, loss = 0.00967123\n",
      "Iteration 30, loss = 0.00695688\n",
      "Iteration 31, loss = 0.00567690\n",
      "Iteration 32, loss = 0.00301568\n",
      "Iteration 33, loss = 0.00306952\n",
      "Iteration 34, loss = 0.00536500\n",
      "Iteration 35, loss = 0.00866565\n",
      "Iteration 36, loss = 0.00907399\n",
      "Iteration 37, loss = 0.00517197\n",
      "Iteration 38, loss = 0.00625523\n",
      "Iteration 39, loss = 0.00593930\n",
      "Iteration 40, loss = 0.00289569\n",
      "Iteration 41, loss = 0.00149324\n",
      "Iteration 42, loss = 0.00128496\n",
      "Iteration 43, loss = 0.00126654\n",
      "Iteration 44, loss = 0.00124990\n",
      "Iteration 45, loss = 0.00123237\n",
      "Iteration 46, loss = 0.00121437\n",
      "Iteration 47, loss = 0.00119602\n",
      "Iteration 48, loss = 0.00117687\n",
      "Iteration 49, loss = 0.00115659\n",
      "Iteration 50, loss = 0.00113487\n",
      "Iteration 51, loss = 0.00111148\n",
      "Iteration 52, loss = 0.00108637\n",
      "Iteration 53, loss = 0.00105939\n",
      "Training loss did not improve more than tol=0.000100 for 10 consecutive epochs. Stopping.\n",
      "ACCURACY: TRAIN=1.0000 TEST=0.9870\n",
      "LOG LOSS: TRAIN=0.0000 TEST=0.1076\n"
     ]
    }
   ],
   "source": [
    "from sklearn.neural_network import MLPClassifier\n",
    "\n",
    "mlp = MLPClassifier(hidden_layer_sizes=(512,512,), verbose=True)\n",
    "mlp.fit(X_train, Y_train)\n",
    "    \n",
    "y_pred_train = mlp.predict(X_train)\n",
    "y_prob_train = mlp.predict_proba(X_train)\n",
    "    \n",
    "y_pred = mlp.predict(X_test)\n",
    "y_prob = mlp.predict_proba(X_test)\n",
    "    \n",
    "accuracy_train = accuracy_score(Y_train, y_pred_train)\n",
    "accuracy_test = accuracy_score(Y_test, y_pred)\n",
    "\n",
    "loss_train = log_loss(Y_train, y_prob_train)\n",
    "loss_test = log_loss(Y_test, y_prob)\n",
    "    \n",
    "print(\"ACCURACY: TRAIN=%.4f TEST=%.4f\" % (accuracy_train,accuracy_test))\n",
    "print(\"LOG LOSS: TRAIN=%.4f TEST=%.4f\" % (loss_train,loss_test))"
   ]
  },
  {
   "cell_type": "markdown",
   "metadata": {},
   "source": [
    "# Validation and Optimization\n",
    "\n",
    "## Full Batch, Stochastic and Mini Batch Gradient Descend\n",
    "\n",
    "### Full Batch Gradient Descend\n",
    "\n",
    "So far we have been using full batch Gradient Descend: we applied Gradient Descend with entire test set, this is a problem in real applications because:\n",
    "1. Inefficient for big data\n",
    "2. Less Dynamic: if we obtain new data we have to re train on entire dataset\n",
    "3. Local Minimum problem: when there are a lot of local minimum (common in big data set) the risk is that machine could block on local minimum instead of find global minimum.\n",
    "\n",
    "There are 2 alternatives to this method to fix these problems:\n",
    "* **Stochastic method**: Gradiend descend on one example a time\n",
    "* **Mini batch method**: Gradient Descend on a *batch_size* examples a time\n",
    "\n",
    "Let's take a deep look to gradient descend methods comparison, we start with **Full Batch Gradient Descend**\n",
    "\n",
    "with *partial_fit* we can train only part of the data, we can simulate stochastic gradient descend to see cost function fluctuation\n"
   ]
  },
  {
   "cell_type": "code",
   "execution_count": 19,
   "metadata": {},
   "outputs": [
    {
     "name": "stdout",
     "output_type": "stream",
     "text": [
      "Loss all'epoca 1 = 0.6238\n",
      "Loss all'epoca 2 = 0.3485\n",
      "Loss all'epoca 3 = 0.5827\n",
      "Loss all'epoca 4 = 0.7230\n",
      "Loss all'epoca 5 = 0.1958\n",
      "Loss all'epoca 6 = 0.1542\n",
      "Loss all'epoca 7 = 0.2547\n",
      "Loss all'epoca 8 = 0.1486\n",
      "Loss all'epoca 9 = 0.1500\n",
      "Loss all'epoca 10 = 0.1530\n",
      "Loss all'epoca 11 = 0.1555\n",
      "Loss all'epoca 12 = 0.1360\n",
      "Loss all'epoca 13 = 0.1238\n",
      "Loss all'epoca 14 = 0.1312\n",
      "Loss all'epoca 15 = 0.1320\n",
      "Loss all'epoca 16 = 0.1361\n",
      "Loss all'epoca 17 = 0.1174\n",
      "Loss all'epoca 18 = 0.1161\n",
      "Loss all'epoca 19 = 0.1798\n",
      "Loss all'epoca 20 = 0.1150\n",
      "Loss all'epoca 21 = 0.1425\n",
      "Loss all'epoca 22 = 0.1164\n",
      "Loss all'epoca 23 = 0.1288\n",
      "Loss all'epoca 24 = 0.1278\n",
      "Loss all'epoca 25 = 0.1258\n",
      "Loss all'epoca 26 = 0.1138\n",
      "Loss all'epoca 27 = 0.1122\n",
      "Loss all'epoca 28 = 0.1101\n",
      "Loss all'epoca 29 = 0.1156\n",
      "Loss all'epoca 30 = 0.1265\n",
      "Loss all'epoca 31 = 0.1163\n",
      "Loss all'epoca 32 = 0.1137\n",
      "Loss all'epoca 33 = 0.1155\n",
      "Loss all'epoca 34 = 0.1172\n",
      "Loss all'epoca 35 = 0.1111\n",
      "Loss all'epoca 36 = 0.1098\n",
      "Loss all'epoca 37 = 0.1120\n",
      "Loss all'epoca 38 = 0.1172\n",
      "Loss all'epoca 39 = 0.1129\n",
      "Loss all'epoca 40 = 0.1080\n",
      "Loss all'epoca 41 = 0.1190\n",
      "Loss all'epoca 42 = 0.1110\n",
      "Loss all'epoca 43 = 0.1060\n",
      "Loss all'epoca 44 = 0.1108\n",
      "Loss all'epoca 45 = 0.1127\n",
      "Loss all'epoca 46 = 0.1058\n",
      "Loss all'epoca 47 = 0.1079\n",
      "Loss all'epoca 48 = 0.1176\n",
      "Loss all'epoca 49 = 0.1119\n",
      "Loss all'epoca 50 = 0.1108\n",
      "Loss all'epoca 51 = 0.1063\n",
      "Loss all'epoca 52 = 0.1277\n",
      "Loss all'epoca 53 = 0.1189\n",
      "Loss all'epoca 54 = 0.1141\n",
      "Loss all'epoca 55 = 0.1057\n",
      "Loss all'epoca 56 = 0.1074\n",
      "Loss all'epoca 57 = 0.1074\n",
      "Loss all'epoca 58 = 0.1068\n",
      "Loss all'epoca 59 = 0.1072\n",
      "Loss all'epoca 60 = 0.1057\n",
      "Loss all'epoca 61 = 0.1085\n",
      "Loss all'epoca 62 = 0.1090\n",
      "Loss all'epoca 63 = 0.1103\n",
      "Loss all'epoca 64 = 0.1083\n",
      "Loss all'epoca 65 = 0.1215\n",
      "Loss all'epoca 66 = 0.1089\n",
      "Loss all'epoca 67 = 0.1076\n",
      "Loss all'epoca 68 = 0.1084\n",
      "Loss all'epoca 69 = 0.1061\n",
      "Loss all'epoca 70 = 0.1142\n",
      "Loss all'epoca 71 = 0.1066\n",
      "Loss all'epoca 72 = 0.1093\n",
      "Loss all'epoca 73 = 0.1055\n",
      "Loss all'epoca 74 = 0.1079\n",
      "Loss all'epoca 75 = 0.1078\n",
      "Loss all'epoca 76 = 0.1058\n",
      "Loss all'epoca 77 = 0.1069\n",
      "Loss all'epoca 78 = 0.1113\n",
      "Loss all'epoca 79 = 0.1102\n",
      "Loss all'epoca 80 = 0.1058\n",
      "Loss all'epoca 81 = 0.1125\n",
      "Loss all'epoca 82 = 0.1091\n",
      "Loss all'epoca 83 = 0.1086\n",
      "Loss all'epoca 84 = 0.1067\n",
      "Loss all'epoca 85 = 0.1078\n",
      "Loss all'epoca 86 = 0.1064\n",
      "Loss all'epoca 87 = 0.1109\n",
      "Loss all'epoca 88 = 0.1069\n",
      "Loss all'epoca 89 = 0.1066\n",
      "Loss all'epoca 90 = 0.1082\n",
      "Loss all'epoca 91 = 0.1105\n",
      "Loss all'epoca 92 = 0.1075\n",
      "Loss all'epoca 93 = 0.1087\n",
      "Loss all'epoca 94 = 0.1074\n",
      "Loss all'epoca 95 = 0.1093\n",
      "Loss all'epoca 96 = 0.1097\n",
      "Loss all'epoca 97 = 0.1087\n",
      "Loss all'epoca 98 = 0.1069\n",
      "Loss all'epoca 99 = 0.1075\n",
      "Loss all'epoca 100 = 0.1073\n",
      "Loss all'epoca 101 = 0.1126\n",
      "Loss all'epoca 102 = 0.1063\n",
      "Loss all'epoca 103 = 0.1091\n",
      "Loss all'epoca 104 = 0.1129\n",
      "Loss all'epoca 105 = 0.1115\n",
      "Loss all'epoca 106 = 0.1060\n",
      "Loss all'epoca 107 = 0.1085\n",
      "Loss all'epoca 108 = 0.1087\n",
      "Loss all'epoca 109 = 0.1087\n",
      "Loss all'epoca 110 = 0.1065\n",
      "Loss all'epoca 111 = 0.1189\n",
      "Loss all'epoca 112 = 0.1125\n",
      "Loss all'epoca 113 = 0.1114\n",
      "Loss all'epoca 114 = 0.1062\n",
      "Loss all'epoca 115 = 0.1062\n",
      "Loss all'epoca 116 = 0.1066\n",
      "Loss all'epoca 117 = 0.1078\n",
      "Loss all'epoca 118 = 0.1063\n",
      "Loss all'epoca 119 = 0.1065\n",
      "Loss all'epoca 120 = 0.1076\n",
      "Loss all'epoca 121 = 0.1059\n",
      "Loss all'epoca 122 = 0.1064\n",
      "Loss all'epoca 123 = 0.1056\n",
      "Loss all'epoca 124 = 0.1072\n",
      "Loss all'epoca 125 = 0.1067\n",
      "Loss all'epoca 126 = 0.1090\n",
      "Loss all'epoca 127 = 0.1059\n",
      "Loss all'epoca 128 = 0.1097\n",
      "Loss all'epoca 129 = 0.1062\n",
      "Loss all'epoca 130 = 0.1143\n",
      "Loss all'epoca 131 = 0.1073\n",
      "Loss all'epoca 132 = 0.1063\n",
      "Loss all'epoca 133 = 0.1076\n",
      "Loss all'epoca 134 = 0.1082\n",
      "Loss all'epoca 135 = 0.1120\n",
      "Loss all'epoca 136 = 0.1066\n",
      "Loss all'epoca 137 = 0.1074\n",
      "Loss all'epoca 138 = 0.1065\n",
      "Loss all'epoca 139 = 0.1116\n",
      "Loss all'epoca 140 = 0.1067\n",
      "Loss all'epoca 141 = 0.1071\n",
      "Loss all'epoca 142 = 0.1061\n",
      "Loss all'epoca 143 = 0.1061\n",
      "Loss all'epoca 144 = 0.1105\n",
      "Loss all'epoca 145 = 0.1095\n",
      "Loss all'epoca 146 = 0.1055\n",
      "Loss all'epoca 147 = 0.1059\n",
      "Loss all'epoca 148 = 0.1088\n",
      "Loss all'epoca 149 = 0.1053\n",
      "Loss all'epoca 150 = 0.1066\n",
      "Loss all'epoca 151 = 0.1055\n",
      "Loss all'epoca 152 = 0.1056\n",
      "Loss all'epoca 153 = 0.1082\n",
      "Loss all'epoca 154 = 0.1082\n",
      "Loss all'epoca 155 = 0.1058\n",
      "Loss all'epoca 156 = 0.1083\n",
      "Loss all'epoca 157 = 0.1079\n",
      "Loss all'epoca 158 = 0.1058\n",
      "Loss all'epoca 159 = 0.1061\n",
      "Loss all'epoca 160 = 0.1070\n",
      "Loss all'epoca 161 = 0.1073\n",
      "Loss all'epoca 162 = 0.1078\n",
      "Loss all'epoca 163 = 0.1077\n",
      "Loss all'epoca 164 = 0.1063\n",
      "Loss all'epoca 165 = 0.1075\n",
      "Loss all'epoca 166 = 0.1060\n",
      "Loss all'epoca 167 = 0.1081\n",
      "Loss all'epoca 168 = 0.1058\n",
      "Loss all'epoca 169 = 0.1054\n",
      "Loss all'epoca 170 = 0.1079\n",
      "Loss all'epoca 171 = 0.1064\n",
      "Loss all'epoca 172 = 0.1066\n",
      "Loss all'epoca 173 = 0.1070\n",
      "Loss all'epoca 174 = 0.1083\n",
      "Loss all'epoca 175 = 0.1062\n",
      "Loss all'epoca 176 = 0.1066\n",
      "Loss all'epoca 177 = 0.1060\n",
      "Loss all'epoca 178 = 0.1063\n",
      "Loss all'epoca 179 = 0.1067\n",
      "Loss all'epoca 180 = 0.1074\n",
      "Loss all'epoca 181 = 0.1062\n",
      "Loss all'epoca 182 = 0.1067\n",
      "Loss all'epoca 183 = 0.1063\n",
      "Loss all'epoca 184 = 0.1078\n",
      "Loss all'epoca 185 = 0.1072\n",
      "Loss all'epoca 186 = 0.1059\n",
      "Loss all'epoca 187 = 0.1067\n",
      "Loss all'epoca 188 = 0.1062\n",
      "Loss all'epoca 189 = 0.1069\n",
      "Loss all'epoca 190 = 0.1071\n",
      "Loss all'epoca 191 = 0.1063\n",
      "Loss all'epoca 192 = 0.1060\n",
      "Loss all'epoca 193 = 0.1055\n",
      "Loss all'epoca 194 = 0.1058\n",
      "Loss all'epoca 195 = 0.1062\n",
      "Loss all'epoca 196 = 0.1077\n",
      "Loss all'epoca 197 = 0.1054\n",
      "Loss all'epoca 198 = 0.1070\n",
      "Loss all'epoca 199 = 0.1060\n",
      "Loss all'epoca 200 = 0.1072\n"
     ]
    }
   ],
   "source": [
    "import matplotlib.pyplot as plt\n",
    "import numpy as np\n",
    "from sklearn.model_selection import train_test_split\n",
    "from sklearn.linear_model import LogisticRegression\n",
    "from sklearn.datasets import make_classification\n",
    "from sklearn.metrics import log_loss\n",
    "from sklearn.linear_model import SGDClassifier\n",
    "\n",
    "X, Y = make_classification(n_samples=1250, n_features=4, n_informative=2, random_state=0) #create classification problem ad hoc\n",
    "X_train, X_test, Y_train, Y_test = train_test_split(X,Y, test_size=0.2, random_state=0)\n",
    "\n",
    "epochs = 200\n",
    "\n",
    "n_batches=1\n",
    "\n",
    "batch_size = X_train.shape[0]/n_batches\n",
    "\n",
    "classes = np.unique(Y)\n",
    "\n",
    "sgd = SGDClassifier(loss=\"log\")\n",
    "full_losses = []\n",
    "\n",
    "for epoch in range(epochs):\n",
    "        loss = 0.\n",
    "        X_shuffled, Y_shuffled = shuffle(X_train, Y_train)\n",
    "        for batch in range(n_batches):\n",
    "            batch_start = int(batch*batch_size)\n",
    "            batch_end = int((batch+1)*batch_size)\n",
    "            X_batch = X_shuffled[batch_start:batch_end,:]\n",
    "            Y_batch = Y_shuffled[batch_start:batch_end]\n",
    "\n",
    "            sgd.partial_fit(X_batch, Y_batch, classes=classes)\n",
    "            loss = log_loss(Y_test, sgd.predict_proba(X_test),labels=classes)\n",
    "            full_losses.append(loss)       \n",
    "        print(\"Loss all'epoca %d = %.4f\" % (epoch+1, loss))"
   ]
  },
  {
   "cell_type": "markdown",
   "metadata": {},
   "source": [
    "We can plot the graph of function cost Fluctuation:"
   ]
  },
  {
   "cell_type": "code",
   "execution_count": 20,
   "metadata": {},
   "outputs": [
    {
     "data": {
      "text/plain": [
       "[<matplotlib.lines.Line2D at 0x25cabd0fb80>]"
      ]
     },
     "execution_count": 20,
     "metadata": {},
     "output_type": "execute_result"
    },
    {
     "data": {
      "image/png": "[encoded data removed]",
      "text/plain": [
       "<Figure size 1008x720 with 1 Axes>"
      ]
     },
     "metadata": {
      "needs_background": "light"
     },
     "output_type": "display_data"
    }
   ],
   "source": [
    "plt.figure(figsize=(14,10))\n",
    "plt.title(\"Gradient Descend\")\n",
    "plt.xlabel(\"Iterazione\")\n",
    "plt.ylabel(\"Log-Loss\")\n",
    "plt.plot(full_losses)"
   ]
  },
  {
   "cell_type": "markdown",
   "metadata": {},
   "source": [
    "\n",
    "### Stochastic Gradient Descend\n",
    "\n",
    "[class sklearn.linear_model.SGDClassifier(loss='hinge', *, penalty='l2', alpha=0.0001, l1_ratio=0.15, fit_intercept=True, max_iter=1000, tol=0.001, shuffle=True, verbose=0, epsilon=0.1, n_jobs=None, random_state=None, learning_rate='optimal', eta0=0.0, power_t=0.5, early_stopping=False, validation_fraction=0.1, n_iter_no_change=5, class_weight=None, warm_start=False, average=False)[source]](https://scikit-learn.org/stable/modules/generated/sklearn.linear_model.SGDClassifier.html?highlight=sgdclassifier#sklearn.linear_model.SGDClassifier)\n",
    "\n",
    "Alternative to Full Batch Gradient Descend is Stochastic Gradient Descend who train the set only with one example a time. After first iteration a second one began with the second example and so on. Pay attention because at the end of every epoch, train set must be shuffled to avoid loops.\n",
    "\n",
    "Advantages of Stochastic Gradient Descend:\n",
    "* less Memory usage\n",
    "* Dynamic\n",
    "* less sensitive to local minimum\n",
    "\n",
    "Disadvantages:\n",
    "* Costo Function Fluctuation during training may case problems to convergency\n",
    "\n",
    "Keep in mind the difference between iteration and epoch:\n",
    "* *Epoch* is a full train set iteration\n",
    "* *Iteration* is an element only iteration\n"
   ]
  },
  {
   "cell_type": "markdown",
   "metadata": {},
   "source": [
    "Let's try with a *stochastic Gradient Descend* Machine with standard method"
   ]
  },
  {
   "cell_type": "code",
   "execution_count": 13,
   "metadata": {},
   "outputs": [
    {
     "name": "stdout",
     "output_type": "stream",
     "text": [
      "LOSS: 0.3550\n"
     ]
    }
   ],
   "source": [
    "sgd = SGDClassifier(loss=\"log\", verbose=False, shuffle=True) #verbose show us info about training, shuffle allow to shuffle dataset after every epoch\n",
    "sgd.fit(X_train,Y_train)\n",
    "print(\"LOSS: %.4f\" % (log_loss(Y_test, sgd.predict_proba(X_test))))"
   ]
  },
  {
   "cell_type": "markdown",
   "metadata": {},
   "source": [
    "and now we tray step by step building manually a stochastic machine to look deeply inside cost function fluctuation"
   ]
  },
  {
   "cell_type": "code",
   "execution_count": 16,
   "metadata": {},
   "outputs": [
    {
     "name": "stdout",
     "output_type": "stream",
     "text": [
      "Loss epoch 1 = 1.1064\n",
      "Loss epoch 2 = 0.3939\n",
      "Loss epoch 3 = 0.3492\n",
      "Loss epoch 4 = 0.2040\n",
      "Loss epoch 5 = 0.1608\n"
     ]
    }
   ],
   "source": [
    "from sklearn.utils import shuffle\n",
    "\n",
    "epochs = 5 #set epoch only for this example\n",
    "\n",
    "n_batches=X_train.shape[0]\n",
    "batch_size = X_train.shape[0]/n_batches\n",
    "\n",
    "classes = np.unique(Y_train)\n",
    "\n",
    "sgd = SGDClassifier(loss=\"log\")\n",
    "sgd_losses = []\n",
    "\n",
    "for epoch in range(epochs): # 5 times\n",
    "        X_shuffled, Y_shuffled = shuffle(X_train, Y_train) #in this simulation we have to shuffle data manually\n",
    "        for batch in range(n_batches): # 6000 times\n",
    "            batch_start = int(batch*batch_size) #first loop = 0*1 = 0\n",
    "            batch_end = int((batch+1)*batch_size) #first loop = 1*1 = 1\n",
    "            X_batch = X_shuffled[batch_start:batch_end,:] #[0:1,:]\n",
    "            Y_batch = Y_shuffled[batch_start:batch_end] #[0:1]\n",
    "\n",
    "            sgd.partial_fit(X_batch, Y_batch, classes=classes)\n",
    "            loss = log_loss(Y_test, sgd.predict_proba(X_test),labels=classes)\n",
    "            sgd_losses.append(loss)       \n",
    "        print(\"Loss epoch %d = %.4f\" % (epoch+1, loss))"
   ]
  },
  {
   "cell_type": "markdown",
   "metadata": {},
   "source": [
    "print fluctuation graph"
   ]
  },
  {
   "cell_type": "code",
   "execution_count": 17,
   "metadata": {},
   "outputs": [
    {
     "data": {
      "text/plain": [
       "[<matplotlib.lines.Line2D at 0x25cabc9beb0>]"
      ]
     },
     "execution_count": 17,
     "metadata": {},
     "output_type": "execute_result"
    },
    {
     "data": {
      "image/png": "[encoded data removed]",
      "text/plain": [
       "<Figure size 1008x720 with 1 Axes>"
      ]
     },
     "metadata": {
      "needs_background": "light"
     },
     "output_type": "display_data"
    }
   ],
   "source": [
    "plt.figure(figsize=(14,10))\n",
    "plt.title(\"Stochastic Gradient Descend\")\n",
    "plt.xlabel(\"Iterazione\")\n",
    "plt.ylabel(\"Log-Loss\")\n",
    "plt.plot(sgd_losses)"
   ]
  },
  {
   "cell_type": "markdown",
   "metadata": {},
   "source": [
    "\n",
    "### Mini Batch Gradient Descend\n",
    "\n",
    "it is in the middle between stochastic and full gradient descend, cost function will fluctuate but not as in stochastic gradient descend. Batch Size will be another hyper parameter to set."
   ]
  },
  {
   "cell_type": "code",
   "execution_count": 21,
   "metadata": {},
   "outputs": [
    {
     "name": "stdout",
     "output_type": "stream",
     "text": [
      "(100, 4)\n",
      "(100, 4)\n",
      "(100, 4)\n",
      "(100, 4)\n",
      "(100, 4)\n",
      "(100, 4)\n",
      "(100, 4)\n",
      "(100, 4)\n",
      "(100, 4)\n",
      "(100, 4)\n",
      "Loss all'epoca 1 = 0.4790\n",
      "(100, 4)\n",
      "(100, 4)\n",
      "(100, 4)\n",
      "(100, 4)\n",
      "(100, 4)\n",
      "(100, 4)\n",
      "(100, 4)\n",
      "(100, 4)\n",
      "(100, 4)\n",
      "(100, 4)\n",
      "Loss all'epoca 2 = 0.5545\n",
      "(100, 4)\n",
      "(100, 4)\n",
      "(100, 4)\n",
      "(100, 4)\n",
      "(100, 4)\n",
      "(100, 4)\n",
      "(100, 4)\n",
      "(100, 4)\n",
      "(100, 4)\n",
      "(100, 4)\n",
      "Loss all'epoca 3 = 0.2058\n",
      "(100, 4)\n",
      "(100, 4)\n",
      "(100, 4)\n",
      "(100, 4)\n",
      "(100, 4)\n",
      "(100, 4)\n",
      "(100, 4)\n",
      "(100, 4)\n",
      "(100, 4)\n",
      "(100, 4)\n",
      "Loss all'epoca 4 = 0.2279\n",
      "(100, 4)\n",
      "(100, 4)\n",
      "(100, 4)\n",
      "(100, 4)\n",
      "(100, 4)\n",
      "(100, 4)\n",
      "(100, 4)\n",
      "(100, 4)\n",
      "(100, 4)\n",
      "(100, 4)\n",
      "Loss all'epoca 5 = 0.2325\n",
      "(100, 4)\n",
      "(100, 4)\n",
      "(100, 4)\n",
      "(100, 4)\n",
      "(100, 4)\n",
      "(100, 4)\n",
      "(100, 4)\n",
      "(100, 4)\n",
      "(100, 4)\n",
      "(100, 4)\n",
      "Loss all'epoca 6 = 0.3214\n",
      "(100, 4)\n",
      "(100, 4)\n",
      "(100, 4)\n",
      "(100, 4)\n",
      "(100, 4)\n",
      "(100, 4)\n",
      "(100, 4)\n",
      "(100, 4)\n",
      "(100, 4)\n",
      "(100, 4)\n",
      "Loss all'epoca 7 = 0.1545\n",
      "(100, 4)\n",
      "(100, 4)\n",
      "(100, 4)\n",
      "(100, 4)\n",
      "(100, 4)\n",
      "(100, 4)\n",
      "(100, 4)\n",
      "(100, 4)\n",
      "(100, 4)\n",
      "(100, 4)\n",
      "Loss all'epoca 8 = 0.1724\n",
      "(100, 4)\n",
      "(100, 4)\n",
      "(100, 4)\n",
      "(100, 4)\n",
      "(100, 4)\n",
      "(100, 4)\n",
      "(100, 4)\n",
      "(100, 4)\n",
      "(100, 4)\n",
      "(100, 4)\n",
      "Loss all'epoca 9 = 0.4117\n",
      "(100, 4)\n",
      "(100, 4)\n",
      "(100, 4)\n",
      "(100, 4)\n",
      "(100, 4)\n",
      "(100, 4)\n",
      "(100, 4)\n",
      "(100, 4)\n",
      "(100, 4)\n",
      "(100, 4)\n",
      "Loss all'epoca 10 = 0.1419\n",
      "(100, 4)\n",
      "(100, 4)\n",
      "(100, 4)\n",
      "(100, 4)\n",
      "(100, 4)\n",
      "(100, 4)\n",
      "(100, 4)\n",
      "(100, 4)\n",
      "(100, 4)\n",
      "(100, 4)\n",
      "Loss all'epoca 11 = 0.1202\n",
      "(100, 4)\n",
      "(100, 4)\n",
      "(100, 4)\n",
      "(100, 4)\n",
      "(100, 4)\n",
      "(100, 4)\n",
      "(100, 4)\n",
      "(100, 4)\n",
      "(100, 4)\n",
      "(100, 4)\n",
      "Loss all'epoca 12 = 0.1155\n",
      "(100, 4)\n",
      "(100, 4)\n",
      "(100, 4)\n",
      "(100, 4)\n",
      "(100, 4)\n",
      "(100, 4)\n",
      "(100, 4)\n",
      "(100, 4)\n",
      "(100, 4)\n",
      "(100, 4)\n",
      "Loss all'epoca 13 = 0.1595\n",
      "(100, 4)\n",
      "(100, 4)\n",
      "(100, 4)\n",
      "(100, 4)\n",
      "(100, 4)\n",
      "(100, 4)\n",
      "(100, 4)\n",
      "(100, 4)\n",
      "(100, 4)\n",
      "(100, 4)\n",
      "Loss all'epoca 14 = 0.1114\n",
      "(100, 4)\n",
      "(100, 4)\n",
      "(100, 4)\n",
      "(100, 4)\n",
      "(100, 4)\n",
      "(100, 4)\n",
      "(100, 4)\n",
      "(100, 4)\n",
      "(100, 4)\n",
      "(100, 4)\n",
      "Loss all'epoca 15 = 0.1284\n",
      "(100, 4)\n",
      "(100, 4)\n",
      "(100, 4)\n",
      "(100, 4)\n",
      "(100, 4)\n",
      "(100, 4)\n",
      "(100, 4)\n",
      "(100, 4)\n",
      "(100, 4)\n",
      "(100, 4)\n",
      "Loss all'epoca 16 = 0.1198\n",
      "(100, 4)\n",
      "(100, 4)\n",
      "(100, 4)\n",
      "(100, 4)\n",
      "(100, 4)\n",
      "(100, 4)\n",
      "(100, 4)\n",
      "(100, 4)\n",
      "(100, 4)\n",
      "(100, 4)\n",
      "Loss all'epoca 17 = 0.1305\n",
      "(100, 4)\n",
      "(100, 4)\n",
      "(100, 4)\n",
      "(100, 4)\n",
      "(100, 4)\n",
      "(100, 4)\n",
      "(100, 4)\n",
      "(100, 4)\n",
      "(100, 4)\n",
      "(100, 4)\n",
      "Loss all'epoca 18 = 0.1320\n",
      "(100, 4)\n",
      "(100, 4)\n",
      "(100, 4)\n",
      "(100, 4)\n",
      "(100, 4)\n",
      "(100, 4)\n",
      "(100, 4)\n",
      "(100, 4)\n",
      "(100, 4)\n",
      "(100, 4)\n",
      "Loss all'epoca 19 = 0.2166\n",
      "(100, 4)\n",
      "(100, 4)\n",
      "(100, 4)\n",
      "(100, 4)\n",
      "(100, 4)\n",
      "(100, 4)\n",
      "(100, 4)\n",
      "(100, 4)\n",
      "(100, 4)\n",
      "(100, 4)\n",
      "Loss all'epoca 20 = 0.1138\n",
      "(100, 4)\n",
      "(100, 4)\n",
      "(100, 4)\n",
      "(100, 4)\n",
      "(100, 4)\n",
      "(100, 4)\n",
      "(100, 4)\n",
      "(100, 4)\n",
      "(100, 4)\n",
      "(100, 4)\n",
      "Loss all'epoca 21 = 0.1211\n",
      "(100, 4)\n",
      "(100, 4)\n",
      "(100, 4)\n",
      "(100, 4)\n",
      "(100, 4)\n",
      "(100, 4)\n",
      "(100, 4)\n",
      "(100, 4)\n",
      "(100, 4)\n",
      "(100, 4)\n",
      "Loss all'epoca 22 = 0.1182\n",
      "(100, 4)\n",
      "(100, 4)\n",
      "(100, 4)\n",
      "(100, 4)\n",
      "(100, 4)\n",
      "(100, 4)\n",
      "(100, 4)\n",
      "(100, 4)\n",
      "(100, 4)\n",
      "(100, 4)\n",
      "Loss all'epoca 23 = 0.1106\n",
      "(100, 4)\n",
      "(100, 4)\n",
      "(100, 4)\n",
      "(100, 4)\n",
      "(100, 4)\n",
      "(100, 4)\n",
      "(100, 4)\n",
      "(100, 4)\n",
      "(100, 4)\n",
      "(100, 4)\n",
      "Loss all'epoca 24 = 0.1296\n",
      "(100, 4)\n",
      "(100, 4)\n",
      "(100, 4)\n",
      "(100, 4)\n",
      "(100, 4)\n",
      "(100, 4)\n",
      "(100, 4)\n",
      "(100, 4)\n",
      "(100, 4)\n",
      "(100, 4)\n",
      "Loss all'epoca 25 = 0.1343\n",
      "(100, 4)\n",
      "(100, 4)\n",
      "(100, 4)\n",
      "(100, 4)\n",
      "(100, 4)\n",
      "(100, 4)\n",
      "(100, 4)\n",
      "(100, 4)\n",
      "(100, 4)\n",
      "(100, 4)\n",
      "Loss all'epoca 26 = 0.1248\n",
      "(100, 4)\n",
      "(100, 4)\n",
      "(100, 4)\n",
      "(100, 4)\n",
      "(100, 4)\n",
      "(100, 4)\n",
      "(100, 4)\n",
      "(100, 4)\n",
      "(100, 4)\n",
      "(100, 4)\n",
      "Loss all'epoca 27 = 0.1119\n",
      "(100, 4)\n",
      "(100, 4)\n",
      "(100, 4)\n",
      "(100, 4)\n",
      "(100, 4)\n",
      "(100, 4)\n",
      "(100, 4)\n",
      "(100, 4)\n",
      "(100, 4)\n",
      "(100, 4)\n",
      "Loss all'epoca 28 = 0.1118\n",
      "(100, 4)\n",
      "(100, 4)\n",
      "(100, 4)\n",
      "(100, 4)\n",
      "(100, 4)\n",
      "(100, 4)\n",
      "(100, 4)\n",
      "(100, 4)\n",
      "(100, 4)\n",
      "(100, 4)\n",
      "Loss all'epoca 29 = 0.1077\n",
      "(100, 4)\n",
      "(100, 4)\n",
      "(100, 4)\n",
      "(100, 4)\n",
      "(100, 4)\n",
      "(100, 4)\n",
      "(100, 4)\n",
      "(100, 4)\n",
      "(100, 4)\n",
      "(100, 4)\n",
      "Loss all'epoca 30 = 0.1177\n",
      "(100, 4)\n",
      "(100, 4)\n",
      "(100, 4)\n",
      "(100, 4)\n",
      "(100, 4)\n",
      "(100, 4)\n",
      "(100, 4)\n",
      "(100, 4)\n",
      "(100, 4)\n",
      "(100, 4)\n",
      "Loss all'epoca 31 = 0.1199\n",
      "(100, 4)\n",
      "(100, 4)\n",
      "(100, 4)\n",
      "(100, 4)\n",
      "(100, 4)\n",
      "(100, 4)\n",
      "(100, 4)\n",
      "(100, 4)\n",
      "(100, 4)\n",
      "(100, 4)\n",
      "Loss all'epoca 32 = 0.1080\n",
      "(100, 4)\n",
      "(100, 4)\n",
      "(100, 4)\n",
      "(100, 4)\n",
      "(100, 4)\n",
      "(100, 4)\n",
      "(100, 4)\n",
      "(100, 4)\n",
      "(100, 4)\n",
      "(100, 4)\n",
      "Loss all'epoca 33 = 0.1116\n",
      "(100, 4)\n",
      "(100, 4)\n",
      "(100, 4)\n",
      "(100, 4)\n",
      "(100, 4)\n",
      "(100, 4)\n",
      "(100, 4)\n",
      "(100, 4)\n",
      "(100, 4)\n",
      "(100, 4)\n",
      "Loss all'epoca 34 = 0.1111\n",
      "(100, 4)\n",
      "(100, 4)\n",
      "(100, 4)\n",
      "(100, 4)\n",
      "(100, 4)\n",
      "(100, 4)\n",
      "(100, 4)\n",
      "(100, 4)\n",
      "(100, 4)\n",
      "(100, 4)\n",
      "Loss all'epoca 35 = 0.1067\n",
      "(100, 4)\n",
      "(100, 4)\n",
      "(100, 4)\n",
      "(100, 4)\n",
      "(100, 4)\n",
      "(100, 4)\n",
      "(100, 4)\n",
      "(100, 4)\n",
      "(100, 4)\n",
      "(100, 4)\n",
      "Loss all'epoca 36 = 0.1063\n",
      "(100, 4)\n",
      "(100, 4)\n",
      "(100, 4)\n",
      "(100, 4)\n",
      "(100, 4)\n",
      "(100, 4)\n",
      "(100, 4)\n",
      "(100, 4)\n",
      "(100, 4)\n",
      "(100, 4)\n",
      "Loss all'epoca 37 = 0.1140\n",
      "(100, 4)\n",
      "(100, 4)\n",
      "(100, 4)\n",
      "(100, 4)\n",
      "(100, 4)\n",
      "(100, 4)\n",
      "(100, 4)\n",
      "(100, 4)\n",
      "(100, 4)\n",
      "(100, 4)\n",
      "Loss all'epoca 38 = 0.1062\n",
      "(100, 4)\n",
      "(100, 4)\n",
      "(100, 4)\n",
      "(100, 4)\n",
      "(100, 4)\n",
      "(100, 4)\n",
      "(100, 4)\n",
      "(100, 4)\n",
      "(100, 4)\n",
      "(100, 4)\n",
      "Loss all'epoca 39 = 0.1062\n",
      "(100, 4)\n",
      "(100, 4)\n",
      "(100, 4)\n",
      "(100, 4)\n",
      "(100, 4)\n",
      "(100, 4)\n",
      "(100, 4)\n",
      "(100, 4)\n",
      "(100, 4)\n",
      "(100, 4)\n",
      "Loss all'epoca 40 = 0.1134\n",
      "(100, 4)\n",
      "(100, 4)\n",
      "(100, 4)\n",
      "(100, 4)\n",
      "(100, 4)\n",
      "(100, 4)\n",
      "(100, 4)\n",
      "(100, 4)\n",
      "(100, 4)\n",
      "(100, 4)\n",
      "Loss all'epoca 41 = 0.1127\n",
      "(100, 4)\n",
      "(100, 4)\n",
      "(100, 4)\n",
      "(100, 4)\n",
      "(100, 4)\n",
      "(100, 4)\n",
      "(100, 4)\n",
      "(100, 4)\n",
      "(100, 4)\n",
      "(100, 4)\n",
      "Loss all'epoca 42 = 0.1258\n",
      "(100, 4)\n",
      "(100, 4)\n",
      "(100, 4)\n",
      "(100, 4)\n",
      "(100, 4)\n",
      "(100, 4)\n",
      "(100, 4)\n",
      "(100, 4)\n",
      "(100, 4)\n",
      "(100, 4)\n",
      "Loss all'epoca 43 = 0.1099\n",
      "(100, 4)\n",
      "(100, 4)\n",
      "(100, 4)\n",
      "(100, 4)\n",
      "(100, 4)\n",
      "(100, 4)\n",
      "(100, 4)\n",
      "(100, 4)\n",
      "(100, 4)\n",
      "(100, 4)\n",
      "Loss all'epoca 44 = 0.1144\n",
      "(100, 4)\n",
      "(100, 4)\n",
      "(100, 4)\n",
      "(100, 4)\n",
      "(100, 4)\n",
      "(100, 4)\n",
      "(100, 4)\n",
      "(100, 4)\n",
      "(100, 4)\n",
      "(100, 4)\n",
      "Loss all'epoca 45 = 0.1129\n",
      "(100, 4)\n",
      "(100, 4)\n",
      "(100, 4)\n",
      "(100, 4)\n",
      "(100, 4)\n",
      "(100, 4)\n",
      "(100, 4)\n",
      "(100, 4)\n",
      "(100, 4)\n",
      "(100, 4)\n",
      "Loss all'epoca 46 = 0.1074\n",
      "(100, 4)\n",
      "(100, 4)\n",
      "(100, 4)\n",
      "(100, 4)\n",
      "(100, 4)\n",
      "(100, 4)\n",
      "(100, 4)\n",
      "(100, 4)\n",
      "(100, 4)\n",
      "(100, 4)\n",
      "Loss all'epoca 47 = 0.1074\n",
      "(100, 4)\n",
      "(100, 4)\n",
      "(100, 4)\n",
      "(100, 4)\n",
      "(100, 4)\n",
      "(100, 4)\n",
      "(100, 4)\n",
      "(100, 4)\n",
      "(100, 4)\n",
      "(100, 4)\n",
      "Loss all'epoca 48 = 0.1064\n",
      "(100, 4)\n",
      "(100, 4)\n",
      "(100, 4)\n",
      "(100, 4)\n",
      "(100, 4)\n",
      "(100, 4)\n",
      "(100, 4)\n",
      "(100, 4)\n",
      "(100, 4)\n",
      "(100, 4)\n",
      "Loss all'epoca 49 = 0.1123\n",
      "(100, 4)\n",
      "(100, 4)\n",
      "(100, 4)\n",
      "(100, 4)\n",
      "(100, 4)\n",
      "(100, 4)\n",
      "(100, 4)\n",
      "(100, 4)\n",
      "(100, 4)\n",
      "(100, 4)\n",
      "Loss all'epoca 50 = 0.1085\n"
     ]
    }
   ],
   "source": [
    "epochs = 50\n",
    "\n",
    "n_batches=10\n",
    "\n",
    "batch_size = X_train.shape[0]/n_batches\n",
    "\n",
    "classes = np.unique(Y)\n",
    "\n",
    "sgd = SGDClassifier(loss=\"log\")\n",
    "batch_losses = []\n",
    "\n",
    "for epoch in range(epochs):\n",
    "        X_shuffled, Y_shuffled = shuffle(X_train, Y_train)\n",
    "        for batch in range(n_batches):\n",
    "            batch_start = int(batch*batch_size)\n",
    "            batch_end = int((batch+1)*batch_size)\n",
    "            X_batch = X_shuffled[batch_start:batch_end,:]\n",
    "            Y_batch = Y_shuffled[batch_start:batch_end]\n",
    "            print(X_batch.shape)\n",
    "            sgd.partial_fit(X_batch, Y_batch, classes=classes)\n",
    "            loss = log_loss(Y_test, sgd.predict_proba(X_test),labels=classes)\n",
    "            batch_losses.append(loss)       \n",
    "        print(\"Loss all'epoca %d = %.4f\" % (epoch+1, loss))"
   ]
  },
  {
   "cell_type": "code",
   "execution_count": 22,
   "metadata": {},
   "outputs": [
    {
     "data": {
      "text/plain": [
       "[<matplotlib.lines.Line2D at 0x25cabf8f670>]"
      ]
     },
     "execution_count": 22,
     "metadata": {},
     "output_type": "execute_result"
    },
    {
     "data": {
      "image/png": "[encoded data removed]",
      "text/plain": [
       "<Figure size 1008x720 with 1 Axes>"
      ]
     },
     "metadata": {
      "needs_background": "light"
     },
     "output_type": "display_data"
    }
   ],
   "source": [
    "plt.figure(figsize=(14,10))\n",
    "plt.title(\"Batch Gradient Descend\")\n",
    "plt.xlabel(\"Iterazione\")\n",
    "plt.ylabel(\"Log-Loss\")\n",
    "plt.plot(batch_losses)"
   ]
  },
  {
   "cell_type": "markdown",
   "metadata": {},
   "source": [
    "As we can see fluctuation is maximized with Stochastic Gradient Descend with Batch_size = 1, and minimized with Full Batch Gradient Descend, we will have to set *Batch_size* properly to minimize Fluctuation and to maximize saving of resources."
   ]
  },
  {
   "cell_type": "code",
   "execution_count": 23,
   "metadata": {},
   "outputs": [
    {
     "data": {
      "image/png": "[encoded data removed]",
      "text/plain": [
       "<Figure size 1008x720 with 1 Axes>"
      ]
     },
     "metadata": {
      "needs_background": "light"
     },
     "output_type": "display_data"
    }
   ],
   "source": [
    "plt.figure(figsize=(14,10))\n",
    "plt.plot(batch_losses, label=\"Batch\")\n",
    "plt.plot(sgd_losses, label=\"Stochastic\")\n",
    "plt.plot(full_losses,label=\"Full\")\n",
    "plt.xlim(xmin=0,xmax=200)\n",
    "plt.legend()\n",
    "plt.show()"
   ]
  },
  {
   "cell_type": "markdown",
   "metadata": {},
   "source": [
    "## Cross Validation\n",
    "\n",
    "### Validation set\n",
    "\n",
    "During iteration * mode -> train -> test* the risk is Data Leakage: Overfitting on Test set, to avoid this type of overfitting we can split Data set in 3 parts: Train part, Validation part and Test part. In this matter we will loop only on *model -> train -> Validation* avoiding overfitting on test. \n",
    "\n",
    "problems:\n",
    "1. first problem is that another subset mean train set reduction (set are not unlimited)\n",
    "2. Model may be depend on set split\n",
    "\n",
    "### K-Fold Cross Validation\n",
    "\n",
    "[class sklearn.model_selection.KFold(n_splits=5, *, shuffle=False, random_state=None)](https://scikit-learn.org/stable/modules/generated/sklearn.model_selection.KFold.html?highlight=kfold#sklearn.model_selection.KFold)\n",
    "\n",
    "Alternative to *Validation set* is K-Fold Cross Validation: with this method we split set in 4 parts and then we loop on parts to train and test.\n",
    "\n",
    "first loop we use first folder as validation set, we train machine with folder 2, 3, 4 and we validate results with folder 1.\n",
    "\n",
    "Second Loop we use second folder as validation set, we train with folder 1, 3, 4.\n",
    "\n",
    "Third Loop we use Third Folder as validation set, we train with folders 1, 2, 4.\n",
    "\n",
    "Last loop we use Forth Folder as validation set, we train with folders 1, 2, 3.\n",
    "\n",
    "Best practices says that it's a good thing to split set in 5 and use 1/5 of the set as Final Test Set.\n",
    "\n",
    "![](img/6.png)\n",
    "\n",
    "step by step:\n",
    "1. create test sent and train set\n",
    "2. Choose model type and Hyperparameter to use\n",
    "3. Train model through cross validation using train set\n",
    "4. Repeat step 2 and 3 until results are good\n",
    "5. Train model on entire train set\n",
    "6. Test model on test set\n",
    "7. Check the result, if it is not good return to step 2\n",
    "\n",
    "How many folds we should use? Usually 10 is a good number but\n",
    "* medium size dataset -> 10 folders\n",
    "* big size dataset -> 5 folders\n",
    "* small size dataset -> 20 folders\n",
    "* very very small size dataset -> *n* folders where *n* is examples number -> **Leave one out cross validation**\n",
    "\n",
    "We try Cross validation on iris_set"
   ]
  },
  {
   "cell_type": "code",
   "execution_count": 28,
   "metadata": {},
   "outputs": [
    {
     "data": {
      "text/html": [
       "<div>\n",
       "<style scoped>\n",
       "    .dataframe tbody tr th:only-of-type {\n",
       "        vertical-align: middle;\n",
       "    }\n",
       "\n",
       "    .dataframe tbody tr th {\n",
       "        vertical-align: top;\n",
       "    }\n",
       "\n",
       "    .dataframe thead th {\n",
       "        text-align: right;\n",
       "    }\n",
       "</style>\n",
       "<table border=\"1\" class=\"dataframe\">\n",
       "  <thead>\n",
       "    <tr style=\"text-align: right;\">\n",
       "      <th></th>\n",
       "      <th>sepal length</th>\n",
       "      <th>sepal width</th>\n",
       "      <th>petal length</th>\n",
       "      <th>petal width</th>\n",
       "      <th>class</th>\n",
       "    </tr>\n",
       "  </thead>\n",
       "  <tbody>\n",
       "    <tr>\n",
       "      <th>0</th>\n",
       "      <td>5.1</td>\n",
       "      <td>3.5</td>\n",
       "      <td>1.4</td>\n",
       "      <td>0.2</td>\n",
       "      <td>Iris-setosa</td>\n",
       "    </tr>\n",
       "    <tr>\n",
       "      <th>1</th>\n",
       "      <td>4.9</td>\n",
       "      <td>3.0</td>\n",
       "      <td>1.4</td>\n",
       "      <td>0.2</td>\n",
       "      <td>Iris-setosa</td>\n",
       "    </tr>\n",
       "    <tr>\n",
       "      <th>2</th>\n",
       "      <td>4.7</td>\n",
       "      <td>3.2</td>\n",
       "      <td>1.3</td>\n",
       "      <td>0.2</td>\n",
       "      <td>Iris-setosa</td>\n",
       "    </tr>\n",
       "    <tr>\n",
       "      <th>3</th>\n",
       "      <td>4.6</td>\n",
       "      <td>3.1</td>\n",
       "      <td>1.5</td>\n",
       "      <td>0.2</td>\n",
       "      <td>Iris-setosa</td>\n",
       "    </tr>\n",
       "    <tr>\n",
       "      <th>4</th>\n",
       "      <td>5.0</td>\n",
       "      <td>3.6</td>\n",
       "      <td>1.4</td>\n",
       "      <td>0.2</td>\n",
       "      <td>Iris-setosa</td>\n",
       "    </tr>\n",
       "  </tbody>\n",
       "</table>\n",
       "</div>"
      ],
      "text/plain": [
       "   sepal length  sepal width  petal length  petal width        class\n",
       "0           5.1          3.5           1.4          0.2  Iris-setosa\n",
       "1           4.9          3.0           1.4          0.2  Iris-setosa\n",
       "2           4.7          3.2           1.3          0.2  Iris-setosa\n",
       "3           4.6          3.1           1.5          0.2  Iris-setosa\n",
       "4           5.0          3.6           1.4          0.2  Iris-setosa"
      ]
     },
     "execution_count": 28,
     "metadata": {},
     "output_type": "execute_result"
    }
   ],
   "source": [
    "import matplotlib.pyplot as plt\n",
    "import pandas as pd\n",
    "import numpy as np\n",
    "from sklearn.linear_model import LogisticRegression\n",
    "from sklearn.model_selection import train_test_split\n",
    "\n",
    "iris = pd.read_csv(\"https://archive.ics.uci.edu/ml/machine-learning-databases/iris/iris.data\", names=[\"sepal length\",\"sepal width\",\"petal length\",\"petal width\",\"class\"])\n",
    "iris.head()"
   ]
  },
  {
   "cell_type": "code",
   "execution_count": 34,
   "metadata": {},
   "outputs": [
    {
     "name": "stdout",
     "output_type": "stream",
     "text": [
      "Fold 0: Accuracy=1.00\n",
      "Fold 1: Accuracy=1.00\n",
      "Fold 2: Accuracy=0.91\n",
      "Fold 3: Accuracy=1.00\n"
     ]
    },
    {
     "name": "stderr",
     "output_type": "stream",
     "text": [
      "c:\\Users\\miche\\anaconda3\\lib\\site-packages\\sklearn\\linear_model\\_logistic.py:814: ConvergenceWarning: lbfgs failed to converge (status=1):\n",
      "STOP: TOTAL NO. of ITERATIONS REACHED LIMIT.\n",
      "\n",
      "Increase the number of iterations (max_iter) or scale the data as shown in:\n",
      "    https://scikit-learn.org/stable/modules/preprocessing.html\n",
      "Please also refer to the documentation for alternative solver options:\n",
      "    https://scikit-learn.org/stable/modules/linear_model.html#logistic-regression\n",
      "  n_iter_i = _check_optimize_result(\n"
     ]
    },
    {
     "name": "stdout",
     "output_type": "stream",
     "text": [
      "Fold 4: Accuracy=1.00\n",
      "Fold 5: Accuracy=0.90\n",
      "Fold 6: Accuracy=1.00\n",
      "Fold 7: Accuracy=1.00\n",
      "Fold 8: Accuracy=1.00\n",
      "Fold 9: Accuracy=0.90\n"
     ]
    },
    {
     "name": "stderr",
     "output_type": "stream",
     "text": [
      "c:\\Users\\miche\\anaconda3\\lib\\site-packages\\sklearn\\linear_model\\_logistic.py:814: ConvergenceWarning: lbfgs failed to converge (status=1):\n",
      "STOP: TOTAL NO. of ITERATIONS REACHED LIMIT.\n",
      "\n",
      "Increase the number of iterations (max_iter) or scale the data as shown in:\n",
      "    https://scikit-learn.org/stable/modules/preprocessing.html\n",
      "Please also refer to the documentation for alternative solver options:\n",
      "    https://scikit-learn.org/stable/modules/linear_model.html#logistic-regression\n",
      "  n_iter_i = _check_optimize_result(\n"
     ]
    }
   ],
   "source": [
    "X = iris.drop(\"class\",axis=1).values\n",
    "Y = iris[\"class\"].values\n",
    "\n",
    "X_train, X_test, Y_train, Y_test = train_test_split(X, Y, test_size=0.3, random_state=1)\n",
    "\n",
    "from sklearn.model_selection import KFold\n",
    "\n",
    "lr = LogisticRegression()\n",
    "\n",
    "kfold = KFold(n_splits=10, shuffle=True)\n",
    "scores = []\n",
    "              \n",
    "for k, (train, test) in enumerate(kfold.split(X_train)):\n",
    "    lr.fit(X_train[train], Y_train[train])\n",
    "    score = lr.score(X_train[test],Y_train[test])\n",
    "    scores.append(score)\n",
    "    print(\"Fold %d: Accuracy=%.2f\" %(k, score))"
   ]
  },
  {
   "cell_type": "markdown",
   "metadata": {},
   "source": [
    "We can show total accuracy as mean of previous accuracies:"
   ]
  },
  {
   "cell_type": "code",
   "execution_count": 35,
   "metadata": {},
   "outputs": [
    {
     "name": "stdout",
     "output_type": "stream",
     "text": [
      "\n",
      "Validation Accuracy = 0.97\n"
     ]
    }
   ],
   "source": [
    "accuracy = np.array(scores).mean()\n",
    "print(\"\\nValidation Accuracy = %.2f\" % accuracy)"
   ]
  },
  {
   "cell_type": "markdown",
   "metadata": {},
   "source": [
    "Another option (more recommended) is to use internal scikit learn function:\n",
    "\n",
    "[sklearn.model_selection.cross_val_score(estimator, X, y=None, *, groups=None, scoring=None, cv=None, n_jobs=None, verbose=0, fit_params=None, pre_dispatch='2*n_jobs', error_score=nan)](https://scikit-learn.org/stable/modules/generated/sklearn.model_selection.cross_val_score.html?highlight=cross+val#sklearn.model_selection.cross_val_score)\n",
    "\n",
    "you can pass to this function your model and you can parallelize process on your cpu through parameter *n_jobs*\n"
   ]
  },
  {
   "cell_type": "code",
   "execution_count": 36,
   "metadata": {},
   "outputs": [
    {
     "name": "stderr",
     "output_type": "stream",
     "text": [
      "[Parallel(n_jobs=7)]: Using backend LokyBackend with 7 concurrent workers.\n"
     ]
    },
    {
     "name": "stdout",
     "output_type": "stream",
     "text": [
      "Fold 1 score=1.0000\n",
      "Fold 2 score=1.0000\n",
      "Fold 3 score=1.0000\n",
      "Fold 4 score=0.9091\n",
      "Fold 5 score=1.0000\n",
      "Fold 6 score=0.9000\n",
      "Fold 7 score=1.0000\n",
      "Fold 8 score=0.9000\n",
      "Fold 9 score=1.0000\n",
      "Fold 10 score=1.0000\n",
      "\n",
      "Validation Accuracy = 0.97\n"
     ]
    },
    {
     "name": "stderr",
     "output_type": "stream",
     "text": [
      "[Parallel(n_jobs=7)]: Done   8 out of  10 | elapsed:   10.4s remaining:    2.5s\n",
      "[Parallel(n_jobs=7)]: Done  10 out of  10 | elapsed:   10.4s finished\n"
     ]
    }
   ],
   "source": [
    "from sklearn.model_selection import cross_val_score\n",
    "\n",
    "lr = LogisticRegression()\n",
    "scores = cross_val_score(lr, X_train, Y_train, cv=10, n_jobs=7, verbose=1)\n",
    "\n",
    "for fold,score in enumerate(scores):\n",
    "    print(\"Fold %d score=%.4f\" % (fold+1,score))\n",
    "    \n",
    "print(\"\\nValidation Accuracy = %.2f\" % scores.mean())"
   ]
  },
  {
   "cell_type": "markdown",
   "metadata": {},
   "source": [
    "\n",
    "**keep in mind that when your model is validated (model and hyperparameters), you MUST train your dataset entirely**"
   ]
  }
 ],
 "metadata": {
  "kernelspec": {
   "display_name": "Python 3.9.12 ('base')",
   "language": "python",
   "name": "python3"
  },
  "language_info": {
   "codemirror_mode": {
    "name": "ipython",
    "version": 3
   },
   "file_extension": ".py",
   "mimetype": "text/x-python",
   "name": "python",
   "nbconvert_exporter": "python",
   "pygments_lexer": "ipython3",
   "version": "3.9.12"
  },
  "orig_nbformat": 4,
  "vscode": {
   "interpreter": {
    "hash": "f82454df3ab4669350e470cecfad51160e6fdff8e76eafd19d8880dd92d922a3"
   }
  }
 },
 "nbformat": 4,
 "nbformat_minor": 2
}
